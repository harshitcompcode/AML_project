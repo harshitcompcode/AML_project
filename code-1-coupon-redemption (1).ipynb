{
 "cells": [
  {
   "cell_type": "code",
   "execution_count": 1,
   "metadata": {
    "_cell_guid": "b1076dfc-b9ad-4769-8c92-a6c4dae69d19",
    "_uuid": "8f2839f25d086af736a60e9eeb907d3b93b6e0e5"
   },
   "outputs": [
    {
     "name": "stdout",
     "output_type": "stream",
     "text": [
      "/kaggle/input/item_data.csv\n",
      "/kaggle/input/coupon_item_mapping.csv\n",
      "/kaggle/input/customer_transaction_data.csv\n",
      "/kaggle/input/test.csv\n",
      "/kaggle/input/train.csv\n",
      "/kaggle/input/customer_demographics.csv\n",
      "/kaggle/input/campaign_data.csv\n",
      "/kaggle/input/Schema.png\n"
     ]
    }
   ],
   "source": [
    "# This Python 3 environment comes with many helpful analytics libraries installed\n",
    "# It is defined by the kaggle/python docker image: https://github.com/kaggle/docker-python\n",
    "# For example, here's several helpful packages to load in \n",
    "\n",
    "import numpy as np # linear algebra\n",
    "import pandas as pd # data processing, CSV file I/O (e.g. pd.read_csv)\n",
    "\n",
    "# Input data files are available in the \"../input/\" directory.\n",
    "# For example, running this (by clicking run or pressing Shift+Enter) will list all files under the input directory\n",
    "\n",
    "import os\n",
    "for dirname, _, filenames in os.walk('/kaggle/input'):\n",
    "    for filename in filenames:\n",
    "        print(os.path.join(dirname, filename))\n",
    "\n",
    "# Any results you write to the current directory are saved as output."
   ]
  },
  {
   "cell_type": "code",
   "execution_count": 2,
   "metadata": {},
   "outputs": [
    {
     "name": "stdout",
     "output_type": "stream",
     "text": [
      "Schema.png\t\t customer_demographics.csv\ttest.csv\r\n",
      "campaign_data.csv\t customer_transaction_data.csv\ttrain.csv\r\n",
      "coupon_item_mapping.csv  item_data.csv\r\n"
     ]
    }
   ],
   "source": [
    "import numpy as np\n",
    "import pandas as pd\n",
    "import matplotlib.pyplot as plt\n",
    "import seaborn as sns\n",
    "import re\n",
    "from sklearn.preprocessing import LabelEncoder\n",
    "from scipy.stats import mode\n",
    "\n",
    "from sklearn.model_selection import GridSearchCV,RandomizedSearchCV,KFold\n",
    "from sklearn.metrics import classification_report,roc_auc_score,roc_curve\n",
    "from sklearn.model_selection import train_test_split, KFold\n",
    "from sklearn.preprocessing import StandardScaler\n",
    "from sklearn.linear_model import LogisticRegression\n",
    "from sklearn.neighbors import KNeighborsClassifier\n",
    "from sklearn.naive_bayes import GaussianNB\n",
    "from sklearn.tree import DecisionTreeClassifier\n",
    "from sklearn.ensemble import RandomForestClassifier,BaggingClassifier\n",
    "from sklearn.metrics import auc\n",
    "\n",
    "import os\n",
    "%matplotlib inline\n",
    "\n",
    "import warnings\n",
    "warnings.filterwarnings('ignore')\n",
    "\n",
    "pd.set_option('display.max_colwidth',500)\n",
    "pd.set_option('display.max_columns',5000)\n",
    "from IPython.display import Image\n",
    "import os\n",
    "!ls ../input/\n",
    "encoder = LabelEncoder()"
   ]
  },
  {
   "cell_type": "code",
   "execution_count": 3,
   "metadata": {
    "_cell_guid": "79c7e3d0-c299-4dcb-8224-4455121ee9b0",
    "_uuid": "d629ff2d2480ee46fbb7e2d37f6b5fab8052498a"
   },
   "outputs": [],
   "source": [
    "train = pd.read_csv('../input/train.csv')\n",
    "campaign = pd.read_csv('../input/campaign_data.csv')\n",
    "items = pd.read_csv('../input/item_data.csv')\n",
    "coupons = pd.read_csv('../input/coupon_item_mapping.csv')\n",
    "cust_demo = pd.read_csv('../input/customer_demographics.csv')\n",
    "cust_tran = pd.read_csv('../input/customer_transaction_data.csv')\n",
    "test = pd.read_csv('../input/test.csv')"
   ]
  },
  {
   "cell_type": "code",
   "execution_count": 4,
   "metadata": {},
   "outputs": [
    {
     "data": {
      "text/plain": [
       "((78369, 5),\n",
       " (28, 4),\n",
       " (74066, 4),\n",
       " (92663, 2),\n",
       " (760, 7),\n",
       " (1324566, 7),\n",
       " (50226, 4))"
      ]
     },
     "execution_count": 4,
     "metadata": {},
     "output_type": "execute_result"
    }
   ],
   "source": [
    "train.shape, campaign.shape, items.shape, coupons.shape, cust_demo.shape, cust_tran.shape, test.shape"
   ]
  },
  {
   "cell_type": "code",
   "execution_count": 5,
   "metadata": {},
   "outputs": [
    {
     "name": "stdout",
     "output_type": "stream",
     "text": [
      "Train Dataframe\n",
      "id                   0\n",
      "campaign_id          0\n",
      "coupon_id            0\n",
      "customer_id          0\n",
      "redemption_status    0\n",
      "dtype: int64\n",
      "======================\n",
      "Campaign Dataframe\n",
      "campaign_id      0\n",
      "campaign_type    0\n",
      "start_date       0\n",
      "end_date         0\n",
      "dtype: int64\n",
      "======================\n",
      "Items Dataframe\n",
      "item_id       0\n",
      "brand         0\n",
      "brand_type    0\n",
      "category      0\n",
      "dtype: int64\n",
      "======================\n",
      "Coupons Dataframe\n",
      "coupon_id    0\n",
      "item_id      0\n",
      "dtype: int64\n",
      "======================\n",
      "Customer Demographics Dataframe\n",
      "customer_id         0\n",
      "age_range           0\n",
      "marital_status    329\n",
      "rented              0\n",
      "family_size         0\n",
      "no_of_children    538\n",
      "income_bracket      0\n",
      "dtype: int64\n",
      "======================\n",
      "Customer Transaction Dataframe\n",
      "date               0\n",
      "customer_id        0\n",
      "item_id            0\n",
      "quantity           0\n",
      "selling_price      0\n",
      "other_discount     0\n",
      "coupon_discount    0\n",
      "dtype: int64\n",
      "======================\n",
      "id             0\n",
      "campaign_id    0\n",
      "coupon_id      0\n",
      "customer_id    0\n",
      "dtype: int64\n"
     ]
    }
   ],
   "source": [
    "print('Train Dataframe')\n",
    "print(train.isnull().sum())\n",
    "print('======================')\n",
    "print('Campaign Dataframe')\n",
    "print(campaign.isnull().sum())\n",
    "print('======================')\n",
    "print('Items Dataframe')\n",
    "print(items.isnull().sum())\n",
    "print('======================')\n",
    "print('Coupons Dataframe')\n",
    "print(coupons.isnull().sum())\n",
    "print('======================')\n",
    "print('Customer Demographics Dataframe')\n",
    "print(cust_demo.isnull().sum())\n",
    "print('======================')\n",
    "print('Customer Transaction Dataframe')\n",
    "print(cust_tran.isnull().sum())\n",
    "print('======================')\n",
    "\n",
    "print(test.isnull().sum())"
   ]
  },
  {
   "cell_type": "markdown",
   "metadata": {},
   "source": [
    "![](http://)![](http://)# Train Dataframe"
   ]
  },
  {
   "cell_type": "code",
   "execution_count": 6,
   "metadata": {},
   "outputs": [
    {
     "data": {
      "text/html": [
       "<div>\n",
       "<style scoped>\n",
       "    .dataframe tbody tr th:only-of-type {\n",
       "        vertical-align: middle;\n",
       "    }\n",
       "\n",
       "    .dataframe tbody tr th {\n",
       "        vertical-align: top;\n",
       "    }\n",
       "\n",
       "    .dataframe thead th {\n",
       "        text-align: right;\n",
       "    }\n",
       "</style>\n",
       "<table border=\"1\" class=\"dataframe\">\n",
       "  <thead>\n",
       "    <tr style=\"text-align: right;\">\n",
       "      <th></th>\n",
       "      <th>id</th>\n",
       "      <th>campaign_id</th>\n",
       "      <th>coupon_id</th>\n",
       "      <th>customer_id</th>\n",
       "      <th>redemption_status</th>\n",
       "    </tr>\n",
       "  </thead>\n",
       "  <tbody>\n",
       "    <tr>\n",
       "      <th>0</th>\n",
       "      <td>1</td>\n",
       "      <td>13</td>\n",
       "      <td>27</td>\n",
       "      <td>1053</td>\n",
       "      <td>0</td>\n",
       "    </tr>\n",
       "    <tr>\n",
       "      <th>1</th>\n",
       "      <td>2</td>\n",
       "      <td>13</td>\n",
       "      <td>116</td>\n",
       "      <td>48</td>\n",
       "      <td>0</td>\n",
       "    </tr>\n",
       "    <tr>\n",
       "      <th>2</th>\n",
       "      <td>6</td>\n",
       "      <td>9</td>\n",
       "      <td>635</td>\n",
       "      <td>205</td>\n",
       "      <td>0</td>\n",
       "    </tr>\n",
       "    <tr>\n",
       "      <th>3</th>\n",
       "      <td>7</td>\n",
       "      <td>13</td>\n",
       "      <td>644</td>\n",
       "      <td>1050</td>\n",
       "      <td>0</td>\n",
       "    </tr>\n",
       "    <tr>\n",
       "      <th>4</th>\n",
       "      <td>9</td>\n",
       "      <td>8</td>\n",
       "      <td>1017</td>\n",
       "      <td>1489</td>\n",
       "      <td>0</td>\n",
       "    </tr>\n",
       "  </tbody>\n",
       "</table>\n",
       "</div>"
      ],
      "text/plain": [
       "   id  campaign_id  coupon_id  customer_id  redemption_status\n",
       "0   1           13         27         1053                  0\n",
       "1   2           13        116           48                  0\n",
       "2   6            9        635          205                  0\n",
       "3   7           13        644         1050                  0\n",
       "4   9            8       1017         1489                  0"
      ]
     },
     "execution_count": 6,
     "metadata": {},
     "output_type": "execute_result"
    }
   ],
   "source": [
    "train.head()"
   ]
  },
  {
   "cell_type": "code",
   "execution_count": 7,
   "metadata": {},
   "outputs": [
    {
     "data": {
      "text/plain": [
       "0    99.069785\n",
       "1     0.930215\n",
       "Name: redemption_status, dtype: float64"
      ]
     },
     "execution_count": 7,
     "metadata": {},
     "output_type": "execute_result"
    }
   ],
   "source": [
    "train.redemption_status.value_counts(normalize=True)*100"
   ]
  },
  {
   "cell_type": "code",
   "execution_count": 8,
   "metadata": {},
   "outputs": [
    {
     "data": {
      "text/plain": [
       "Text(0, 0.5, 'redemption_status')"
      ]
     },
     "execution_count": 8,
     "metadata": {},
     "output_type": "execute_result"
    },
    {
     "data": {
      "image/png": "[encoded data removed]",
      "text/plain": [
       "<Figure size 432x288 with 1 Axes>"
      ]
     },
     "metadata": {
      "needs_background": "light"
     },
     "output_type": "display_data"
    }
   ],
   "source": [
    "value=train['redemption_status'].value_counts().plot(kind='bar')\n",
    "plt.ylabel('redemption_status')"
   ]
  },
  {
   "cell_type": "markdown",
   "metadata": {},
   "source": [
    "Inference\n",
    "\n",
    "The dataset is highly imbalanced. As of now proceeding with the same imbalanced data."
   ]
  },
  {
   "cell_type": "markdown",
   "metadata": {},
   "source": [
    "# Cleaning, Preprocessing and Feature Engineering"
   ]
  },
  {
   "cell_type": "markdown",
   "metadata": {},
   "source": [
    "## Dealing with Customer Demographic Dataframe"
   ]
  },
  {
   "cell_type": "code",
   "execution_count": 9,
   "metadata": {},
   "outputs": [
    {
     "data": {
      "text/html": [
       "<div>\n",
       "<style scoped>\n",
       "    .dataframe tbody tr th:only-of-type {\n",
       "        vertical-align: middle;\n",
       "    }\n",
       "\n",
       "    .dataframe tbody tr th {\n",
       "        vertical-align: top;\n",
       "    }\n",
       "\n",
       "    .dataframe thead th {\n",
       "        text-align: right;\n",
       "    }\n",
       "</style>\n",
       "<table border=\"1\" class=\"dataframe\">\n",
       "  <thead>\n",
       "    <tr style=\"text-align: right;\">\n",
       "      <th></th>\n",
       "      <th>customer_id</th>\n",
       "      <th>age_range</th>\n",
       "      <th>marital_status</th>\n",
       "      <th>rented</th>\n",
       "      <th>family_size</th>\n",
       "      <th>no_of_children</th>\n",
       "      <th>income_bracket</th>\n",
       "    </tr>\n",
       "  </thead>\n",
       "  <tbody>\n",
       "    <tr>\n",
       "      <th>0</th>\n",
       "      <td>1</td>\n",
       "      <td>70+</td>\n",
       "      <td>Married</td>\n",
       "      <td>0</td>\n",
       "      <td>2</td>\n",
       "      <td>NaN</td>\n",
       "      <td>4</td>\n",
       "    </tr>\n",
       "    <tr>\n",
       "      <th>1</th>\n",
       "      <td>6</td>\n",
       "      <td>46-55</td>\n",
       "      <td>Married</td>\n",
       "      <td>0</td>\n",
       "      <td>2</td>\n",
       "      <td>NaN</td>\n",
       "      <td>5</td>\n",
       "    </tr>\n",
       "    <tr>\n",
       "      <th>2</th>\n",
       "      <td>7</td>\n",
       "      <td>26-35</td>\n",
       "      <td>NaN</td>\n",
       "      <td>0</td>\n",
       "      <td>3</td>\n",
       "      <td>1</td>\n",
       "      <td>3</td>\n",
       "    </tr>\n",
       "    <tr>\n",
       "      <th>3</th>\n",
       "      <td>8</td>\n",
       "      <td>26-35</td>\n",
       "      <td>NaN</td>\n",
       "      <td>0</td>\n",
       "      <td>4</td>\n",
       "      <td>2</td>\n",
       "      <td>6</td>\n",
       "    </tr>\n",
       "    <tr>\n",
       "      <th>4</th>\n",
       "      <td>10</td>\n",
       "      <td>46-55</td>\n",
       "      <td>Single</td>\n",
       "      <td>0</td>\n",
       "      <td>1</td>\n",
       "      <td>NaN</td>\n",
       "      <td>5</td>\n",
       "    </tr>\n",
       "  </tbody>\n",
       "</table>\n",
       "</div>"
      ],
      "text/plain": [
       "   customer_id age_range marital_status  rented family_size no_of_children  \\\n",
       "0            1       70+        Married       0           2            NaN   \n",
       "1            6     46-55        Married       0           2            NaN   \n",
       "2            7     26-35            NaN       0           3              1   \n",
       "3            8     26-35            NaN       0           4              2   \n",
       "4           10     46-55         Single       0           1            NaN   \n",
       "\n",
       "   income_bracket  \n",
       "0               4  \n",
       "1               5  \n",
       "2               3  \n",
       "3               6  \n",
       "4               5  "
      ]
     },
     "execution_count": 9,
     "metadata": {},
     "output_type": "execute_result"
    }
   ],
   "source": [
    "cust_demo.head()"
   ]
  },
  {
   "cell_type": "code",
   "execution_count": 10,
   "metadata": {},
   "outputs": [
    {
     "name": "stdout",
     "output_type": "stream",
     "text": [
      "<class 'pandas.core.frame.DataFrame'>\n",
      "RangeIndex: 760 entries, 0 to 759\n",
      "Data columns (total 7 columns):\n",
      "customer_id       760 non-null int64\n",
      "age_range         760 non-null object\n",
      "marital_status    431 non-null object\n",
      "rented            760 non-null int64\n",
      "family_size       760 non-null object\n",
      "no_of_children    222 non-null object\n",
      "income_bracket    760 non-null int64\n",
      "dtypes: int64(3), object(4)\n",
      "memory usage: 41.7+ KB\n"
     ]
    }
   ],
   "source": [
    "cust_demo.info()"
   ]
  },
  {
   "cell_type": "code",
   "execution_count": 11,
   "metadata": {},
   "outputs": [
    {
     "data": {
      "text/plain": [
       "Married    317\n",
       "Single     114\n",
       "Name: marital_status, dtype: int64"
      ]
     },
     "execution_count": 11,
     "metadata": {},
     "output_type": "execute_result"
    }
   ],
   "source": [
    "cust_demo.marital_status.value_counts()"
   ]
  },
  {
   "cell_type": "code",
   "execution_count": 12,
   "metadata": {},
   "outputs": [
    {
     "data": {
      "text/plain": [
       "2     303\n",
       "1     248\n",
       "3     104\n",
       "5+     57\n",
       "4      48\n",
       "Name: family_size, dtype: int64"
      ]
     },
     "execution_count": 12,
     "metadata": {},
     "output_type": "execute_result"
    }
   ],
   "source": [
    "cust_demo.family_size.value_counts()"
   ]
  },
  {
   "cell_type": "code",
   "execution_count": 13,
   "metadata": {},
   "outputs": [
    {
     "data": {
      "text/plain": [
       "1     107\n",
       "3+     60\n",
       "2      55\n",
       "Name: no_of_children, dtype: int64"
      ]
     },
     "execution_count": 13,
     "metadata": {},
     "output_type": "execute_result"
    }
   ],
   "source": [
    "    cust_demo.no_of_children.value_counts()"
   ]
  },
  {
   "cell_type": "code",
   "execution_count": 14,
   "metadata": {},
   "outputs": [],
   "source": [
    "#The below lines of code is to get rid of the + and keeping 5+ as 5 and 3+ as 3 and converting the columns to int data type.\n",
    "#type of family size = int64 ... Cant apply astype as we have 5+ as family size\n",
    "#no of children = int64 ... we need to ignore the NaN values while converting to float\n",
    "cust_demo['family_size'] = cust_demo.family_size.apply(lambda x: int(re.sub('\\+','',x)))\n",
    "cust_demo['no_of_children'] = cust_demo.no_of_children.apply(lambda x: int(re.sub('\\+','',x)) if pd.notna(x) else x)"
   ]
  },
  {
   "cell_type": "code",
   "execution_count": 15,
   "metadata": {},
   "outputs": [],
   "source": [
    "#Filling NaN values for marital_status\n",
    "\n",
    "#customers with family size =1 will be single\n",
    "cust_demo.loc[pd.isnull(cust_demo.marital_status) & (cust_demo.family_size == 1),'marital_status'] = 'Single'\n",
    "\n",
    "#customers whos family size - no of childrens == 1, will also be single \n",
    "#This is applicable where there is only 1 parent --- We treat 1 parent as Single\n",
    "cust_demo.loc[(cust_demo.family_size - cust_demo.no_of_children == 1) & pd.isnull(cust_demo.marital_status),'marital_status'] = 'Single'\n",
    "\n",
    "#from the orignal data we have 186 of 196 customers with diff of 2 in their family size and number of childrens as\n",
    "#Married (see the below cell) and hence where ever the difference is 2 and marital status is NaN and No of Children is \n",
    "#NaN we impute the Mariatl Status with Married\n",
    "cust_demo.loc[(pd.isnull(cust_demo.marital_status)) & ((cust_demo.family_size - cust_demo.no_of_children) == 2)  \n",
    "              & (pd.notnull(cust_demo.no_of_children)),'marital_status'] = 'Married'\n",
    "\n",
    "#original data shows customers with fam size == 2, and NaN in no of childrens are majorly Married (see below cell skipping 1 cell)\n",
    "cust_demo.loc[pd.isnull(cust_demo.marital_status) & (pd.isnull(cust_demo.no_of_children)) \n",
    "              & (cust_demo.family_size ==2),'marital_status'] = 'Married'"
   ]
  },
  {
   "cell_type": "code",
   "execution_count": 16,
   "metadata": {},
   "outputs": [
    {
     "name": "stdout",
     "output_type": "stream",
     "text": [
      "marital_status\n",
      "Married    186\n",
      "Single      10\n",
      "Name: marital_status, dtype: int64\n"
     ]
    }
   ],
   "source": [
    "a = cust_demo.marital_status.groupby((cust_demo.family_size - cust_demo.no_of_children) == 2).value_counts()\n",
    "print(a[True])"
   ]
  },
  {
   "cell_type": "code",
   "execution_count": 17,
   "metadata": {},
   "outputs": [],
   "source": [
    "#b = cust_demo.marital_status.groupby((cust_demo.family_size) == 2 & pd.isnull(cust_demo.no_of_children)).value_counts()"
   ]
  },
  {
   "cell_type": "code",
   "execution_count": 18,
   "metadata": {},
   "outputs": [
    {
     "data": {
      "text/plain": [
       "0"
      ]
     },
     "execution_count": 18,
     "metadata": {},
     "output_type": "execute_result"
    }
   ],
   "source": [
    "cust_demo.marital_status.isnull().sum()"
   ]
  },
  {
   "cell_type": "code",
   "execution_count": 19,
   "metadata": {},
   "outputs": [],
   "source": [
    "#FillingNaN values for no of children\n",
    "\n",
    "#Married people with family_size ==2 will have 0 childrens\n",
    "cust_demo.loc[pd.isnull(cust_demo.no_of_children) & (cust_demo.marital_status == 'Married') & (cust_demo.family_size == 2),'no_of_children'] = 0\n",
    "\n",
    "#customers with family size 1 will have zero childrens\n",
    "cust_demo.loc[pd.isnull(cust_demo.no_of_children) & (cust_demo.family_size == 1), 'no_of_children'] = 0\n",
    "\n",
    "#singles with family size == 2, will probably have 1 child\n",
    "cust_demo.loc[pd.isnull(cust_demo.no_of_children) & (cust_demo.family_size == 2),'no_of_children'] = 1\n",
    "\n",
    "cust_demo['no_of_children']=cust_demo['no_of_children'].astype(np.int64)"
   ]
  },
  {
   "cell_type": "code",
   "execution_count": 20,
   "metadata": {},
   "outputs": [
    {
     "data": {
      "text/plain": [
       "0"
      ]
     },
     "execution_count": 20,
     "metadata": {},
     "output_type": "execute_result"
    }
   ],
   "source": [
    "cust_demo.no_of_children.isnull().sum()"
   ]
  },
  {
   "cell_type": "code",
   "execution_count": 21,
   "metadata": {},
   "outputs": [
    {
     "name": "stdout",
     "output_type": "stream",
     "text": [
      "<class 'pandas.core.frame.DataFrame'>\n",
      "RangeIndex: 760 entries, 0 to 759\n",
      "Data columns (total 7 columns):\n",
      "customer_id       760 non-null int64\n",
      "age_range         760 non-null object\n",
      "marital_status    760 non-null object\n",
      "rented            760 non-null int64\n",
      "family_size       760 non-null int64\n",
      "no_of_children    760 non-null int64\n",
      "income_bracket    760 non-null int64\n",
      "dtypes: int64(5), object(2)\n",
      "memory usage: 41.7+ KB\n"
     ]
    }
   ],
   "source": [
    "cust_demo.info()"
   ]
  },
  {
   "cell_type": "code",
   "execution_count": 22,
   "metadata": {},
   "outputs": [],
   "source": [
    "#Label Encoding Marital Status --- 0 is Single and 1 is Married\n",
    "cust_demo[\"marital_status\"] = encoder.fit_transform(cust_demo[\"marital_status\"])"
   ]
  },
  {
   "cell_type": "code",
   "execution_count": 23,
   "metadata": {},
   "outputs": [],
   "source": [
    "# Label Encoding age_range ... 18-25 is 0, 26-35 is 1, 36-45 is 2, 46-55 is 3, 56-70 is 4 and 70+ is 5\n",
    "cust_demo[\"age_range\"] = encoder.fit_transform(cust_demo[\"age_range\"])"
   ]
  },
  {
   "cell_type": "code",
   "execution_count": 24,
   "metadata": {},
   "outputs": [
    {
     "data": {
      "text/html": [
       "<div>\n",
       "<style scoped>\n",
       "    .dataframe tbody tr th:only-of-type {\n",
       "        vertical-align: middle;\n",
       "    }\n",
       "\n",
       "    .dataframe tbody tr th {\n",
       "        vertical-align: top;\n",
       "    }\n",
       "\n",
       "    .dataframe thead th {\n",
       "        text-align: right;\n",
       "    }\n",
       "</style>\n",
       "<table border=\"1\" class=\"dataframe\">\n",
       "  <thead>\n",
       "    <tr style=\"text-align: right;\">\n",
       "      <th></th>\n",
       "      <th>customer_id</th>\n",
       "      <th>age_range</th>\n",
       "      <th>marital_status</th>\n",
       "      <th>rented</th>\n",
       "      <th>family_size</th>\n",
       "      <th>no_of_children</th>\n",
       "      <th>income_bracket</th>\n",
       "    </tr>\n",
       "  </thead>\n",
       "  <tbody>\n",
       "    <tr>\n",
       "      <th>0</th>\n",
       "      <td>1</td>\n",
       "      <td>5</td>\n",
       "      <td>0</td>\n",
       "      <td>0</td>\n",
       "      <td>2</td>\n",
       "      <td>0</td>\n",
       "      <td>4</td>\n",
       "    </tr>\n",
       "    <tr>\n",
       "      <th>1</th>\n",
       "      <td>6</td>\n",
       "      <td>3</td>\n",
       "      <td>0</td>\n",
       "      <td>0</td>\n",
       "      <td>2</td>\n",
       "      <td>0</td>\n",
       "      <td>5</td>\n",
       "    </tr>\n",
       "    <tr>\n",
       "      <th>2</th>\n",
       "      <td>7</td>\n",
       "      <td>1</td>\n",
       "      <td>0</td>\n",
       "      <td>0</td>\n",
       "      <td>3</td>\n",
       "      <td>1</td>\n",
       "      <td>3</td>\n",
       "    </tr>\n",
       "    <tr>\n",
       "      <th>3</th>\n",
       "      <td>8</td>\n",
       "      <td>1</td>\n",
       "      <td>0</td>\n",
       "      <td>0</td>\n",
       "      <td>4</td>\n",
       "      <td>2</td>\n",
       "      <td>6</td>\n",
       "    </tr>\n",
       "    <tr>\n",
       "      <th>4</th>\n",
       "      <td>10</td>\n",
       "      <td>3</td>\n",
       "      <td>1</td>\n",
       "      <td>0</td>\n",
       "      <td>1</td>\n",
       "      <td>0</td>\n",
       "      <td>5</td>\n",
       "    </tr>\n",
       "  </tbody>\n",
       "</table>\n",
       "</div>"
      ],
      "text/plain": [
       "   customer_id  age_range  marital_status  rented  family_size  \\\n",
       "0            1          5               0       0            2   \n",
       "1            6          3               0       0            2   \n",
       "2            7          1               0       0            3   \n",
       "3            8          1               0       0            4   \n",
       "4           10          3               1       0            1   \n",
       "\n",
       "   no_of_children  income_bracket  \n",
       "0               0               4  \n",
       "1               0               5  \n",
       "2               1               3  \n",
       "3               2               6  \n",
       "4               0               5  "
      ]
     },
     "execution_count": 24,
     "metadata": {},
     "output_type": "execute_result"
    }
   ],
   "source": [
    "cust_demo.head()"
   ]
  },
  {
   "cell_type": "markdown",
   "metadata": {},
   "source": [
    "## Dealing with Campaign Dataframe"
   ]
  },
  {
   "cell_type": "code",
   "execution_count": 25,
   "metadata": {},
   "outputs": [
    {
     "data": {
      "text/html": [
       "<div>\n",
       "<style scoped>\n",
       "    .dataframe tbody tr th:only-of-type {\n",
       "        vertical-align: middle;\n",
       "    }\n",
       "\n",
       "    .dataframe tbody tr th {\n",
       "        vertical-align: top;\n",
       "    }\n",
       "\n",
       "    .dataframe thead th {\n",
       "        text-align: right;\n",
       "    }\n",
       "</style>\n",
       "<table border=\"1\" class=\"dataframe\">\n",
       "  <thead>\n",
       "    <tr style=\"text-align: right;\">\n",
       "      <th></th>\n",
       "      <th>campaign_id</th>\n",
       "      <th>campaign_type</th>\n",
       "      <th>start_date</th>\n",
       "      <th>end_date</th>\n",
       "    </tr>\n",
       "  </thead>\n",
       "  <tbody>\n",
       "    <tr>\n",
       "      <th>0</th>\n",
       "      <td>24</td>\n",
       "      <td>Y</td>\n",
       "      <td>21/10/13</td>\n",
       "      <td>20/12/13</td>\n",
       "    </tr>\n",
       "    <tr>\n",
       "      <th>1</th>\n",
       "      <td>25</td>\n",
       "      <td>Y</td>\n",
       "      <td>21/10/13</td>\n",
       "      <td>22/11/13</td>\n",
       "    </tr>\n",
       "    <tr>\n",
       "      <th>2</th>\n",
       "      <td>20</td>\n",
       "      <td>Y</td>\n",
       "      <td>07/09/13</td>\n",
       "      <td>16/11/13</td>\n",
       "    </tr>\n",
       "    <tr>\n",
       "      <th>3</th>\n",
       "      <td>23</td>\n",
       "      <td>Y</td>\n",
       "      <td>08/10/13</td>\n",
       "      <td>15/11/13</td>\n",
       "    </tr>\n",
       "    <tr>\n",
       "      <th>4</th>\n",
       "      <td>21</td>\n",
       "      <td>Y</td>\n",
       "      <td>16/09/13</td>\n",
       "      <td>18/10/13</td>\n",
       "    </tr>\n",
       "  </tbody>\n",
       "</table>\n",
       "</div>"
      ],
      "text/plain": [
       "   campaign_id campaign_type start_date  end_date\n",
       "0           24             Y   21/10/13  20/12/13\n",
       "1           25             Y   21/10/13  22/11/13\n",
       "2           20             Y   07/09/13  16/11/13\n",
       "3           23             Y   08/10/13  15/11/13\n",
       "4           21             Y   16/09/13  18/10/13"
      ]
     },
     "execution_count": 25,
     "metadata": {},
     "output_type": "execute_result"
    }
   ],
   "source": [
    "campaign.head()"
   ]
  },
  {
   "cell_type": "code",
   "execution_count": 26,
   "metadata": {},
   "outputs": [
    {
     "name": "stdout",
     "output_type": "stream",
     "text": [
      "<class 'pandas.core.frame.DataFrame'>\n",
      "RangeIndex: 28 entries, 0 to 27\n",
      "Data columns (total 4 columns):\n",
      "campaign_id      28 non-null int64\n",
      "campaign_type    28 non-null object\n",
      "start_date       28 non-null object\n",
      "end_date         28 non-null object\n",
      "dtypes: int64(1), object(3)\n",
      "memory usage: 1.0+ KB\n"
     ]
    }
   ],
   "source": [
    "campaign.info()"
   ]
  },
  {
   "cell_type": "code",
   "execution_count": 27,
   "metadata": {},
   "outputs": [
    {
     "data": {
      "text/plain": [
       "Y    22\n",
       "X     6\n",
       "Name: campaign_type, dtype: int64"
      ]
     },
     "execution_count": 27,
     "metadata": {},
     "output_type": "execute_result"
    }
   ],
   "source": [
    "campaign.campaign_type.value_counts()"
   ]
  },
  {
   "cell_type": "code",
   "execution_count": 28,
   "metadata": {},
   "outputs": [],
   "source": [
    "#Label Encoding Campaign type\n",
    "campaign[\"campaign_type\"] = encoder.fit_transform(campaign.campaign_type)"
   ]
  },
  {
   "cell_type": "code",
   "execution_count": 29,
   "metadata": {},
   "outputs": [],
   "source": [
    "#Converting the date columns to date time\n",
    "campaign['start_date'] = pd.to_datetime(campaign['start_date'], format = '%d/%m/%y')\n",
    "campaign['end_date'] = pd.to_datetime(campaign['end_date'], format = '%d/%m/%y')"
   ]
  },
  {
   "cell_type": "code",
   "execution_count": 30,
   "metadata": {},
   "outputs": [],
   "source": [
    "#Creating a new column campaign_duration\n",
    "campaign[\"campaign_duration\"] = campaign[\"end_date\"] - campaign[\"start_date\"]\n",
    "campaign[\"campaign_duration\"] = campaign[\"campaign_duration\"].apply(lambda x: x.days) "
   ]
  },
  {
   "cell_type": "code",
   "execution_count": 31,
   "metadata": {},
   "outputs": [
    {
     "data": {
      "text/html": [
       "<div>\n",
       "<style scoped>\n",
       "    .dataframe tbody tr th:only-of-type {\n",
       "        vertical-align: middle;\n",
       "    }\n",
       "\n",
       "    .dataframe tbody tr th {\n",
       "        vertical-align: top;\n",
       "    }\n",
       "\n",
       "    .dataframe thead th {\n",
       "        text-align: right;\n",
       "    }\n",
       "</style>\n",
       "<table border=\"1\" class=\"dataframe\">\n",
       "  <thead>\n",
       "    <tr style=\"text-align: right;\">\n",
       "      <th></th>\n",
       "      <th>campaign_id</th>\n",
       "      <th>campaign_type</th>\n",
       "      <th>start_date</th>\n",
       "      <th>end_date</th>\n",
       "      <th>campaign_duration</th>\n",
       "    </tr>\n",
       "  </thead>\n",
       "  <tbody>\n",
       "    <tr>\n",
       "      <th>0</th>\n",
       "      <td>24</td>\n",
       "      <td>1</td>\n",
       "      <td>2013-10-21</td>\n",
       "      <td>2013-12-20</td>\n",
       "      <td>60</td>\n",
       "    </tr>\n",
       "    <tr>\n",
       "      <th>1</th>\n",
       "      <td>25</td>\n",
       "      <td>1</td>\n",
       "      <td>2013-10-21</td>\n",
       "      <td>2013-11-22</td>\n",
       "      <td>32</td>\n",
       "    </tr>\n",
       "    <tr>\n",
       "      <th>2</th>\n",
       "      <td>20</td>\n",
       "      <td>1</td>\n",
       "      <td>2013-09-07</td>\n",
       "      <td>2013-11-16</td>\n",
       "      <td>70</td>\n",
       "    </tr>\n",
       "    <tr>\n",
       "      <th>3</th>\n",
       "      <td>23</td>\n",
       "      <td>1</td>\n",
       "      <td>2013-10-08</td>\n",
       "      <td>2013-11-15</td>\n",
       "      <td>38</td>\n",
       "    </tr>\n",
       "    <tr>\n",
       "      <th>4</th>\n",
       "      <td>21</td>\n",
       "      <td>1</td>\n",
       "      <td>2013-09-16</td>\n",
       "      <td>2013-10-18</td>\n",
       "      <td>32</td>\n",
       "    </tr>\n",
       "  </tbody>\n",
       "</table>\n",
       "</div>"
      ],
      "text/plain": [
       "   campaign_id  campaign_type start_date   end_date  campaign_duration\n",
       "0           24              1 2013-10-21 2013-12-20                 60\n",
       "1           25              1 2013-10-21 2013-11-22                 32\n",
       "2           20              1 2013-09-07 2013-11-16                 70\n",
       "3           23              1 2013-10-08 2013-11-15                 38\n",
       "4           21              1 2013-09-16 2013-10-18                 32"
      ]
     },
     "execution_count": 31,
     "metadata": {},
     "output_type": "execute_result"
    }
   ],
   "source": [
    "campaign.head()"
   ]
  },
  {
   "cell_type": "markdown",
   "metadata": {},
   "source": [
    "## Dealing with Customer Transaction Dataframe"
   ]
  },
  {
   "cell_type": "code",
   "execution_count": 32,
   "metadata": {},
   "outputs": [
    {
     "data": {
      "text/html": [
       "<div>\n",
       "<style scoped>\n",
       "    .dataframe tbody tr th:only-of-type {\n",
       "        vertical-align: middle;\n",
       "    }\n",
       "\n",
       "    .dataframe tbody tr th {\n",
       "        vertical-align: top;\n",
       "    }\n",
       "\n",
       "    .dataframe thead th {\n",
       "        text-align: right;\n",
       "    }\n",
       "</style>\n",
       "<table border=\"1\" class=\"dataframe\">\n",
       "  <thead>\n",
       "    <tr style=\"text-align: right;\">\n",
       "      <th></th>\n",
       "      <th>date</th>\n",
       "      <th>customer_id</th>\n",
       "      <th>item_id</th>\n",
       "      <th>quantity</th>\n",
       "      <th>selling_price</th>\n",
       "      <th>other_discount</th>\n",
       "      <th>coupon_discount</th>\n",
       "    </tr>\n",
       "  </thead>\n",
       "  <tbody>\n",
       "    <tr>\n",
       "      <th>0</th>\n",
       "      <td>2012-01-02</td>\n",
       "      <td>1501</td>\n",
       "      <td>26830</td>\n",
       "      <td>1</td>\n",
       "      <td>35.26</td>\n",
       "      <td>-10.69</td>\n",
       "      <td>0.0</td>\n",
       "    </tr>\n",
       "    <tr>\n",
       "      <th>1</th>\n",
       "      <td>2012-01-02</td>\n",
       "      <td>1501</td>\n",
       "      <td>54253</td>\n",
       "      <td>1</td>\n",
       "      <td>53.43</td>\n",
       "      <td>-13.89</td>\n",
       "      <td>0.0</td>\n",
       "    </tr>\n",
       "    <tr>\n",
       "      <th>2</th>\n",
       "      <td>2012-01-02</td>\n",
       "      <td>1501</td>\n",
       "      <td>31962</td>\n",
       "      <td>1</td>\n",
       "      <td>106.50</td>\n",
       "      <td>-14.25</td>\n",
       "      <td>0.0</td>\n",
       "    </tr>\n",
       "    <tr>\n",
       "      <th>3</th>\n",
       "      <td>2012-01-02</td>\n",
       "      <td>1501</td>\n",
       "      <td>33647</td>\n",
       "      <td>1</td>\n",
       "      <td>67.32</td>\n",
       "      <td>0.00</td>\n",
       "      <td>0.0</td>\n",
       "    </tr>\n",
       "    <tr>\n",
       "      <th>4</th>\n",
       "      <td>2012-01-02</td>\n",
       "      <td>1501</td>\n",
       "      <td>48199</td>\n",
       "      <td>1</td>\n",
       "      <td>71.24</td>\n",
       "      <td>-28.14</td>\n",
       "      <td>0.0</td>\n",
       "    </tr>\n",
       "  </tbody>\n",
       "</table>\n",
       "</div>"
      ],
      "text/plain": [
       "         date  customer_id  item_id  quantity  selling_price  other_discount  \\\n",
       "0  2012-01-02         1501    26830         1          35.26          -10.69   \n",
       "1  2012-01-02         1501    54253         1          53.43          -13.89   \n",
       "2  2012-01-02         1501    31962         1         106.50          -14.25   \n",
       "3  2012-01-02         1501    33647         1          67.32            0.00   \n",
       "4  2012-01-02         1501    48199         1          71.24          -28.14   \n",
       "\n",
       "   coupon_discount  \n",
       "0              0.0  \n",
       "1              0.0  \n",
       "2              0.0  \n",
       "3              0.0  \n",
       "4              0.0  "
      ]
     },
     "execution_count": 32,
     "metadata": {},
     "output_type": "execute_result"
    }
   ],
   "source": [
    "cust_tran.head()"
   ]
  },
  {
   "cell_type": "code",
   "execution_count": 33,
   "metadata": {},
   "outputs": [
    {
     "name": "stdout",
     "output_type": "stream",
     "text": [
      "<class 'pandas.core.frame.DataFrame'>\n",
      "RangeIndex: 1324566 entries, 0 to 1324565\n",
      "Data columns (total 7 columns):\n",
      "date               1324566 non-null object\n",
      "customer_id        1324566 non-null int64\n",
      "item_id            1324566 non-null int64\n",
      "quantity           1324566 non-null int64\n",
      "selling_price      1324566 non-null float64\n",
      "other_discount     1324566 non-null float64\n",
      "coupon_discount    1324566 non-null float64\n",
      "dtypes: float64(3), int64(3), object(1)\n",
      "memory usage: 70.7+ MB\n"
     ]
    }
   ],
   "source": [
    "cust_tran.info()"
   ]
  },
  {
   "cell_type": "code",
   "execution_count": 34,
   "metadata": {},
   "outputs": [],
   "source": [
    "#Converting the date column into date time\n",
    "#Reset the index of the DataFrame, and use the default one instead.\n",
    "#If the DataFrame has a MultiIndex, this method can remove one or more levels.\n",
    "cust_tran['date'] = pd.to_datetime(cust_tran['date'])\n",
    "cust_tran = cust_tran.sort_values('date').reset_index(drop=True)"
   ]
  },
  {
   "cell_type": "code",
   "execution_count": 35,
   "metadata": {},
   "outputs": [
    {
     "data": {
      "text/html": [
       "<div>\n",
       "<style scoped>\n",
       "    .dataframe tbody tr th:only-of-type {\n",
       "        vertical-align: middle;\n",
       "    }\n",
       "\n",
       "    .dataframe tbody tr th {\n",
       "        vertical-align: top;\n",
       "    }\n",
       "\n",
       "    .dataframe thead th {\n",
       "        text-align: right;\n",
       "    }\n",
       "</style>\n",
       "<table border=\"1\" class=\"dataframe\">\n",
       "  <thead>\n",
       "    <tr style=\"text-align: right;\">\n",
       "      <th></th>\n",
       "      <th>date</th>\n",
       "      <th>customer_id</th>\n",
       "      <th>item_id</th>\n",
       "      <th>quantity</th>\n",
       "      <th>selling_price</th>\n",
       "      <th>other_discount</th>\n",
       "      <th>coupon_discount</th>\n",
       "    </tr>\n",
       "  </thead>\n",
       "  <tbody>\n",
       "    <tr>\n",
       "      <th>0</th>\n",
       "      <td>2012-01-02</td>\n",
       "      <td>1501</td>\n",
       "      <td>26830</td>\n",
       "      <td>1</td>\n",
       "      <td>35.26</td>\n",
       "      <td>-10.69</td>\n",
       "      <td>0.00</td>\n",
       "    </tr>\n",
       "    <tr>\n",
       "      <th>1</th>\n",
       "      <td>2012-01-02</td>\n",
       "      <td>464</td>\n",
       "      <td>20697</td>\n",
       "      <td>1</td>\n",
       "      <td>92.26</td>\n",
       "      <td>-21.37</td>\n",
       "      <td>-35.62</td>\n",
       "    </tr>\n",
       "    <tr>\n",
       "      <th>2</th>\n",
       "      <td>2012-01-02</td>\n",
       "      <td>464</td>\n",
       "      <td>20717</td>\n",
       "      <td>2</td>\n",
       "      <td>28.50</td>\n",
       "      <td>-27.78</td>\n",
       "      <td>0.00</td>\n",
       "    </tr>\n",
       "    <tr>\n",
       "      <th>3</th>\n",
       "      <td>2012-01-02</td>\n",
       "      <td>464</td>\n",
       "      <td>21008</td>\n",
       "      <td>1</td>\n",
       "      <td>35.26</td>\n",
       "      <td>-17.81</td>\n",
       "      <td>0.00</td>\n",
       "    </tr>\n",
       "    <tr>\n",
       "      <th>4</th>\n",
       "      <td>2012-01-02</td>\n",
       "      <td>464</td>\n",
       "      <td>22243</td>\n",
       "      <td>2</td>\n",
       "      <td>118.97</td>\n",
       "      <td>-22.80</td>\n",
       "      <td>0.00</td>\n",
       "    </tr>\n",
       "  </tbody>\n",
       "</table>\n",
       "</div>"
      ],
      "text/plain": [
       "        date  customer_id  item_id  quantity  selling_price  other_discount  \\\n",
       "0 2012-01-02         1501    26830         1          35.26          -10.69   \n",
       "1 2012-01-02          464    20697         1          92.26          -21.37   \n",
       "2 2012-01-02          464    20717         2          28.50          -27.78   \n",
       "3 2012-01-02          464    21008         1          35.26          -17.81   \n",
       "4 2012-01-02          464    22243         2         118.97          -22.80   \n",
       "\n",
       "   coupon_discount  \n",
       "0             0.00  \n",
       "1           -35.62  \n",
       "2             0.00  \n",
       "3             0.00  \n",
       "4             0.00  "
      ]
     },
     "execution_count": 35,
     "metadata": {},
     "output_type": "execute_result"
    }
   ],
   "source": [
    "cust_tran.head()"
   ]
  },
  {
   "cell_type": "code",
   "execution_count": 36,
   "metadata": {},
   "outputs": [],
   "source": [
    "#Creating 3 new columns from the date column\n",
    "cust_tran['day'] = cust_tran[\"date\"].apply(lambda x: x.day)\n",
    "cust_tran['dow'] = cust_tran[\"date\"].apply(lambda x: x.weekday())\n",
    "cust_tran['month'] = cust_tran[\"date\"].apply(lambda x: x.month)"
   ]
  },
  {
   "cell_type": "code",
   "execution_count": 37,
   "metadata": {},
   "outputs": [
    {
     "data": {
      "text/html": [
       "<div>\n",
       "<style scoped>\n",
       "    .dataframe tbody tr th:only-of-type {\n",
       "        vertical-align: middle;\n",
       "    }\n",
       "\n",
       "    .dataframe tbody tr th {\n",
       "        vertical-align: top;\n",
       "    }\n",
       "\n",
       "    .dataframe thead th {\n",
       "        text-align: right;\n",
       "    }\n",
       "</style>\n",
       "<table border=\"1\" class=\"dataframe\">\n",
       "  <thead>\n",
       "    <tr style=\"text-align: right;\">\n",
       "      <th></th>\n",
       "      <th>date</th>\n",
       "      <th>customer_id</th>\n",
       "      <th>item_id</th>\n",
       "      <th>quantity</th>\n",
       "      <th>selling_price</th>\n",
       "      <th>other_discount</th>\n",
       "      <th>coupon_discount</th>\n",
       "      <th>day</th>\n",
       "      <th>dow</th>\n",
       "      <th>month</th>\n",
       "    </tr>\n",
       "  </thead>\n",
       "  <tbody>\n",
       "    <tr>\n",
       "      <th>0</th>\n",
       "      <td>2012-01-02</td>\n",
       "      <td>1501</td>\n",
       "      <td>26830</td>\n",
       "      <td>1</td>\n",
       "      <td>35.26</td>\n",
       "      <td>-10.69</td>\n",
       "      <td>0.00</td>\n",
       "      <td>2</td>\n",
       "      <td>0</td>\n",
       "      <td>1</td>\n",
       "    </tr>\n",
       "    <tr>\n",
       "      <th>1</th>\n",
       "      <td>2012-01-02</td>\n",
       "      <td>464</td>\n",
       "      <td>20697</td>\n",
       "      <td>1</td>\n",
       "      <td>92.26</td>\n",
       "      <td>-21.37</td>\n",
       "      <td>-35.62</td>\n",
       "      <td>2</td>\n",
       "      <td>0</td>\n",
       "      <td>1</td>\n",
       "    </tr>\n",
       "    <tr>\n",
       "      <th>2</th>\n",
       "      <td>2012-01-02</td>\n",
       "      <td>464</td>\n",
       "      <td>20717</td>\n",
       "      <td>2</td>\n",
       "      <td>28.50</td>\n",
       "      <td>-27.78</td>\n",
       "      <td>0.00</td>\n",
       "      <td>2</td>\n",
       "      <td>0</td>\n",
       "      <td>1</td>\n",
       "    </tr>\n",
       "    <tr>\n",
       "      <th>3</th>\n",
       "      <td>2012-01-02</td>\n",
       "      <td>464</td>\n",
       "      <td>21008</td>\n",
       "      <td>1</td>\n",
       "      <td>35.26</td>\n",
       "      <td>-17.81</td>\n",
       "      <td>0.00</td>\n",
       "      <td>2</td>\n",
       "      <td>0</td>\n",
       "      <td>1</td>\n",
       "    </tr>\n",
       "    <tr>\n",
       "      <th>4</th>\n",
       "      <td>2012-01-02</td>\n",
       "      <td>464</td>\n",
       "      <td>22243</td>\n",
       "      <td>2</td>\n",
       "      <td>118.97</td>\n",
       "      <td>-22.80</td>\n",
       "      <td>0.00</td>\n",
       "      <td>2</td>\n",
       "      <td>0</td>\n",
       "      <td>1</td>\n",
       "    </tr>\n",
       "  </tbody>\n",
       "</table>\n",
       "</div>"
      ],
      "text/plain": [
       "        date  customer_id  item_id  quantity  selling_price  other_discount  \\\n",
       "0 2012-01-02         1501    26830         1          35.26          -10.69   \n",
       "1 2012-01-02          464    20697         1          92.26          -21.37   \n",
       "2 2012-01-02          464    20717         2          28.50          -27.78   \n",
       "3 2012-01-02          464    21008         1          35.26          -17.81   \n",
       "4 2012-01-02          464    22243         2         118.97          -22.80   \n",
       "\n",
       "   coupon_discount  day  dow  month  \n",
       "0             0.00    2    0      1  \n",
       "1           -35.62    2    0      1  \n",
       "2             0.00    2    0      1  \n",
       "3             0.00    2    0      1  \n",
       "4             0.00    2    0      1  "
      ]
     },
     "execution_count": 37,
     "metadata": {},
     "output_type": "execute_result"
    }
   ],
   "source": [
    "cust_tran.head()"
   ]
  },
  {
   "cell_type": "code",
   "execution_count": 38,
   "metadata": {},
   "outputs": [],
   "source": [
    "#Given selling_price and other_discount are for the entire transaction. Hence getting the Actual value of the transaction.\n",
    "cust_tran.selling_price = cust_tran.selling_price/cust_tran.quantity\n",
    "cust_tran.other_discount = cust_tran.other_discount/cust_tran.quantity\n",
    "cust_tran.selling_price = cust_tran.selling_price - cust_tran.other_discount"
   ]
  },
  {
   "cell_type": "code",
   "execution_count": 39,
   "metadata": {},
   "outputs": [],
   "source": [
    "#Inserting a new column to know if the coupon was used or not\n",
    "cust_tran['coupon_used'] = cust_tran.coupon_discount.apply(lambda x: 1 if x !=0 else 0)"
   ]
  },
  {
   "cell_type": "code",
   "execution_count": 40,
   "metadata": {},
   "outputs": [
    {
     "data": {
      "text/html": [
       "<div>\n",
       "<style scoped>\n",
       "    .dataframe tbody tr th:only-of-type {\n",
       "        vertical-align: middle;\n",
       "    }\n",
       "\n",
       "    .dataframe tbody tr th {\n",
       "        vertical-align: top;\n",
       "    }\n",
       "\n",
       "    .dataframe thead th {\n",
       "        text-align: right;\n",
       "    }\n",
       "</style>\n",
       "<table border=\"1\" class=\"dataframe\">\n",
       "  <thead>\n",
       "    <tr style=\"text-align: right;\">\n",
       "      <th></th>\n",
       "      <th>date</th>\n",
       "      <th>customer_id</th>\n",
       "      <th>item_id</th>\n",
       "      <th>quantity</th>\n",
       "      <th>selling_price</th>\n",
       "      <th>other_discount</th>\n",
       "      <th>coupon_discount</th>\n",
       "      <th>day</th>\n",
       "      <th>dow</th>\n",
       "      <th>month</th>\n",
       "      <th>coupon_used</th>\n",
       "    </tr>\n",
       "  </thead>\n",
       "  <tbody>\n",
       "    <tr>\n",
       "      <th>0</th>\n",
       "      <td>2012-01-02</td>\n",
       "      <td>1501</td>\n",
       "      <td>26830</td>\n",
       "      <td>1</td>\n",
       "      <td>45.950</td>\n",
       "      <td>-10.69</td>\n",
       "      <td>0.00</td>\n",
       "      <td>2</td>\n",
       "      <td>0</td>\n",
       "      <td>1</td>\n",
       "      <td>0</td>\n",
       "    </tr>\n",
       "    <tr>\n",
       "      <th>1</th>\n",
       "      <td>2012-01-02</td>\n",
       "      <td>464</td>\n",
       "      <td>20697</td>\n",
       "      <td>1</td>\n",
       "      <td>113.630</td>\n",
       "      <td>-21.37</td>\n",
       "      <td>-35.62</td>\n",
       "      <td>2</td>\n",
       "      <td>0</td>\n",
       "      <td>1</td>\n",
       "      <td>1</td>\n",
       "    </tr>\n",
       "    <tr>\n",
       "      <th>2</th>\n",
       "      <td>2012-01-02</td>\n",
       "      <td>464</td>\n",
       "      <td>20717</td>\n",
       "      <td>2</td>\n",
       "      <td>28.140</td>\n",
       "      <td>-13.89</td>\n",
       "      <td>0.00</td>\n",
       "      <td>2</td>\n",
       "      <td>0</td>\n",
       "      <td>1</td>\n",
       "      <td>0</td>\n",
       "    </tr>\n",
       "    <tr>\n",
       "      <th>3</th>\n",
       "      <td>2012-01-02</td>\n",
       "      <td>464</td>\n",
       "      <td>21008</td>\n",
       "      <td>1</td>\n",
       "      <td>53.070</td>\n",
       "      <td>-17.81</td>\n",
       "      <td>0.00</td>\n",
       "      <td>2</td>\n",
       "      <td>0</td>\n",
       "      <td>1</td>\n",
       "      <td>0</td>\n",
       "    </tr>\n",
       "    <tr>\n",
       "      <th>4</th>\n",
       "      <td>2012-01-02</td>\n",
       "      <td>464</td>\n",
       "      <td>22243</td>\n",
       "      <td>2</td>\n",
       "      <td>70.885</td>\n",
       "      <td>-11.40</td>\n",
       "      <td>0.00</td>\n",
       "      <td>2</td>\n",
       "      <td>0</td>\n",
       "      <td>1</td>\n",
       "      <td>0</td>\n",
       "    </tr>\n",
       "  </tbody>\n",
       "</table>\n",
       "</div>"
      ],
      "text/plain": [
       "        date  customer_id  item_id  quantity  selling_price  other_discount  \\\n",
       "0 2012-01-02         1501    26830         1         45.950          -10.69   \n",
       "1 2012-01-02          464    20697         1        113.630          -21.37   \n",
       "2 2012-01-02          464    20717         2         28.140          -13.89   \n",
       "3 2012-01-02          464    21008         1         53.070          -17.81   \n",
       "4 2012-01-02          464    22243         2         70.885          -11.40   \n",
       "\n",
       "   coupon_discount  day  dow  month  coupon_used  \n",
       "0             0.00    2    0      1            0  \n",
       "1           -35.62    2    0      1            1  \n",
       "2             0.00    2    0      1            0  \n",
       "3             0.00    2    0      1            0  \n",
       "4             0.00    2    0      1            0  "
      ]
     },
     "execution_count": 40,
     "metadata": {},
     "output_type": "execute_result"
    }
   ],
   "source": [
    "cust_tran.head()"
   ]
  },
  {
   "cell_type": "markdown",
   "metadata": {},
   "source": [
    "## Dealing with Items Dataframe"
   ]
  },
  {
   "cell_type": "code",
   "execution_count": 41,
   "metadata": {},
   "outputs": [
    {
     "data": {
      "text/html": [
       "<div>\n",
       "<style scoped>\n",
       "    .dataframe tbody tr th:only-of-type {\n",
       "        vertical-align: middle;\n",
       "    }\n",
       "\n",
       "    .dataframe tbody tr th {\n",
       "        vertical-align: top;\n",
       "    }\n",
       "\n",
       "    .dataframe thead th {\n",
       "        text-align: right;\n",
       "    }\n",
       "</style>\n",
       "<table border=\"1\" class=\"dataframe\">\n",
       "  <thead>\n",
       "    <tr style=\"text-align: right;\">\n",
       "      <th></th>\n",
       "      <th>item_id</th>\n",
       "      <th>brand</th>\n",
       "      <th>brand_type</th>\n",
       "      <th>category</th>\n",
       "    </tr>\n",
       "  </thead>\n",
       "  <tbody>\n",
       "    <tr>\n",
       "      <th>0</th>\n",
       "      <td>1</td>\n",
       "      <td>1</td>\n",
       "      <td>Established</td>\n",
       "      <td>Grocery</td>\n",
       "    </tr>\n",
       "    <tr>\n",
       "      <th>1</th>\n",
       "      <td>2</td>\n",
       "      <td>1</td>\n",
       "      <td>Established</td>\n",
       "      <td>Miscellaneous</td>\n",
       "    </tr>\n",
       "    <tr>\n",
       "      <th>2</th>\n",
       "      <td>3</td>\n",
       "      <td>56</td>\n",
       "      <td>Local</td>\n",
       "      <td>Bakery</td>\n",
       "    </tr>\n",
       "    <tr>\n",
       "      <th>3</th>\n",
       "      <td>4</td>\n",
       "      <td>56</td>\n",
       "      <td>Local</td>\n",
       "      <td>Grocery</td>\n",
       "    </tr>\n",
       "    <tr>\n",
       "      <th>4</th>\n",
       "      <td>5</td>\n",
       "      <td>56</td>\n",
       "      <td>Local</td>\n",
       "      <td>Grocery</td>\n",
       "    </tr>\n",
       "  </tbody>\n",
       "</table>\n",
       "</div>"
      ],
      "text/plain": [
       "   item_id  brand   brand_type       category\n",
       "0        1      1  Established        Grocery\n",
       "1        2      1  Established  Miscellaneous\n",
       "2        3     56        Local         Bakery\n",
       "3        4     56        Local        Grocery\n",
       "4        5     56        Local        Grocery"
      ]
     },
     "execution_count": 41,
     "metadata": {},
     "output_type": "execute_result"
    }
   ],
   "source": [
    "items.head()"
   ]
  },
  {
   "cell_type": "code",
   "execution_count": 42,
   "metadata": {},
   "outputs": [
    {
     "data": {
      "text/plain": [
       "Established    62842\n",
       "Local          11224\n",
       "Name: brand_type, dtype: int64"
      ]
     },
     "execution_count": 42,
     "metadata": {},
     "output_type": "execute_result"
    }
   ],
   "source": [
    "items.brand_type.value_counts()"
   ]
  },
  {
   "cell_type": "code",
   "execution_count": 43,
   "metadata": {},
   "outputs": [
    {
     "data": {
      "text/plain": [
       "Grocery                   32448\n",
       "Pharmaceutical            24471\n",
       "Natural Products           2533\n",
       "Dairy, Juices & Snacks     2425\n",
       "Skin & Hair Care           2244\n",
       "Meat                       2080\n",
       "Packaged Meat              1966\n",
       "Prepared Food              1880\n",
       "Bakery                     1679\n",
       "Seafood                     728\n",
       "Flowers & Plants            664\n",
       "Miscellaneous               385\n",
       "Alcohol                     303\n",
       "Garden                      102\n",
       "Restauarant                  78\n",
       "Salads                       40\n",
       "Travel                       19\n",
       "Fuel                         14\n",
       "Vegetables (cut)              7\n",
       "Name: category, dtype: int64"
      ]
     },
     "execution_count": 43,
     "metadata": {},
     "output_type": "execute_result"
    }
   ],
   "source": [
    "items.category.value_counts()"
   ]
  },
  {
   "cell_type": "code",
   "execution_count": 44,
   "metadata": {},
   "outputs": [],
   "source": [
    "#Label Encoding the brand_type and category columns\n",
    "items.brand_type = encoder.fit_transform(items[\"brand_type\"])\n",
    "items.category = encoder.fit_transform(items[\"category\"])"
   ]
  },
  {
   "cell_type": "code",
   "execution_count": 45,
   "metadata": {},
   "outputs": [
    {
     "data": {
      "text/html": [
       "<div>\n",
       "<style scoped>\n",
       "    .dataframe tbody tr th:only-of-type {\n",
       "        vertical-align: middle;\n",
       "    }\n",
       "\n",
       "    .dataframe tbody tr th {\n",
       "        vertical-align: top;\n",
       "    }\n",
       "\n",
       "    .dataframe thead th {\n",
       "        text-align: right;\n",
       "    }\n",
       "</style>\n",
       "<table border=\"1\" class=\"dataframe\">\n",
       "  <thead>\n",
       "    <tr style=\"text-align: right;\">\n",
       "      <th></th>\n",
       "      <th>item_id</th>\n",
       "      <th>brand</th>\n",
       "      <th>brand_type</th>\n",
       "      <th>category</th>\n",
       "    </tr>\n",
       "  </thead>\n",
       "  <tbody>\n",
       "    <tr>\n",
       "      <th>0</th>\n",
       "      <td>1</td>\n",
       "      <td>1</td>\n",
       "      <td>0</td>\n",
       "      <td>6</td>\n",
       "    </tr>\n",
       "    <tr>\n",
       "      <th>1</th>\n",
       "      <td>2</td>\n",
       "      <td>1</td>\n",
       "      <td>0</td>\n",
       "      <td>8</td>\n",
       "    </tr>\n",
       "    <tr>\n",
       "      <th>2</th>\n",
       "      <td>3</td>\n",
       "      <td>56</td>\n",
       "      <td>1</td>\n",
       "      <td>1</td>\n",
       "    </tr>\n",
       "    <tr>\n",
       "      <th>3</th>\n",
       "      <td>4</td>\n",
       "      <td>56</td>\n",
       "      <td>1</td>\n",
       "      <td>6</td>\n",
       "    </tr>\n",
       "    <tr>\n",
       "      <th>4</th>\n",
       "      <td>5</td>\n",
       "      <td>56</td>\n",
       "      <td>1</td>\n",
       "      <td>6</td>\n",
       "    </tr>\n",
       "  </tbody>\n",
       "</table>\n",
       "</div>"
      ],
      "text/plain": [
       "   item_id  brand  brand_type  category\n",
       "0        1      1           0         6\n",
       "1        2      1           0         8\n",
       "2        3     56           1         1\n",
       "3        4     56           1         6\n",
       "4        5     56           1         6"
      ]
     },
     "execution_count": 45,
     "metadata": {},
     "output_type": "execute_result"
    }
   ],
   "source": [
    "items.head()"
   ]
  },
  {
   "cell_type": "markdown",
   "metadata": {},
   "source": [
    "# Dealing with Coupoun Dataframe"
   ]
  },
  {
   "cell_type": "code",
   "execution_count": 46,
   "metadata": {},
   "outputs": [
    {
     "data": {
      "text/html": [
       "<div>\n",
       "<style scoped>\n",
       "    .dataframe tbody tr th:only-of-type {\n",
       "        vertical-align: middle;\n",
       "    }\n",
       "\n",
       "    .dataframe tbody tr th {\n",
       "        vertical-align: top;\n",
       "    }\n",
       "\n",
       "    .dataframe thead th {\n",
       "        text-align: right;\n",
       "    }\n",
       "</style>\n",
       "<table border=\"1\" class=\"dataframe\">\n",
       "  <thead>\n",
       "    <tr style=\"text-align: right;\">\n",
       "      <th></th>\n",
       "      <th>coupon_id</th>\n",
       "      <th>item_id</th>\n",
       "    </tr>\n",
       "  </thead>\n",
       "  <tbody>\n",
       "    <tr>\n",
       "      <th>0</th>\n",
       "      <td>105</td>\n",
       "      <td>37</td>\n",
       "    </tr>\n",
       "    <tr>\n",
       "      <th>1</th>\n",
       "      <td>107</td>\n",
       "      <td>75</td>\n",
       "    </tr>\n",
       "    <tr>\n",
       "      <th>2</th>\n",
       "      <td>494</td>\n",
       "      <td>76</td>\n",
       "    </tr>\n",
       "    <tr>\n",
       "      <th>3</th>\n",
       "      <td>522</td>\n",
       "      <td>77</td>\n",
       "    </tr>\n",
       "    <tr>\n",
       "      <th>4</th>\n",
       "      <td>518</td>\n",
       "      <td>77</td>\n",
       "    </tr>\n",
       "  </tbody>\n",
       "</table>\n",
       "</div>"
      ],
      "text/plain": [
       "   coupon_id  item_id\n",
       "0        105       37\n",
       "1        107       75\n",
       "2        494       76\n",
       "3        522       77\n",
       "4        518       77"
      ]
     },
     "execution_count": 46,
     "metadata": {},
     "output_type": "execute_result"
    }
   ],
   "source": [
    "coupons.head()"
   ]
  },
  {
   "cell_type": "markdown",
   "metadata": {},
   "source": [
    "# Now we can Start with Merging the Data Frames As all the Dataframes have data in the proper format"
   ]
  },
  {
   "cell_type": "markdown",
   "metadata": {},
   "source": [
    "## Let us see the schema first before proceeding"
   ]
  },
  {
   "cell_type": "code",
   "execution_count": 47,
   "metadata": {},
   "outputs": [
    {
     "data": {
      "image/png": "[encoded data removed]",
      "text/plain": [
       "<IPython.core.display.Image object>"
      ]
     },
     "execution_count": 47,
     "metadata": {},
     "output_type": "execute_result"
    }
   ],
   "source": [
    "Image(\"../input/Schema.png\")"
   ]
  },
  {
   "cell_type": "markdown",
   "metadata": {},
   "source": [
    "## Merging Train and Test Data with Other Data"
   ]
  },
  {
   "cell_type": "markdown",
   "metadata": {},
   "source": [
    "1. Merge coupon item data and items data on item_id\n",
    "2. Aggregate transactions by item_id\n",
    "3. Merge 1 and 2 on item_id\n",
    "4. Aggregate 3 on coupon_id\n",
    "5. Merge 4 and train on coupon_id\n",
    "6. Aggregate transactions on customer_id\n",
    "7. Merge 5 with campaign data on campaign_id\n",
    "8. Merge 7 with customer demographic data on customer_id\n",
    "9. Merge 6 with 8 on customer_id respectively"
   ]
  },
  {
   "cell_type": "markdown",
   "metadata": {},
   "source": [
    "### Step 1: \n",
    "Merging coupons and items data on 'item_id'"
   ]
  },
  {
   "cell_type": "code",
   "execution_count": 48,
   "metadata": {},
   "outputs": [],
   "source": [
    "coupons_items = pd.merge(coupons, items, on=\"item_id\", how=\"left\")"
   ]
  },
  {
   "cell_type": "code",
   "execution_count": 49,
   "metadata": {},
   "outputs": [
    {
     "data": {
      "text/html": [
       "<div>\n",
       "<style scoped>\n",
       "    .dataframe tbody tr th:only-of-type {\n",
       "        vertical-align: middle;\n",
       "    }\n",
       "\n",
       "    .dataframe tbody tr th {\n",
       "        vertical-align: top;\n",
       "    }\n",
       "\n",
       "    .dataframe thead th {\n",
       "        text-align: right;\n",
       "    }\n",
       "</style>\n",
       "<table border=\"1\" class=\"dataframe\">\n",
       "  <thead>\n",
       "    <tr style=\"text-align: right;\">\n",
       "      <th></th>\n",
       "      <th>coupon_id</th>\n",
       "      <th>item_id</th>\n",
       "      <th>brand</th>\n",
       "      <th>brand_type</th>\n",
       "      <th>category</th>\n",
       "    </tr>\n",
       "  </thead>\n",
       "  <tbody>\n",
       "    <tr>\n",
       "      <th>0</th>\n",
       "      <td>105</td>\n",
       "      <td>37</td>\n",
       "      <td>56</td>\n",
       "      <td>1</td>\n",
       "      <td>6</td>\n",
       "    </tr>\n",
       "    <tr>\n",
       "      <th>1</th>\n",
       "      <td>107</td>\n",
       "      <td>75</td>\n",
       "      <td>56</td>\n",
       "      <td>1</td>\n",
       "      <td>6</td>\n",
       "    </tr>\n",
       "    <tr>\n",
       "      <th>2</th>\n",
       "      <td>494</td>\n",
       "      <td>76</td>\n",
       "      <td>209</td>\n",
       "      <td>0</td>\n",
       "      <td>6</td>\n",
       "    </tr>\n",
       "    <tr>\n",
       "      <th>3</th>\n",
       "      <td>522</td>\n",
       "      <td>77</td>\n",
       "      <td>278</td>\n",
       "      <td>0</td>\n",
       "      <td>6</td>\n",
       "    </tr>\n",
       "    <tr>\n",
       "      <th>4</th>\n",
       "      <td>518</td>\n",
       "      <td>77</td>\n",
       "      <td>278</td>\n",
       "      <td>0</td>\n",
       "      <td>6</td>\n",
       "    </tr>\n",
       "  </tbody>\n",
       "</table>\n",
       "</div>"
      ],
      "text/plain": [
       "   coupon_id  item_id  brand  brand_type  category\n",
       "0        105       37     56           1         6\n",
       "1        107       75     56           1         6\n",
       "2        494       76    209           0         6\n",
       "3        522       77    278           0         6\n",
       "4        518       77    278           0         6"
      ]
     },
     "execution_count": 49,
     "metadata": {},
     "output_type": "execute_result"
    }
   ],
   "source": [
    "coupons_items.head()"
   ]
  },
  {
   "cell_type": "markdown",
   "metadata": {},
   "source": [
    "### Step 2:\n",
    "Aggregate the customer transaction by 'item_id'\n",
    "\n",
    "Before getting into the below code ... Understand the working of pd.pivot_table here\n",
    "https://pandas.pydata.org/pandas-docs/stable/reference/api/pandas.pivot_table.html\n",
    "\n",
    "Following Blog is an excellent demonstration of the working of Pivot tables in Python\n",
    "https://pbpython.com/pandas-pivot-table-explained.html"
   ]
  },
  {
   "cell_type": "code",
   "execution_count": 50,
   "metadata": {},
   "outputs": [
    {
     "data": {
      "text/html": [
       "<div>\n",
       "<style scoped>\n",
       "    .dataframe tbody tr th:only-of-type {\n",
       "        vertical-align: middle;\n",
       "    }\n",
       "\n",
       "    .dataframe tbody tr th {\n",
       "        vertical-align: top;\n",
       "    }\n",
       "\n",
       "    .dataframe thead th {\n",
       "        text-align: right;\n",
       "    }\n",
       "</style>\n",
       "<table border=\"1\" class=\"dataframe\">\n",
       "  <thead>\n",
       "    <tr style=\"text-align: right;\">\n",
       "      <th></th>\n",
       "      <th>date</th>\n",
       "      <th>customer_id</th>\n",
       "      <th>item_id</th>\n",
       "      <th>quantity</th>\n",
       "      <th>selling_price</th>\n",
       "      <th>other_discount</th>\n",
       "      <th>coupon_discount</th>\n",
       "      <th>day</th>\n",
       "      <th>dow</th>\n",
       "      <th>month</th>\n",
       "      <th>coupon_used</th>\n",
       "    </tr>\n",
       "  </thead>\n",
       "  <tbody>\n",
       "    <tr>\n",
       "      <th>0</th>\n",
       "      <td>2012-01-02</td>\n",
       "      <td>1501</td>\n",
       "      <td>26830</td>\n",
       "      <td>1</td>\n",
       "      <td>45.950</td>\n",
       "      <td>-10.69</td>\n",
       "      <td>0.00</td>\n",
       "      <td>2</td>\n",
       "      <td>0</td>\n",
       "      <td>1</td>\n",
       "      <td>0</td>\n",
       "    </tr>\n",
       "    <tr>\n",
       "      <th>1</th>\n",
       "      <td>2012-01-02</td>\n",
       "      <td>464</td>\n",
       "      <td>20697</td>\n",
       "      <td>1</td>\n",
       "      <td>113.630</td>\n",
       "      <td>-21.37</td>\n",
       "      <td>-35.62</td>\n",
       "      <td>2</td>\n",
       "      <td>0</td>\n",
       "      <td>1</td>\n",
       "      <td>1</td>\n",
       "    </tr>\n",
       "    <tr>\n",
       "      <th>2</th>\n",
       "      <td>2012-01-02</td>\n",
       "      <td>464</td>\n",
       "      <td>20717</td>\n",
       "      <td>2</td>\n",
       "      <td>28.140</td>\n",
       "      <td>-13.89</td>\n",
       "      <td>0.00</td>\n",
       "      <td>2</td>\n",
       "      <td>0</td>\n",
       "      <td>1</td>\n",
       "      <td>0</td>\n",
       "    </tr>\n",
       "    <tr>\n",
       "      <th>3</th>\n",
       "      <td>2012-01-02</td>\n",
       "      <td>464</td>\n",
       "      <td>21008</td>\n",
       "      <td>1</td>\n",
       "      <td>53.070</td>\n",
       "      <td>-17.81</td>\n",
       "      <td>0.00</td>\n",
       "      <td>2</td>\n",
       "      <td>0</td>\n",
       "      <td>1</td>\n",
       "      <td>0</td>\n",
       "    </tr>\n",
       "    <tr>\n",
       "      <th>4</th>\n",
       "      <td>2012-01-02</td>\n",
       "      <td>464</td>\n",
       "      <td>22243</td>\n",
       "      <td>2</td>\n",
       "      <td>70.885</td>\n",
       "      <td>-11.40</td>\n",
       "      <td>0.00</td>\n",
       "      <td>2</td>\n",
       "      <td>0</td>\n",
       "      <td>1</td>\n",
       "      <td>0</td>\n",
       "    </tr>\n",
       "  </tbody>\n",
       "</table>\n",
       "</div>"
      ],
      "text/plain": [
       "        date  customer_id  item_id  quantity  selling_price  other_discount  \\\n",
       "0 2012-01-02         1501    26830         1         45.950          -10.69   \n",
       "1 2012-01-02          464    20697         1        113.630          -21.37   \n",
       "2 2012-01-02          464    20717         2         28.140          -13.89   \n",
       "3 2012-01-02          464    21008         1         53.070          -17.81   \n",
       "4 2012-01-02          464    22243         2         70.885          -11.40   \n",
       "\n",
       "   coupon_discount  day  dow  month  coupon_used  \n",
       "0             0.00    2    0      1            0  \n",
       "1           -35.62    2    0      1            1  \n",
       "2             0.00    2    0      1            0  \n",
       "3             0.00    2    0      1            0  \n",
       "4             0.00    2    0      1            0  "
      ]
     },
     "execution_count": 50,
     "metadata": {},
     "output_type": "execute_result"
    }
   ],
   "source": [
    "cust_tran.head()"
   ]
  },
  {
   "cell_type": "code",
   "execution_count": 51,
   "metadata": {},
   "outputs": [],
   "source": [
    "# Aggregate transactions by item_id by mean for a particular customer\n",
    "transactions1 = pd.pivot_table(cust_tran, index = \"item_id\", \n",
    "               values=['customer_id','quantity','selling_price', 'other_discount','coupon_discount','coupon_used'],\n",
    "               aggfunc={'customer_id':lambda x: len(set(x)),\n",
    "                        'quantity':np.mean,\n",
    "                        'selling_price':np.mean,\n",
    "                        'other_discount':np.mean,\n",
    "                        'coupon_discount':np.mean,\n",
    "                        'coupon_used': np.sum\n",
    "                        } )\n",
    "transactions1.reset_index(inplace=True)\n",
    "transactions1.rename(columns={'customer_id': 'no_of_customers'}, inplace=True)"
   ]
  },
  {
   "cell_type": "code",
   "execution_count": 52,
   "metadata": {},
   "outputs": [
    {
     "data": {
      "text/html": [
       "<div>\n",
       "<style scoped>\n",
       "    .dataframe tbody tr th:only-of-type {\n",
       "        vertical-align: middle;\n",
       "    }\n",
       "\n",
       "    .dataframe tbody tr th {\n",
       "        vertical-align: top;\n",
       "    }\n",
       "\n",
       "    .dataframe thead th {\n",
       "        text-align: right;\n",
       "    }\n",
       "</style>\n",
       "<table border=\"1\" class=\"dataframe\">\n",
       "  <thead>\n",
       "    <tr style=\"text-align: right;\">\n",
       "      <th></th>\n",
       "      <th>item_id</th>\n",
       "      <th>coupon_discount</th>\n",
       "      <th>coupon_used</th>\n",
       "      <th>no_of_customers</th>\n",
       "      <th>other_discount</th>\n",
       "      <th>quantity</th>\n",
       "      <th>selling_price</th>\n",
       "    </tr>\n",
       "  </thead>\n",
       "  <tbody>\n",
       "    <tr>\n",
       "      <th>0</th>\n",
       "      <td>1</td>\n",
       "      <td>0.0</td>\n",
       "      <td>0</td>\n",
       "      <td>2</td>\n",
       "      <td>0.0</td>\n",
       "      <td>1.0</td>\n",
       "      <td>124.31</td>\n",
       "    </tr>\n",
       "    <tr>\n",
       "      <th>1</th>\n",
       "      <td>2</td>\n",
       "      <td>0.0</td>\n",
       "      <td>0</td>\n",
       "      <td>1</td>\n",
       "      <td>0.0</td>\n",
       "      <td>1.0</td>\n",
       "      <td>35.26</td>\n",
       "    </tr>\n",
       "    <tr>\n",
       "      <th>2</th>\n",
       "      <td>3</td>\n",
       "      <td>0.0</td>\n",
       "      <td>0</td>\n",
       "      <td>1</td>\n",
       "      <td>0.0</td>\n",
       "      <td>1.0</td>\n",
       "      <td>56.64</td>\n",
       "    </tr>\n",
       "    <tr>\n",
       "      <th>3</th>\n",
       "      <td>4</td>\n",
       "      <td>0.0</td>\n",
       "      <td>0</td>\n",
       "      <td>1</td>\n",
       "      <td>0.0</td>\n",
       "      <td>1.0</td>\n",
       "      <td>54.85</td>\n",
       "    </tr>\n",
       "    <tr>\n",
       "      <th>4</th>\n",
       "      <td>5</td>\n",
       "      <td>0.0</td>\n",
       "      <td>0</td>\n",
       "      <td>1</td>\n",
       "      <td>0.0</td>\n",
       "      <td>1.0</td>\n",
       "      <td>81.57</td>\n",
       "    </tr>\n",
       "  </tbody>\n",
       "</table>\n",
       "</div>"
      ],
      "text/plain": [
       "   item_id  coupon_discount  coupon_used  no_of_customers  other_discount  \\\n",
       "0        1              0.0            0                2             0.0   \n",
       "1        2              0.0            0                1             0.0   \n",
       "2        3              0.0            0                1             0.0   \n",
       "3        4              0.0            0                1             0.0   \n",
       "4        5              0.0            0                1             0.0   \n",
       "\n",
       "   quantity  selling_price  \n",
       "0       1.0         124.31  \n",
       "1       1.0          35.26  \n",
       "2       1.0          56.64  \n",
       "3       1.0          54.85  \n",
       "4       1.0          81.57  "
      ]
     },
     "execution_count": 52,
     "metadata": {},
     "output_type": "execute_result"
    }
   ],
   "source": [
    "transactions1.head()"
   ]
  },
  {
   "cell_type": "code",
   "execution_count": 53,
   "metadata": {},
   "outputs": [],
   "source": [
    "# Aggregate transactions by item_id by sum for a particular customer\n",
    "transactions2 = pd.pivot_table(cust_tran, index = \"item_id\", \n",
    "               values=['customer_id','quantity','selling_price', 'other_discount','coupon_discount'],\n",
    "               aggfunc={'customer_id':len,\n",
    "                        'quantity':np.sum,\n",
    "                        'selling_price':np.sum,\n",
    "                        'other_discount':np.sum,\n",
    "                        'coupon_discount':np.sum,\n",
    "                        } )\n",
    "transactions2.reset_index(inplace=True)\n",
    "transactions2.rename(columns={'customer_id': 't_counts', 'quantity':'qu_sum',\n",
    "                             'selling_price':'price_sum', 'other_discount':'od_sum',\n",
    "                             'coupon_discount':'cd_sum'}, inplace=True)"
   ]
  },
  {
   "cell_type": "code",
   "execution_count": 54,
   "metadata": {},
   "outputs": [
    {
     "data": {
      "text/html": [
       "<div>\n",
       "<style scoped>\n",
       "    .dataframe tbody tr th:only-of-type {\n",
       "        vertical-align: middle;\n",
       "    }\n",
       "\n",
       "    .dataframe tbody tr th {\n",
       "        vertical-align: top;\n",
       "    }\n",
       "\n",
       "    .dataframe thead th {\n",
       "        text-align: right;\n",
       "    }\n",
       "</style>\n",
       "<table border=\"1\" class=\"dataframe\">\n",
       "  <thead>\n",
       "    <tr style=\"text-align: right;\">\n",
       "      <th></th>\n",
       "      <th>item_id</th>\n",
       "      <th>cd_sum</th>\n",
       "      <th>t_counts</th>\n",
       "      <th>od_sum</th>\n",
       "      <th>qu_sum</th>\n",
       "      <th>price_sum</th>\n",
       "    </tr>\n",
       "  </thead>\n",
       "  <tbody>\n",
       "    <tr>\n",
       "      <th>0</th>\n",
       "      <td>1</td>\n",
       "      <td>0.0</td>\n",
       "      <td>2</td>\n",
       "      <td>0.0</td>\n",
       "      <td>2</td>\n",
       "      <td>248.62</td>\n",
       "    </tr>\n",
       "    <tr>\n",
       "      <th>1</th>\n",
       "      <td>2</td>\n",
       "      <td>0.0</td>\n",
       "      <td>1</td>\n",
       "      <td>0.0</td>\n",
       "      <td>1</td>\n",
       "      <td>35.26</td>\n",
       "    </tr>\n",
       "    <tr>\n",
       "      <th>2</th>\n",
       "      <td>3</td>\n",
       "      <td>0.0</td>\n",
       "      <td>1</td>\n",
       "      <td>0.0</td>\n",
       "      <td>1</td>\n",
       "      <td>56.64</td>\n",
       "    </tr>\n",
       "    <tr>\n",
       "      <th>3</th>\n",
       "      <td>4</td>\n",
       "      <td>0.0</td>\n",
       "      <td>1</td>\n",
       "      <td>0.0</td>\n",
       "      <td>1</td>\n",
       "      <td>54.85</td>\n",
       "    </tr>\n",
       "    <tr>\n",
       "      <th>4</th>\n",
       "      <td>5</td>\n",
       "      <td>0.0</td>\n",
       "      <td>1</td>\n",
       "      <td>0.0</td>\n",
       "      <td>1</td>\n",
       "      <td>81.57</td>\n",
       "    </tr>\n",
       "  </tbody>\n",
       "</table>\n",
       "</div>"
      ],
      "text/plain": [
       "   item_id  cd_sum  t_counts  od_sum  qu_sum  price_sum\n",
       "0        1     0.0         2     0.0       2     248.62\n",
       "1        2     0.0         1     0.0       1      35.26\n",
       "2        3     0.0         1     0.0       1      56.64\n",
       "3        4     0.0         1     0.0       1      54.85\n",
       "4        5     0.0         1     0.0       1      81.57"
      ]
     },
     "execution_count": 54,
     "metadata": {},
     "output_type": "execute_result"
    }
   ],
   "source": [
    "transactions2.head()"
   ]
  },
  {
   "cell_type": "code",
   "execution_count": 55,
   "metadata": {},
   "outputs": [],
   "source": [
    "transactions1 = pd.merge(transactions1, transactions2, on='item_id',how='left' )"
   ]
  },
  {
   "cell_type": "code",
   "execution_count": 56,
   "metadata": {},
   "outputs": [
    {
     "data": {
      "text/html": [
       "<div>\n",
       "<style scoped>\n",
       "    .dataframe tbody tr th:only-of-type {\n",
       "        vertical-align: middle;\n",
       "    }\n",
       "\n",
       "    .dataframe tbody tr th {\n",
       "        vertical-align: top;\n",
       "    }\n",
       "\n",
       "    .dataframe thead th {\n",
       "        text-align: right;\n",
       "    }\n",
       "</style>\n",
       "<table border=\"1\" class=\"dataframe\">\n",
       "  <thead>\n",
       "    <tr style=\"text-align: right;\">\n",
       "      <th></th>\n",
       "      <th>item_id</th>\n",
       "      <th>coupon_discount</th>\n",
       "      <th>coupon_used</th>\n",
       "      <th>no_of_customers</th>\n",
       "      <th>other_discount</th>\n",
       "      <th>quantity</th>\n",
       "      <th>selling_price</th>\n",
       "      <th>cd_sum</th>\n",
       "      <th>t_counts</th>\n",
       "      <th>od_sum</th>\n",
       "      <th>qu_sum</th>\n",
       "      <th>price_sum</th>\n",
       "      <th>total_discount_mean</th>\n",
       "      <th>total_discount_sum</th>\n",
       "    </tr>\n",
       "  </thead>\n",
       "  <tbody>\n",
       "    <tr>\n",
       "      <th>0</th>\n",
       "      <td>1</td>\n",
       "      <td>0.0</td>\n",
       "      <td>0</td>\n",
       "      <td>2</td>\n",
       "      <td>0.0</td>\n",
       "      <td>1.0</td>\n",
       "      <td>124.31</td>\n",
       "      <td>0.0</td>\n",
       "      <td>2</td>\n",
       "      <td>0.0</td>\n",
       "      <td>2</td>\n",
       "      <td>248.62</td>\n",
       "      <td>0.0</td>\n",
       "      <td>0.0</td>\n",
       "    </tr>\n",
       "    <tr>\n",
       "      <th>1</th>\n",
       "      <td>2</td>\n",
       "      <td>0.0</td>\n",
       "      <td>0</td>\n",
       "      <td>1</td>\n",
       "      <td>0.0</td>\n",
       "      <td>1.0</td>\n",
       "      <td>35.26</td>\n",
       "      <td>0.0</td>\n",
       "      <td>1</td>\n",
       "      <td>0.0</td>\n",
       "      <td>1</td>\n",
       "      <td>35.26</td>\n",
       "      <td>0.0</td>\n",
       "      <td>0.0</td>\n",
       "    </tr>\n",
       "    <tr>\n",
       "      <th>2</th>\n",
       "      <td>3</td>\n",
       "      <td>0.0</td>\n",
       "      <td>0</td>\n",
       "      <td>1</td>\n",
       "      <td>0.0</td>\n",
       "      <td>1.0</td>\n",
       "      <td>56.64</td>\n",
       "      <td>0.0</td>\n",
       "      <td>1</td>\n",
       "      <td>0.0</td>\n",
       "      <td>1</td>\n",
       "      <td>56.64</td>\n",
       "      <td>0.0</td>\n",
       "      <td>0.0</td>\n",
       "    </tr>\n",
       "    <tr>\n",
       "      <th>3</th>\n",
       "      <td>4</td>\n",
       "      <td>0.0</td>\n",
       "      <td>0</td>\n",
       "      <td>1</td>\n",
       "      <td>0.0</td>\n",
       "      <td>1.0</td>\n",
       "      <td>54.85</td>\n",
       "      <td>0.0</td>\n",
       "      <td>1</td>\n",
       "      <td>0.0</td>\n",
       "      <td>1</td>\n",
       "      <td>54.85</td>\n",
       "      <td>0.0</td>\n",
       "      <td>0.0</td>\n",
       "    </tr>\n",
       "    <tr>\n",
       "      <th>4</th>\n",
       "      <td>5</td>\n",
       "      <td>0.0</td>\n",
       "      <td>0</td>\n",
       "      <td>1</td>\n",
       "      <td>0.0</td>\n",
       "      <td>1.0</td>\n",
       "      <td>81.57</td>\n",
       "      <td>0.0</td>\n",
       "      <td>1</td>\n",
       "      <td>0.0</td>\n",
       "      <td>1</td>\n",
       "      <td>81.57</td>\n",
       "      <td>0.0</td>\n",
       "      <td>0.0</td>\n",
       "    </tr>\n",
       "  </tbody>\n",
       "</table>\n",
       "</div>"
      ],
      "text/plain": [
       "   item_id  coupon_discount  coupon_used  no_of_customers  other_discount  \\\n",
       "0        1              0.0            0                2             0.0   \n",
       "1        2              0.0            0                1             0.0   \n",
       "2        3              0.0            0                1             0.0   \n",
       "3        4              0.0            0                1             0.0   \n",
       "4        5              0.0            0                1             0.0   \n",
       "\n",
       "   quantity  selling_price  cd_sum  t_counts  od_sum  qu_sum  price_sum  \\\n",
       "0       1.0         124.31     0.0         2     0.0       2     248.62   \n",
       "1       1.0          35.26     0.0         1     0.0       1      35.26   \n",
       "2       1.0          56.64     0.0         1     0.0       1      56.64   \n",
       "3       1.0          54.85     0.0         1     0.0       1      54.85   \n",
       "4       1.0          81.57     0.0         1     0.0       1      81.57   \n",
       "\n",
       "   total_discount_mean  total_discount_sum  \n",
       "0                  0.0                 0.0  \n",
       "1                  0.0                 0.0  \n",
       "2                  0.0                 0.0  \n",
       "3                  0.0                 0.0  \n",
       "4                  0.0                 0.0  "
      ]
     },
     "execution_count": 56,
     "metadata": {},
     "output_type": "execute_result"
    }
   ],
   "source": [
    "transactions1['total_discount_mean'] = transactions1['coupon_discount'] + transactions1['other_discount']\n",
    "transactions1['total_discount_sum'] = transactions1['od_sum'] + transactions1['cd_sum']\n",
    "transactions1.head()"
   ]
  },
  {
   "cell_type": "markdown",
   "metadata": {},
   "source": [
    "### Step 3:\n",
    "Merge coupon_items and transaction1 on 'item_id'"
   ]
  },
  {
   "cell_type": "code",
   "execution_count": 57,
   "metadata": {},
   "outputs": [],
   "source": [
    "item_coupon_trans = pd.merge(coupons_items, transactions1, on='item_id', how='left')"
   ]
  },
  {
   "cell_type": "code",
   "execution_count": 58,
   "metadata": {},
   "outputs": [
    {
     "data": {
      "text/html": [
       "<div>\n",
       "<style scoped>\n",
       "    .dataframe tbody tr th:only-of-type {\n",
       "        vertical-align: middle;\n",
       "    }\n",
       "\n",
       "    .dataframe tbody tr th {\n",
       "        vertical-align: top;\n",
       "    }\n",
       "\n",
       "    .dataframe thead th {\n",
       "        text-align: right;\n",
       "    }\n",
       "</style>\n",
       "<table border=\"1\" class=\"dataframe\">\n",
       "  <thead>\n",
       "    <tr style=\"text-align: right;\">\n",
       "      <th></th>\n",
       "      <th>coupon_id</th>\n",
       "      <th>item_id</th>\n",
       "      <th>brand</th>\n",
       "      <th>brand_type</th>\n",
       "      <th>category</th>\n",
       "      <th>coupon_discount</th>\n",
       "      <th>coupon_used</th>\n",
       "      <th>no_of_customers</th>\n",
       "      <th>other_discount</th>\n",
       "      <th>quantity</th>\n",
       "      <th>selling_price</th>\n",
       "      <th>cd_sum</th>\n",
       "      <th>t_counts</th>\n",
       "      <th>od_sum</th>\n",
       "      <th>qu_sum</th>\n",
       "      <th>price_sum</th>\n",
       "      <th>total_discount_mean</th>\n",
       "      <th>total_discount_sum</th>\n",
       "    </tr>\n",
       "  </thead>\n",
       "  <tbody>\n",
       "    <tr>\n",
       "      <th>0</th>\n",
       "      <td>105</td>\n",
       "      <td>37</td>\n",
       "      <td>56</td>\n",
       "      <td>1</td>\n",
       "      <td>6</td>\n",
       "      <td>0.0</td>\n",
       "      <td>0.0</td>\n",
       "      <td>2.0</td>\n",
       "      <td>-8.108333</td>\n",
       "      <td>2.285714</td>\n",
       "      <td>57.247381</td>\n",
       "      <td>0.0</td>\n",
       "      <td>7.0</td>\n",
       "      <td>-56.758333</td>\n",
       "      <td>16.0</td>\n",
       "      <td>400.731667</td>\n",
       "      <td>-8.108333</td>\n",
       "      <td>-56.758333</td>\n",
       "    </tr>\n",
       "    <tr>\n",
       "      <th>1</th>\n",
       "      <td>107</td>\n",
       "      <td>75</td>\n",
       "      <td>56</td>\n",
       "      <td>1</td>\n",
       "      <td>6</td>\n",
       "      <td>0.0</td>\n",
       "      <td>0.0</td>\n",
       "      <td>4.0</td>\n",
       "      <td>-2.633712</td>\n",
       "      <td>1.363636</td>\n",
       "      <td>38.828485</td>\n",
       "      <td>0.0</td>\n",
       "      <td>33.0</td>\n",
       "      <td>-86.912500</td>\n",
       "      <td>45.0</td>\n",
       "      <td>1281.340000</td>\n",
       "      <td>-2.633712</td>\n",
       "      <td>-86.912500</td>\n",
       "    </tr>\n",
       "    <tr>\n",
       "      <th>2</th>\n",
       "      <td>494</td>\n",
       "      <td>76</td>\n",
       "      <td>209</td>\n",
       "      <td>0</td>\n",
       "      <td>6</td>\n",
       "      <td>0.0</td>\n",
       "      <td>0.0</td>\n",
       "      <td>1.0</td>\n",
       "      <td>-17.450000</td>\n",
       "      <td>1.000000</td>\n",
       "      <td>106.500000</td>\n",
       "      <td>0.0</td>\n",
       "      <td>1.0</td>\n",
       "      <td>-17.450000</td>\n",
       "      <td>1.0</td>\n",
       "      <td>106.500000</td>\n",
       "      <td>-17.450000</td>\n",
       "      <td>-17.450000</td>\n",
       "    </tr>\n",
       "    <tr>\n",
       "      <th>3</th>\n",
       "      <td>522</td>\n",
       "      <td>77</td>\n",
       "      <td>278</td>\n",
       "      <td>0</td>\n",
       "      <td>6</td>\n",
       "      <td>0.0</td>\n",
       "      <td>0.0</td>\n",
       "      <td>2.0</td>\n",
       "      <td>-16.920000</td>\n",
       "      <td>1.000000</td>\n",
       "      <td>87.270000</td>\n",
       "      <td>0.0</td>\n",
       "      <td>2.0</td>\n",
       "      <td>-33.840000</td>\n",
       "      <td>2.0</td>\n",
       "      <td>174.540000</td>\n",
       "      <td>-16.920000</td>\n",
       "      <td>-33.840000</td>\n",
       "    </tr>\n",
       "    <tr>\n",
       "      <th>4</th>\n",
       "      <td>518</td>\n",
       "      <td>77</td>\n",
       "      <td>278</td>\n",
       "      <td>0</td>\n",
       "      <td>6</td>\n",
       "      <td>0.0</td>\n",
       "      <td>0.0</td>\n",
       "      <td>2.0</td>\n",
       "      <td>-16.920000</td>\n",
       "      <td>1.000000</td>\n",
       "      <td>87.270000</td>\n",
       "      <td>0.0</td>\n",
       "      <td>2.0</td>\n",
       "      <td>-33.840000</td>\n",
       "      <td>2.0</td>\n",
       "      <td>174.540000</td>\n",
       "      <td>-16.920000</td>\n",
       "      <td>-33.840000</td>\n",
       "    </tr>\n",
       "  </tbody>\n",
       "</table>\n",
       "</div>"
      ],
      "text/plain": [
       "   coupon_id  item_id  brand  brand_type  category  coupon_discount  \\\n",
       "0        105       37     56           1         6              0.0   \n",
       "1        107       75     56           1         6              0.0   \n",
       "2        494       76    209           0         6              0.0   \n",
       "3        522       77    278           0         6              0.0   \n",
       "4        518       77    278           0         6              0.0   \n",
       "\n",
       "   coupon_used  no_of_customers  other_discount  quantity  selling_price  \\\n",
       "0          0.0              2.0       -8.108333  2.285714      57.247381   \n",
       "1          0.0              4.0       -2.633712  1.363636      38.828485   \n",
       "2          0.0              1.0      -17.450000  1.000000     106.500000   \n",
       "3          0.0              2.0      -16.920000  1.000000      87.270000   \n",
       "4          0.0              2.0      -16.920000  1.000000      87.270000   \n",
       "\n",
       "   cd_sum  t_counts     od_sum  qu_sum    price_sum  total_discount_mean  \\\n",
       "0     0.0       7.0 -56.758333    16.0   400.731667            -8.108333   \n",
       "1     0.0      33.0 -86.912500    45.0  1281.340000            -2.633712   \n",
       "2     0.0       1.0 -17.450000     1.0   106.500000           -17.450000   \n",
       "3     0.0       2.0 -33.840000     2.0   174.540000           -16.920000   \n",
       "4     0.0       2.0 -33.840000     2.0   174.540000           -16.920000   \n",
       "\n",
       "   total_discount_sum  \n",
       "0          -56.758333  \n",
       "1          -86.912500  \n",
       "2          -17.450000  \n",
       "3          -33.840000  \n",
       "4          -33.840000  "
      ]
     },
     "execution_count": 58,
     "metadata": {},
     "output_type": "execute_result"
    }
   ],
   "source": [
    "item_coupon_trans.head()"
   ]
  },
  {
   "cell_type": "code",
   "execution_count": 59,
   "metadata": {},
   "outputs": [
    {
     "data": {
      "text/plain": [
       "Index(['coupon_id', 'item_id', 'brand', 'brand_type', 'category',\n",
       "       'coupon_discount', 'coupon_used', 'no_of_customers', 'other_discount',\n",
       "       'quantity', 'selling_price', 'cd_sum', 't_counts', 'od_sum', 'qu_sum',\n",
       "       'price_sum', 'total_discount_mean', 'total_discount_sum'],\n",
       "      dtype='object')"
      ]
     },
     "execution_count": 59,
     "metadata": {},
     "output_type": "execute_result"
    }
   ],
   "source": [
    "item_coupon_trans.columns"
   ]
  },
  {
   "cell_type": "markdown",
   "metadata": {},
   "source": [
    "### Step 4:\n",
    "Now Aggregating item_coupon_trans on 'coupon_id'"
   ]
  },
  {
   "cell_type": "code",
   "execution_count": 60,
   "metadata": {},
   "outputs": [],
   "source": [
    "coupon = pd.pivot_table(item_coupon_trans, index =\"coupon_id\",\n",
    "                         values=[ 'item_id', 'brand', 'brand_type', 'category',\n",
    "       'coupon_discount', 'coupon_used', 'no_of_customers', 'other_discount',\n",
    "       'quantity', 'selling_price', 'cd_sum', 't_counts', 'od_sum', 'qu_sum',\n",
    "       'price_sum', 'total_discount_mean', 'total_discount_sum'],\n",
    "              aggfunc={'item_id':lambda x: len(set(x)),\n",
    "                       'brand':lambda x: mode(x)[0][0],\n",
    "                       'brand_type':lambda x: mode(x)[0][0],\n",
    "                       'category':lambda x: mode(x)[0][0],\n",
    "                       'coupon_discount':np.mean,\n",
    "                       'no_of_customers':np.mean,\n",
    "                       'other_discount':np.mean,\n",
    "                       'quantity':np.mean,\n",
    "                       'selling_price':np.mean,\n",
    "                      'coupon_used': np.sum,\n",
    "                       'cd_sum': np.sum,\n",
    "                       't_counts': np.sum,\n",
    "                       'od_sum': np.sum,\n",
    "                       'qu_sum': np.sum,\n",
    "                       'price_sum': np.sum,\n",
    "                       'total_discount_mean': np.mean,\n",
    "                       'total_discount_sum': np.sum\n",
    "                      })\n",
    "coupon.reset_index(inplace=True)"
   ]
  },
  {
   "cell_type": "code",
   "execution_count": 61,
   "metadata": {},
   "outputs": [],
   "source": [
    "coupon.rename(columns={'item_id':'item_counts'}, inplace=True)"
   ]
  },
  {
   "cell_type": "code",
   "execution_count": 62,
   "metadata": {},
   "outputs": [
    {
     "data": {
      "text/html": [
       "<div>\n",
       "<style scoped>\n",
       "    .dataframe tbody tr th:only-of-type {\n",
       "        vertical-align: middle;\n",
       "    }\n",
       "\n",
       "    .dataframe tbody tr th {\n",
       "        vertical-align: top;\n",
       "    }\n",
       "\n",
       "    .dataframe thead th {\n",
       "        text-align: right;\n",
       "    }\n",
       "</style>\n",
       "<table border=\"1\" class=\"dataframe\">\n",
       "  <thead>\n",
       "    <tr style=\"text-align: right;\">\n",
       "      <th></th>\n",
       "      <th>coupon_id</th>\n",
       "      <th>brand</th>\n",
       "      <th>brand_type</th>\n",
       "      <th>category</th>\n",
       "      <th>cd_sum</th>\n",
       "      <th>coupon_discount</th>\n",
       "      <th>coupon_used</th>\n",
       "      <th>item_counts</th>\n",
       "      <th>no_of_customers</th>\n",
       "      <th>od_sum</th>\n",
       "      <th>other_discount</th>\n",
       "      <th>price_sum</th>\n",
       "      <th>qu_sum</th>\n",
       "      <th>quantity</th>\n",
       "      <th>selling_price</th>\n",
       "      <th>t_counts</th>\n",
       "      <th>total_discount_mean</th>\n",
       "      <th>total_discount_sum</th>\n",
       "    </tr>\n",
       "  </thead>\n",
       "  <tbody>\n",
       "    <tr>\n",
       "      <th>0</th>\n",
       "      <td>1</td>\n",
       "      <td>1475</td>\n",
       "      <td>0</td>\n",
       "      <td>9</td>\n",
       "      <td>-1526.31</td>\n",
       "      <td>-1.321524</td>\n",
       "      <td>35.0</td>\n",
       "      <td>39</td>\n",
       "      <td>14.794872</td>\n",
       "      <td>-18780.020833</td>\n",
       "      <td>-16.620713</td>\n",
       "      <td>89796.868333</td>\n",
       "      <td>1034.0</td>\n",
       "      <td>1.221644</td>\n",
       "      <td>101.183245</td>\n",
       "      <td>826.0</td>\n",
       "      <td>-17.942237</td>\n",
       "      <td>-20306.330833</td>\n",
       "    </tr>\n",
       "    <tr>\n",
       "      <th>1</th>\n",
       "      <td>2</td>\n",
       "      <td>2084</td>\n",
       "      <td>0</td>\n",
       "      <td>6</td>\n",
       "      <td>0.00</td>\n",
       "      <td>0.000000</td>\n",
       "      <td>0.0</td>\n",
       "      <td>2</td>\n",
       "      <td>15.000000</td>\n",
       "      <td>-1163.521667</td>\n",
       "      <td>-21.343885</td>\n",
       "      <td>8940.520000</td>\n",
       "      <td>103.0</td>\n",
       "      <td>1.137500</td>\n",
       "      <td>122.534500</td>\n",
       "      <td>81.0</td>\n",
       "      <td>-21.343885</td>\n",
       "      <td>-1163.521667</td>\n",
       "    </tr>\n",
       "    <tr>\n",
       "      <th>2</th>\n",
       "      <td>3</td>\n",
       "      <td>278</td>\n",
       "      <td>0</td>\n",
       "      <td>6</td>\n",
       "      <td>-578.81</td>\n",
       "      <td>-2.747358</td>\n",
       "      <td>15.0</td>\n",
       "      <td>17</td>\n",
       "      <td>8.588235</td>\n",
       "      <td>-4055.343333</td>\n",
       "      <td>-14.728021</td>\n",
       "      <td>27756.490000</td>\n",
       "      <td>248.0</td>\n",
       "      <td>1.121525</td>\n",
       "      <td>131.655894</td>\n",
       "      <td>212.0</td>\n",
       "      <td>-17.475379</td>\n",
       "      <td>-4634.153333</td>\n",
       "    </tr>\n",
       "    <tr>\n",
       "      <th>3</th>\n",
       "      <td>4</td>\n",
       "      <td>544</td>\n",
       "      <td>0</td>\n",
       "      <td>6</td>\n",
       "      <td>-881.59</td>\n",
       "      <td>-1.485152</td>\n",
       "      <td>44.0</td>\n",
       "      <td>24</td>\n",
       "      <td>22.333333</td>\n",
       "      <td>-25895.740000</td>\n",
       "      <td>-36.718597</td>\n",
       "      <td>142874.023333</td>\n",
       "      <td>702.0</td>\n",
       "      <td>1.020872</td>\n",
       "      <td>211.708369</td>\n",
       "      <td>676.0</td>\n",
       "      <td>-38.203749</td>\n",
       "      <td>-26777.330000</td>\n",
       "    </tr>\n",
       "    <tr>\n",
       "      <th>4</th>\n",
       "      <td>5</td>\n",
       "      <td>5357</td>\n",
       "      <td>0</td>\n",
       "      <td>11</td>\n",
       "      <td>0.00</td>\n",
       "      <td>0.000000</td>\n",
       "      <td>0.0</td>\n",
       "      <td>7</td>\n",
       "      <td>6.000000</td>\n",
       "      <td>-1228.880000</td>\n",
       "      <td>-27.265786</td>\n",
       "      <td>16636.570000</td>\n",
       "      <td>44.0</td>\n",
       "      <td>1.000000</td>\n",
       "      <td>403.970000</td>\n",
       "      <td>44.0</td>\n",
       "      <td>-27.265786</td>\n",
       "      <td>-1228.880000</td>\n",
       "    </tr>\n",
       "  </tbody>\n",
       "</table>\n",
       "</div>"
      ],
      "text/plain": [
       "   coupon_id  brand  brand_type  category   cd_sum  coupon_discount  \\\n",
       "0          1   1475           0         9 -1526.31        -1.321524   \n",
       "1          2   2084           0         6     0.00         0.000000   \n",
       "2          3    278           0         6  -578.81        -2.747358   \n",
       "3          4    544           0         6  -881.59        -1.485152   \n",
       "4          5   5357           0        11     0.00         0.000000   \n",
       "\n",
       "   coupon_used  item_counts  no_of_customers        od_sum  other_discount  \\\n",
       "0         35.0           39        14.794872 -18780.020833      -16.620713   \n",
       "1          0.0            2        15.000000  -1163.521667      -21.343885   \n",
       "2         15.0           17         8.588235  -4055.343333      -14.728021   \n",
       "3         44.0           24        22.333333 -25895.740000      -36.718597   \n",
       "4          0.0            7         6.000000  -1228.880000      -27.265786   \n",
       "\n",
       "       price_sum  qu_sum  quantity  selling_price  t_counts  \\\n",
       "0   89796.868333  1034.0  1.221644     101.183245     826.0   \n",
       "1    8940.520000   103.0  1.137500     122.534500      81.0   \n",
       "2   27756.490000   248.0  1.121525     131.655894     212.0   \n",
       "3  142874.023333   702.0  1.020872     211.708369     676.0   \n",
       "4   16636.570000    44.0  1.000000     403.970000      44.0   \n",
       "\n",
       "   total_discount_mean  total_discount_sum  \n",
       "0           -17.942237       -20306.330833  \n",
       "1           -21.343885        -1163.521667  \n",
       "2           -17.475379        -4634.153333  \n",
       "3           -38.203749       -26777.330000  \n",
       "4           -27.265786        -1228.880000  "
      ]
     },
     "execution_count": 62,
     "metadata": {},
     "output_type": "execute_result"
    }
   ],
   "source": [
    "coupon.head()"
   ]
  },
  {
   "cell_type": "markdown",
   "metadata": {},
   "source": [
    "### Step 6:\n",
    "Aggregating cust_trans on 'coupon_id'"
   ]
  },
  {
   "cell_type": "code",
   "execution_count": 63,
   "metadata": {},
   "outputs": [
    {
     "data": {
      "text/html": [
       "<div>\n",
       "<style scoped>\n",
       "    .dataframe tbody tr th:only-of-type {\n",
       "        vertical-align: middle;\n",
       "    }\n",
       "\n",
       "    .dataframe tbody tr th {\n",
       "        vertical-align: top;\n",
       "    }\n",
       "\n",
       "    .dataframe thead th {\n",
       "        text-align: right;\n",
       "    }\n",
       "</style>\n",
       "<table border=\"1\" class=\"dataframe\">\n",
       "  <thead>\n",
       "    <tr style=\"text-align: right;\">\n",
       "      <th></th>\n",
       "      <th>customer_id</th>\n",
       "      <th>coupon_discount</th>\n",
       "      <th>coupon_used</th>\n",
       "      <th>day</th>\n",
       "      <th>dow</th>\n",
       "      <th>no_of_items</th>\n",
       "      <th>month</th>\n",
       "      <th>other_discount</th>\n",
       "      <th>quantity</th>\n",
       "      <th>selling_price</th>\n",
       "    </tr>\n",
       "  </thead>\n",
       "  <tbody>\n",
       "    <tr>\n",
       "      <th>0</th>\n",
       "      <td>1</td>\n",
       "      <td>-2.019876</td>\n",
       "      <td>78</td>\n",
       "      <td>3</td>\n",
       "      <td>3</td>\n",
       "      <td>463</td>\n",
       "      <td>5</td>\n",
       "      <td>-12.837537</td>\n",
       "      <td>1.170802</td>\n",
       "      <td>97.470480</td>\n",
       "    </tr>\n",
       "    <tr>\n",
       "      <th>1</th>\n",
       "      <td>2</td>\n",
       "      <td>-0.595084</td>\n",
       "      <td>4</td>\n",
       "      <td>13</td>\n",
       "      <td>5</td>\n",
       "      <td>352</td>\n",
       "      <td>6</td>\n",
       "      <td>-13.432195</td>\n",
       "      <td>1.131265</td>\n",
       "      <td>107.805783</td>\n",
       "    </tr>\n",
       "    <tr>\n",
       "      <th>2</th>\n",
       "      <td>3</td>\n",
       "      <td>-3.091546</td>\n",
       "      <td>53</td>\n",
       "      <td>16</td>\n",
       "      <td>4</td>\n",
       "      <td>406</td>\n",
       "      <td>7</td>\n",
       "      <td>-14.074853</td>\n",
       "      <td>11.578723</td>\n",
       "      <td>85.082452</td>\n",
       "    </tr>\n",
       "    <tr>\n",
       "      <th>3</th>\n",
       "      <td>4</td>\n",
       "      <td>-0.404773</td>\n",
       "      <td>1</td>\n",
       "      <td>14</td>\n",
       "      <td>5</td>\n",
       "      <td>125</td>\n",
       "      <td>5</td>\n",
       "      <td>-8.883656</td>\n",
       "      <td>1.272727</td>\n",
       "      <td>138.256770</td>\n",
       "    </tr>\n",
       "    <tr>\n",
       "      <th>4</th>\n",
       "      <td>5</td>\n",
       "      <td>-0.114684</td>\n",
       "      <td>2</td>\n",
       "      <td>11</td>\n",
       "      <td>1</td>\n",
       "      <td>490</td>\n",
       "      <td>5</td>\n",
       "      <td>-11.260696</td>\n",
       "      <td>117.869949</td>\n",
       "      <td>115.482842</td>\n",
       "    </tr>\n",
       "  </tbody>\n",
       "</table>\n",
       "</div>"
      ],
      "text/plain": [
       "   customer_id  coupon_discount  coupon_used  day  dow  no_of_items  month  \\\n",
       "0            1        -2.019876           78    3    3          463      5   \n",
       "1            2        -0.595084            4   13    5          352      6   \n",
       "2            3        -3.091546           53   16    4          406      7   \n",
       "3            4        -0.404773            1   14    5          125      5   \n",
       "4            5        -0.114684            2   11    1          490      5   \n",
       "\n",
       "   other_discount    quantity  selling_price  \n",
       "0      -12.837537    1.170802      97.470480  \n",
       "1      -13.432195    1.131265     107.805783  \n",
       "2      -14.074853   11.578723      85.082452  \n",
       "3       -8.883656    1.272727     138.256770  \n",
       "4      -11.260696  117.869949     115.482842  "
      ]
     },
     "execution_count": 63,
     "metadata": {},
     "output_type": "execute_result"
    }
   ],
   "source": [
    "# Aggregate transactions by customer_id\n",
    "transactions3 = pd.pivot_table(cust_tran, index = \"customer_id\", \n",
    "               values=['item_id','quantity','selling_price', 'other_discount','coupon_discount','coupon_used','day','dow','month'],\n",
    "               aggfunc={'item_id':lambda x: len(set(x)),\n",
    "                        'quantity':np.mean,\n",
    "                        'selling_price':np.mean,\n",
    "                        'other_discount':np.mean,\n",
    "                        'coupon_discount':np.mean,\n",
    "                        'coupon_used': np.sum,\n",
    "                        'day':lambda x: mode(x)[0][0],\n",
    "                        'dow':lambda x: mode(x)[0][0],\n",
    "                        'month':lambda x: mode(x)[0][0]}\n",
    "              )\n",
    "transactions3.reset_index(inplace=True)\n",
    "transactions3.rename(columns={'item_id': 'no_of_items'}, inplace=True)\n",
    "transactions3.head()"
   ]
  },
  {
   "cell_type": "code",
   "execution_count": 64,
   "metadata": {},
   "outputs": [
    {
     "data": {
      "text/html": [
       "<div>\n",
       "<style scoped>\n",
       "    .dataframe tbody tr th:only-of-type {\n",
       "        vertical-align: middle;\n",
       "    }\n",
       "\n",
       "    .dataframe tbody tr th {\n",
       "        vertical-align: top;\n",
       "    }\n",
       "\n",
       "    .dataframe thead th {\n",
       "        text-align: right;\n",
       "    }\n",
       "</style>\n",
       "<table border=\"1\" class=\"dataframe\">\n",
       "  <thead>\n",
       "    <tr style=\"text-align: right;\">\n",
       "      <th></th>\n",
       "      <th>customer_id</th>\n",
       "      <th>cdd_sum</th>\n",
       "      <th>customer_id_count</th>\n",
       "      <th>odd_sum</th>\n",
       "      <th>qa_sum</th>\n",
       "      <th>pprice_sum</th>\n",
       "    </tr>\n",
       "  </thead>\n",
       "  <tbody>\n",
       "    <tr>\n",
       "      <th>0</th>\n",
       "      <td>1</td>\n",
       "      <td>-2116.83</td>\n",
       "      <td>1048</td>\n",
       "      <td>-13453.738833</td>\n",
       "      <td>1227</td>\n",
       "      <td>102149.063000</td>\n",
       "    </tr>\n",
       "    <tr>\n",
       "      <th>1</th>\n",
       "      <td>2</td>\n",
       "      <td>-249.34</td>\n",
       "      <td>419</td>\n",
       "      <td>-5628.089833</td>\n",
       "      <td>474</td>\n",
       "      <td>45170.623167</td>\n",
       "    </tr>\n",
       "    <tr>\n",
       "      <th>2</th>\n",
       "      <td>3</td>\n",
       "      <td>-2179.54</td>\n",
       "      <td>705</td>\n",
       "      <td>-9922.771654</td>\n",
       "      <td>8163</td>\n",
       "      <td>59983.128347</td>\n",
       "    </tr>\n",
       "    <tr>\n",
       "      <th>3</th>\n",
       "      <td>4</td>\n",
       "      <td>-89.05</td>\n",
       "      <td>220</td>\n",
       "      <td>-1954.404333</td>\n",
       "      <td>280</td>\n",
       "      <td>30416.489333</td>\n",
       "    </tr>\n",
       "    <tr>\n",
       "      <th>4</th>\n",
       "      <td>5</td>\n",
       "      <td>-90.83</td>\n",
       "      <td>792</td>\n",
       "      <td>-8918.471477</td>\n",
       "      <td>93353</td>\n",
       "      <td>91462.410620</td>\n",
       "    </tr>\n",
       "  </tbody>\n",
       "</table>\n",
       "</div>"
      ],
      "text/plain": [
       "   customer_id  cdd_sum  customer_id_count       odd_sum  qa_sum  \\\n",
       "0            1 -2116.83               1048 -13453.738833    1227   \n",
       "1            2  -249.34                419  -5628.089833     474   \n",
       "2            3 -2179.54                705  -9922.771654    8163   \n",
       "3            4   -89.05                220  -1954.404333     280   \n",
       "4            5   -90.83                792  -8918.471477   93353   \n",
       "\n",
       "      pprice_sum  \n",
       "0  102149.063000  \n",
       "1   45170.623167  \n",
       "2   59983.128347  \n",
       "3   30416.489333  \n",
       "4   91462.410620  "
      ]
     },
     "execution_count": 64,
     "metadata": {},
     "output_type": "execute_result"
    }
   ],
   "source": [
    "# Aggregate transactions by customer_id by sum\n",
    "transactions4 = pd.pivot_table(cust_tran, index = \"customer_id\", \n",
    "               values=['item_id','quantity','selling_price', 'other_discount','coupon_discount'],\n",
    "               aggfunc={'item_id':len,\n",
    "                        'quantity':np.sum,\n",
    "                        'selling_price':np.sum,\n",
    "                        'other_discount':np.sum,\n",
    "                        'coupon_discount':np.sum}\n",
    "              )\n",
    "transactions4.reset_index(inplace=True)\n",
    "transactions4.rename(columns={'item_id': 'customer_id_count','quantity':'qa_sum','selling_price':'pprice_sum',\n",
    "                             'other_discount':'odd_sum','coupon_discount':'cdd_sum'  }, inplace=True)\n",
    "transactions4.head()"
   ]
  },
  {
   "cell_type": "code",
   "execution_count": 65,
   "metadata": {},
   "outputs": [
    {
     "data": {
      "text/html": [
       "<div>\n",
       "<style scoped>\n",
       "    .dataframe tbody tr th:only-of-type {\n",
       "        vertical-align: middle;\n",
       "    }\n",
       "\n",
       "    .dataframe tbody tr th {\n",
       "        vertical-align: top;\n",
       "    }\n",
       "\n",
       "    .dataframe thead th {\n",
       "        text-align: right;\n",
       "    }\n",
       "</style>\n",
       "<table border=\"1\" class=\"dataframe\">\n",
       "  <thead>\n",
       "    <tr style=\"text-align: right;\">\n",
       "      <th></th>\n",
       "      <th>customer_id</th>\n",
       "      <th>coupon_discount</th>\n",
       "      <th>coupon_used</th>\n",
       "      <th>day</th>\n",
       "      <th>dow</th>\n",
       "      <th>no_of_items</th>\n",
       "      <th>month</th>\n",
       "      <th>other_discount</th>\n",
       "      <th>quantity</th>\n",
       "      <th>selling_price</th>\n",
       "      <th>cdd_sum</th>\n",
       "      <th>customer_id_count</th>\n",
       "      <th>odd_sum</th>\n",
       "      <th>qa_sum</th>\n",
       "      <th>pprice_sum</th>\n",
       "    </tr>\n",
       "  </thead>\n",
       "  <tbody>\n",
       "    <tr>\n",
       "      <th>0</th>\n",
       "      <td>1</td>\n",
       "      <td>-2.019876</td>\n",
       "      <td>78</td>\n",
       "      <td>3</td>\n",
       "      <td>3</td>\n",
       "      <td>463</td>\n",
       "      <td>5</td>\n",
       "      <td>-12.837537</td>\n",
       "      <td>1.170802</td>\n",
       "      <td>97.470480</td>\n",
       "      <td>-2116.83</td>\n",
       "      <td>1048</td>\n",
       "      <td>-13453.738833</td>\n",
       "      <td>1227</td>\n",
       "      <td>102149.063000</td>\n",
       "    </tr>\n",
       "    <tr>\n",
       "      <th>1</th>\n",
       "      <td>2</td>\n",
       "      <td>-0.595084</td>\n",
       "      <td>4</td>\n",
       "      <td>13</td>\n",
       "      <td>5</td>\n",
       "      <td>352</td>\n",
       "      <td>6</td>\n",
       "      <td>-13.432195</td>\n",
       "      <td>1.131265</td>\n",
       "      <td>107.805783</td>\n",
       "      <td>-249.34</td>\n",
       "      <td>419</td>\n",
       "      <td>-5628.089833</td>\n",
       "      <td>474</td>\n",
       "      <td>45170.623167</td>\n",
       "    </tr>\n",
       "    <tr>\n",
       "      <th>2</th>\n",
       "      <td>3</td>\n",
       "      <td>-3.091546</td>\n",
       "      <td>53</td>\n",
       "      <td>16</td>\n",
       "      <td>4</td>\n",
       "      <td>406</td>\n",
       "      <td>7</td>\n",
       "      <td>-14.074853</td>\n",
       "      <td>11.578723</td>\n",
       "      <td>85.082452</td>\n",
       "      <td>-2179.54</td>\n",
       "      <td>705</td>\n",
       "      <td>-9922.771654</td>\n",
       "      <td>8163</td>\n",
       "      <td>59983.128347</td>\n",
       "    </tr>\n",
       "    <tr>\n",
       "      <th>3</th>\n",
       "      <td>4</td>\n",
       "      <td>-0.404773</td>\n",
       "      <td>1</td>\n",
       "      <td>14</td>\n",
       "      <td>5</td>\n",
       "      <td>125</td>\n",
       "      <td>5</td>\n",
       "      <td>-8.883656</td>\n",
       "      <td>1.272727</td>\n",
       "      <td>138.256770</td>\n",
       "      <td>-89.05</td>\n",
       "      <td>220</td>\n",
       "      <td>-1954.404333</td>\n",
       "      <td>280</td>\n",
       "      <td>30416.489333</td>\n",
       "    </tr>\n",
       "    <tr>\n",
       "      <th>4</th>\n",
       "      <td>5</td>\n",
       "      <td>-0.114684</td>\n",
       "      <td>2</td>\n",
       "      <td>11</td>\n",
       "      <td>1</td>\n",
       "      <td>490</td>\n",
       "      <td>5</td>\n",
       "      <td>-11.260696</td>\n",
       "      <td>117.869949</td>\n",
       "      <td>115.482842</td>\n",
       "      <td>-90.83</td>\n",
       "      <td>792</td>\n",
       "      <td>-8918.471477</td>\n",
       "      <td>93353</td>\n",
       "      <td>91462.410620</td>\n",
       "    </tr>\n",
       "  </tbody>\n",
       "</table>\n",
       "</div>"
      ],
      "text/plain": [
       "   customer_id  coupon_discount  coupon_used  day  dow  no_of_items  month  \\\n",
       "0            1        -2.019876           78    3    3          463      5   \n",
       "1            2        -0.595084            4   13    5          352      6   \n",
       "2            3        -3.091546           53   16    4          406      7   \n",
       "3            4        -0.404773            1   14    5          125      5   \n",
       "4            5        -0.114684            2   11    1          490      5   \n",
       "\n",
       "   other_discount    quantity  selling_price  cdd_sum  customer_id_count  \\\n",
       "0      -12.837537    1.170802      97.470480 -2116.83               1048   \n",
       "1      -13.432195    1.131265     107.805783  -249.34                419   \n",
       "2      -14.074853   11.578723      85.082452 -2179.54                705   \n",
       "3       -8.883656    1.272727     138.256770   -89.05                220   \n",
       "4      -11.260696  117.869949     115.482842   -90.83                792   \n",
       "\n",
       "        odd_sum  qa_sum     pprice_sum  \n",
       "0 -13453.738833    1227  102149.063000  \n",
       "1  -5628.089833     474   45170.623167  \n",
       "2  -9922.771654    8163   59983.128347  \n",
       "3  -1954.404333     280   30416.489333  \n",
       "4  -8918.471477   93353   91462.410620  "
      ]
     },
     "execution_count": 65,
     "metadata": {},
     "output_type": "execute_result"
    }
   ],
   "source": [
    "transactions = pd.merge(transactions3, transactions4, on='customer_id', how='left')\n",
    "transactions.head()"
   ]
  },
  {
   "cell_type": "markdown",
   "metadata": {},
   "source": [
    "### Step 5,7,8,9\n",
    "\n",
    "Merge 4 and train on coupon_id\n",
    "\n",
    "Merge 5 with campaign data on campaign_id\n",
    "\n",
    "Merge 7 with customer demographic data on customer_id\n",
    "\n",
    "Merge 6 with 8 on customer_id respectively"
   ]
  },
  {
   "cell_type": "code",
   "execution_count": 66,
   "metadata": {},
   "outputs": [],
   "source": [
    "def merge_all(df): \n",
    "    df=  pd.merge(df, coupon, on=\"coupon_id\", how=\"left\")\n",
    "    df = pd.merge(df, campaign, on=\"campaign_id\", how=\"left\")\n",
    "    df = pd.merge(df, cust_demo, on=\"customer_id\", how=\"left\")\n",
    "    df = pd.merge(df, transactions, on='customer_id', how='left')\n",
    "    return df"
   ]
  },
  {
   "cell_type": "code",
   "execution_count": 67,
   "metadata": {},
   "outputs": [],
   "source": [
    "train = merge_all(train)\n",
    "test = merge_all(test)"
   ]
  },
  {
   "cell_type": "code",
   "execution_count": 68,
   "metadata": {},
   "outputs": [
    {
     "data": {
      "text/plain": [
       "((78369, 46), (50226, 45))"
      ]
     },
     "execution_count": 68,
     "metadata": {},
     "output_type": "execute_result"
    }
   ],
   "source": [
    "train.shape, test.shape"
   ]
  },
  {
   "cell_type": "code",
   "execution_count": 69,
   "metadata": {},
   "outputs": [],
   "source": [
    "## To save the final file after merging the data\n",
    "##train.to_csv('FinalData.csv')"
   ]
  },
  {
   "cell_type": "markdown",
   "metadata": {},
   "source": [
    "# Data is Ready here, But we need to check for Null Values which could have been created while merging."
   ]
  },
  {
   "cell_type": "code",
   "execution_count": 70,
   "metadata": {},
   "outputs": [
    {
     "data": {
      "text/plain": [
       "id                         0\n",
       "campaign_id                0\n",
       "coupon_id                  0\n",
       "customer_id                0\n",
       "redemption_status          0\n",
       "brand                      0\n",
       "brand_type                 0\n",
       "category                   0\n",
       "cd_sum                     0\n",
       "coupon_discount_x          0\n",
       "coupon_used_x              0\n",
       "item_counts                0\n",
       "no_of_customers            0\n",
       "od_sum                     0\n",
       "other_discount_x           0\n",
       "price_sum                  0\n",
       "qu_sum                     0\n",
       "quantity_x                 0\n",
       "selling_price_x            0\n",
       "t_counts                   0\n",
       "total_discount_mean        0\n",
       "total_discount_sum         0\n",
       "campaign_type              0\n",
       "start_date                 0\n",
       "end_date                   0\n",
       "campaign_duration          0\n",
       "age_range              34708\n",
       "marital_status         34708\n",
       "rented                 34708\n",
       "family_size            34708\n",
       "no_of_children         34708\n",
       "income_bracket         34708\n",
       "coupon_discount_y          0\n",
       "coupon_used_y              0\n",
       "day                        0\n",
       "dow                        0\n",
       "no_of_items                0\n",
       "month                      0\n",
       "other_discount_y           0\n",
       "quantity_y                 0\n",
       "selling_price_y            0\n",
       "cdd_sum                    0\n",
       "customer_id_count          0\n",
       "odd_sum                    0\n",
       "qa_sum                     0\n",
       "pprice_sum                 0\n",
       "dtype: int64"
      ]
     },
     "execution_count": 70,
     "metadata": {},
     "output_type": "execute_result"
    }
   ],
   "source": [
    "train.isnull().sum()"
   ]
  },
  {
   "cell_type": "code",
   "execution_count": 71,
   "metadata": {},
   "outputs": [
    {
     "data": {
      "text/plain": [
       "id                         0\n",
       "campaign_id                0\n",
       "coupon_id                  0\n",
       "customer_id                0\n",
       "brand                      0\n",
       "brand_type                 0\n",
       "category                   0\n",
       "cd_sum                     0\n",
       "coupon_discount_x          0\n",
       "coupon_used_x              0\n",
       "item_counts                0\n",
       "no_of_customers            0\n",
       "od_sum                     0\n",
       "other_discount_x           0\n",
       "price_sum                  0\n",
       "qu_sum                     0\n",
       "quantity_x                 0\n",
       "selling_price_x            0\n",
       "t_counts                   0\n",
       "total_discount_mean        0\n",
       "total_discount_sum         0\n",
       "campaign_type              0\n",
       "start_date                 0\n",
       "end_date                   0\n",
       "campaign_duration          0\n",
       "age_range              19287\n",
       "marital_status         19287\n",
       "rented                 19287\n",
       "family_size            19287\n",
       "no_of_children         19287\n",
       "income_bracket         19287\n",
       "coupon_discount_y          0\n",
       "coupon_used_y              0\n",
       "day                        0\n",
       "dow                        0\n",
       "no_of_items                0\n",
       "month                      0\n",
       "other_discount_y           0\n",
       "quantity_y                 0\n",
       "selling_price_y            0\n",
       "cdd_sum                    0\n",
       "customer_id_count          0\n",
       "odd_sum                    0\n",
       "qa_sum                     0\n",
       "pprice_sum                 0\n",
       "dtype: int64"
      ]
     },
     "execution_count": 71,
     "metadata": {},
     "output_type": "execute_result"
    }
   ],
   "source": [
    "test.isnull().sum()"
   ]
  },
  {
   "cell_type": "markdown",
   "metadata": {},
   "source": [
    "**Observation**\n",
    "\n",
    "There are missing values in:\n",
    "\n",
    "1. age_range\n",
    "2. marital_status\n",
    "3. rented\n",
    "4. family_size\n",
    "5. no_of_children\n",
    "6. income_bracke"
   ]
  },
  {
   "cell_type": "markdown",
   "metadata": {},
   "source": [
    "### As all of these columns are present in cust_demo dataframe, filling the NaN's with the mode."
   ]
  },
  {
   "cell_type": "code",
   "execution_count": 72,
   "metadata": {},
   "outputs": [],
   "source": [
    "def deal_na(df):\n",
    "    for col in cust_demo.columns.tolist()[1:]:\n",
    "        df[col].fillna(mode(df[col]).mode[0], inplace=True)\n",
    "    return df\n",
    "\n",
    "train = deal_na(train)\n",
    "test = deal_na(test)"
   ]
  },
  {
   "cell_type": "code",
   "execution_count": 73,
   "metadata": {},
   "outputs": [
    {
     "data": {
      "text/plain": [
       "id                     0\n",
       "campaign_id            0\n",
       "coupon_id              0\n",
       "customer_id            0\n",
       "redemption_status      0\n",
       "brand                  0\n",
       "brand_type             0\n",
       "category               0\n",
       "cd_sum                 0\n",
       "coupon_discount_x      0\n",
       "coupon_used_x          0\n",
       "item_counts            0\n",
       "no_of_customers        0\n",
       "od_sum                 0\n",
       "other_discount_x       0\n",
       "price_sum              0\n",
       "qu_sum                 0\n",
       "quantity_x             0\n",
       "selling_price_x        0\n",
       "t_counts               0\n",
       "total_discount_mean    0\n",
       "total_discount_sum     0\n",
       "campaign_type          0\n",
       "start_date             0\n",
       "end_date               0\n",
       "campaign_duration      0\n",
       "age_range              0\n",
       "marital_status         0\n",
       "rented                 0\n",
       "family_size            0\n",
       "no_of_children         0\n",
       "income_bracket         0\n",
       "coupon_discount_y      0\n",
       "coupon_used_y          0\n",
       "day                    0\n",
       "dow                    0\n",
       "no_of_items            0\n",
       "month                  0\n",
       "other_discount_y       0\n",
       "quantity_y             0\n",
       "selling_price_y        0\n",
       "cdd_sum                0\n",
       "customer_id_count      0\n",
       "odd_sum                0\n",
       "qa_sum                 0\n",
       "pprice_sum             0\n",
       "dtype: int64"
      ]
     },
     "execution_count": 73,
     "metadata": {},
     "output_type": "execute_result"
    }
   ],
   "source": [
    "train.isnull().sum()"
   ]
  },
  {
   "cell_type": "code",
   "execution_count": 74,
   "metadata": {},
   "outputs": [
    {
     "data": {
      "text/plain": [
       "id                     0\n",
       "campaign_id            0\n",
       "coupon_id              0\n",
       "customer_id            0\n",
       "brand                  0\n",
       "brand_type             0\n",
       "category               0\n",
       "cd_sum                 0\n",
       "coupon_discount_x      0\n",
       "coupon_used_x          0\n",
       "item_counts            0\n",
       "no_of_customers        0\n",
       "od_sum                 0\n",
       "other_discount_x       0\n",
       "price_sum              0\n",
       "qu_sum                 0\n",
       "quantity_x             0\n",
       "selling_price_x        0\n",
       "t_counts               0\n",
       "total_discount_mean    0\n",
       "total_discount_sum     0\n",
       "campaign_type          0\n",
       "start_date             0\n",
       "end_date               0\n",
       "campaign_duration      0\n",
       "age_range              0\n",
       "marital_status         0\n",
       "rented                 0\n",
       "family_size            0\n",
       "no_of_children         0\n",
       "income_bracket         0\n",
       "coupon_discount_y      0\n",
       "coupon_used_y          0\n",
       "day                    0\n",
       "dow                    0\n",
       "no_of_items            0\n",
       "month                  0\n",
       "other_discount_y       0\n",
       "quantity_y             0\n",
       "selling_price_y        0\n",
       "cdd_sum                0\n",
       "customer_id_count      0\n",
       "odd_sum                0\n",
       "qa_sum                 0\n",
       "pprice_sum             0\n",
       "dtype: int64"
      ]
     },
     "execution_count": 74,
     "metadata": {},
     "output_type": "execute_result"
    }
   ],
   "source": [
    "test.isnull().sum()"
   ]
  },
  {
   "cell_type": "markdown",
   "metadata": {},
   "source": [
    "## Now Dropping off the Unwanted Columns and making the data ready for Model Building"
   ]
  },
  {
   "cell_type": "code",
   "execution_count": 75,
   "metadata": {},
   "outputs": [],
   "source": [
    "test_id = test['id']\n",
    "target = train['redemption_status']\n",
    "train.drop(['id','campaign_id','start_date','end_date', 'redemption_status'], axis=1, inplace=True)\n",
    "test.drop(['id','campaign_id','start_date','end_date'], axis=1, inplace=True)"
   ]
  },
  {
   "cell_type": "code",
   "execution_count": 76,
   "metadata": {},
   "outputs": [
    {
     "data": {
      "text/html": [
       "<div>\n",
       "<style scoped>\n",
       "    .dataframe tbody tr th:only-of-type {\n",
       "        vertical-align: middle;\n",
       "    }\n",
       "\n",
       "    .dataframe tbody tr th {\n",
       "        vertical-align: top;\n",
       "    }\n",
       "\n",
       "    .dataframe thead th {\n",
       "        text-align: right;\n",
       "    }\n",
       "</style>\n",
       "<table border=\"1\" class=\"dataframe\">\n",
       "  <thead>\n",
       "    <tr style=\"text-align: right;\">\n",
       "      <th></th>\n",
       "      <th>coupon_id</th>\n",
       "      <th>customer_id</th>\n",
       "      <th>brand</th>\n",
       "      <th>brand_type</th>\n",
       "      <th>category</th>\n",
       "      <th>cd_sum</th>\n",
       "      <th>coupon_discount_x</th>\n",
       "      <th>coupon_used_x</th>\n",
       "      <th>item_counts</th>\n",
       "      <th>no_of_customers</th>\n",
       "      <th>od_sum</th>\n",
       "      <th>other_discount_x</th>\n",
       "      <th>price_sum</th>\n",
       "      <th>qu_sum</th>\n",
       "      <th>quantity_x</th>\n",
       "      <th>selling_price_x</th>\n",
       "      <th>t_counts</th>\n",
       "      <th>total_discount_mean</th>\n",
       "      <th>total_discount_sum</th>\n",
       "      <th>campaign_type</th>\n",
       "      <th>campaign_duration</th>\n",
       "      <th>age_range</th>\n",
       "      <th>marital_status</th>\n",
       "      <th>rented</th>\n",
       "      <th>family_size</th>\n",
       "      <th>no_of_children</th>\n",
       "      <th>income_bracket</th>\n",
       "      <th>coupon_discount_y</th>\n",
       "      <th>coupon_used_y</th>\n",
       "      <th>day</th>\n",
       "      <th>dow</th>\n",
       "      <th>no_of_items</th>\n",
       "      <th>month</th>\n",
       "      <th>other_discount_y</th>\n",
       "      <th>quantity_y</th>\n",
       "      <th>selling_price_y</th>\n",
       "      <th>cdd_sum</th>\n",
       "      <th>customer_id_count</th>\n",
       "      <th>odd_sum</th>\n",
       "      <th>qa_sum</th>\n",
       "      <th>pprice_sum</th>\n",
       "    </tr>\n",
       "  </thead>\n",
       "  <tbody>\n",
       "    <tr>\n",
       "      <th>0</th>\n",
       "      <td>27</td>\n",
       "      <td>1053</td>\n",
       "      <td>1105</td>\n",
       "      <td>0</td>\n",
       "      <td>6</td>\n",
       "      <td>-5349.93</td>\n",
       "      <td>-1.241694</td>\n",
       "      <td>191.0</td>\n",
       "      <td>125</td>\n",
       "      <td>19.224000</td>\n",
       "      <td>-177447.090167</td>\n",
       "      <td>-44.367382</td>\n",
       "      <td>436274.446738</td>\n",
       "      <td>4661.0</td>\n",
       "      <td>1.169768</td>\n",
       "      <td>117.276864</td>\n",
       "      <td>3713.0</td>\n",
       "      <td>-45.609077</td>\n",
       "      <td>-182797.020167</td>\n",
       "      <td>0</td>\n",
       "      <td>47</td>\n",
       "      <td>3.0</td>\n",
       "      <td>1.0</td>\n",
       "      <td>0.0</td>\n",
       "      <td>1.0</td>\n",
       "      <td>0.0</td>\n",
       "      <td>5.0</td>\n",
       "      <td>-0.287258</td>\n",
       "      <td>1</td>\n",
       "      <td>11</td>\n",
       "      <td>2</td>\n",
       "      <td>208</td>\n",
       "      <td>5</td>\n",
       "      <td>-25.583099</td>\n",
       "      <td>340.487097</td>\n",
       "      <td>163.966826</td>\n",
       "      <td>-89.05</td>\n",
       "      <td>310</td>\n",
       "      <td>-7930.760842</td>\n",
       "      <td>105551</td>\n",
       "      <td>50829.715972</td>\n",
       "    </tr>\n",
       "    <tr>\n",
       "      <th>1</th>\n",
       "      <td>116</td>\n",
       "      <td>48</td>\n",
       "      <td>56</td>\n",
       "      <td>1</td>\n",
       "      <td>6</td>\n",
       "      <td>0.00</td>\n",
       "      <td>0.000000</td>\n",
       "      <td>0.0</td>\n",
       "      <td>3</td>\n",
       "      <td>20.333333</td>\n",
       "      <td>-586.140000</td>\n",
       "      <td>-10.207037</td>\n",
       "      <td>5323.510000</td>\n",
       "      <td>86.0</td>\n",
       "      <td>1.050926</td>\n",
       "      <td>70.885046</td>\n",
       "      <td>75.0</td>\n",
       "      <td>-10.207037</td>\n",
       "      <td>-586.140000</td>\n",
       "      <td>0</td>\n",
       "      <td>47</td>\n",
       "      <td>2.0</td>\n",
       "      <td>0.0</td>\n",
       "      <td>0.0</td>\n",
       "      <td>2.0</td>\n",
       "      <td>0.0</td>\n",
       "      <td>3.0</td>\n",
       "      <td>-3.215039</td>\n",
       "      <td>12</td>\n",
       "      <td>4</td>\n",
       "      <td>5</td>\n",
       "      <td>244</td>\n",
       "      <td>6</td>\n",
       "      <td>-20.013685</td>\n",
       "      <td>31.540260</td>\n",
       "      <td>188.638474</td>\n",
       "      <td>-1237.79</td>\n",
       "      <td>385</td>\n",
       "      <td>-7705.268702</td>\n",
       "      <td>12143</td>\n",
       "      <td>72625.812434</td>\n",
       "    </tr>\n",
       "    <tr>\n",
       "      <th>2</th>\n",
       "      <td>635</td>\n",
       "      <td>205</td>\n",
       "      <td>560</td>\n",
       "      <td>0</td>\n",
       "      <td>11</td>\n",
       "      <td>-605.54</td>\n",
       "      <td>-2.987321</td>\n",
       "      <td>15.0</td>\n",
       "      <td>67</td>\n",
       "      <td>1.761194</td>\n",
       "      <td>-12475.083333</td>\n",
       "      <td>-76.767366</td>\n",
       "      <td>48980.998333</td>\n",
       "      <td>202.0</td>\n",
       "      <td>1.353802</td>\n",
       "      <td>342.826195</td>\n",
       "      <td>142.0</td>\n",
       "      <td>-79.754687</td>\n",
       "      <td>-13080.623333</td>\n",
       "      <td>1</td>\n",
       "      <td>32</td>\n",
       "      <td>3.0</td>\n",
       "      <td>0.0</td>\n",
       "      <td>0.0</td>\n",
       "      <td>2.0</td>\n",
       "      <td>0.0</td>\n",
       "      <td>7.0</td>\n",
       "      <td>-2.212082</td>\n",
       "      <td>85</td>\n",
       "      <td>27</td>\n",
       "      <td>2</td>\n",
       "      <td>533</td>\n",
       "      <td>3</td>\n",
       "      <td>-12.873370</td>\n",
       "      <td>1.392784</td>\n",
       "      <td>112.067666</td>\n",
       "      <td>-2145.72</td>\n",
       "      <td>970</td>\n",
       "      <td>-12487.169143</td>\n",
       "      <td>1351</td>\n",
       "      <td>108705.636349</td>\n",
       "    </tr>\n",
       "    <tr>\n",
       "      <th>3</th>\n",
       "      <td>644</td>\n",
       "      <td>1050</td>\n",
       "      <td>611</td>\n",
       "      <td>0</td>\n",
       "      <td>6</td>\n",
       "      <td>-17.81</td>\n",
       "      <td>-4.452500</td>\n",
       "      <td>1.0</td>\n",
       "      <td>4</td>\n",
       "      <td>3.500000</td>\n",
       "      <td>-260.750000</td>\n",
       "      <td>-4.451964</td>\n",
       "      <td>3697.783333</td>\n",
       "      <td>47.0</td>\n",
       "      <td>1.110390</td>\n",
       "      <td>88.694903</td>\n",
       "      <td>39.0</td>\n",
       "      <td>-8.904464</td>\n",
       "      <td>-278.560000</td>\n",
       "      <td>0</td>\n",
       "      <td>47</td>\n",
       "      <td>3.0</td>\n",
       "      <td>0.0</td>\n",
       "      <td>0.0</td>\n",
       "      <td>2.0</td>\n",
       "      <td>0.0</td>\n",
       "      <td>5.0</td>\n",
       "      <td>-0.751477</td>\n",
       "      <td>2</td>\n",
       "      <td>9</td>\n",
       "      <td>4</td>\n",
       "      <td>216</td>\n",
       "      <td>8</td>\n",
       "      <td>-12.880868</td>\n",
       "      <td>1.291139</td>\n",
       "      <td>100.896997</td>\n",
       "      <td>-178.10</td>\n",
       "      <td>237</td>\n",
       "      <td>-3052.765833</td>\n",
       "      <td>306</td>\n",
       "      <td>23912.588333</td>\n",
       "    </tr>\n",
       "    <tr>\n",
       "      <th>4</th>\n",
       "      <td>1017</td>\n",
       "      <td>1489</td>\n",
       "      <td>1558</td>\n",
       "      <td>0</td>\n",
       "      <td>6</td>\n",
       "      <td>-569.92</td>\n",
       "      <td>-0.198055</td>\n",
       "      <td>23.0</td>\n",
       "      <td>32</td>\n",
       "      <td>27.312500</td>\n",
       "      <td>-46796.046667</td>\n",
       "      <td>-30.665116</td>\n",
       "      <td>289181.848333</td>\n",
       "      <td>1610.0</td>\n",
       "      <td>1.071044</td>\n",
       "      <td>200.991719</td>\n",
       "      <td>1420.0</td>\n",
       "      <td>-30.863170</td>\n",
       "      <td>-47365.966667</td>\n",
       "      <td>0</td>\n",
       "      <td>48</td>\n",
       "      <td>3.0</td>\n",
       "      <td>0.0</td>\n",
       "      <td>0.0</td>\n",
       "      <td>2.0</td>\n",
       "      <td>0.0</td>\n",
       "      <td>3.0</td>\n",
       "      <td>-0.471548</td>\n",
       "      <td>10</td>\n",
       "      <td>2</td>\n",
       "      <td>4</td>\n",
       "      <td>327</td>\n",
       "      <td>5</td>\n",
       "      <td>-12.264174</td>\n",
       "      <td>247.443060</td>\n",
       "      <td>85.016352</td>\n",
       "      <td>-265.01</td>\n",
       "      <td>562</td>\n",
       "      <td>-6892.466021</td>\n",
       "      <td>139063</td>\n",
       "      <td>47779.189609</td>\n",
       "    </tr>\n",
       "  </tbody>\n",
       "</table>\n",
       "</div>"
      ],
      "text/plain": [
       "   coupon_id  customer_id  brand  brand_type  category   cd_sum  \\\n",
       "0         27         1053   1105           0         6 -5349.93   \n",
       "1        116           48     56           1         6     0.00   \n",
       "2        635          205    560           0        11  -605.54   \n",
       "3        644         1050    611           0         6   -17.81   \n",
       "4       1017         1489   1558           0         6  -569.92   \n",
       "\n",
       "   coupon_discount_x  coupon_used_x  item_counts  no_of_customers  \\\n",
       "0          -1.241694          191.0          125        19.224000   \n",
       "1           0.000000            0.0            3        20.333333   \n",
       "2          -2.987321           15.0           67         1.761194   \n",
       "3          -4.452500            1.0            4         3.500000   \n",
       "4          -0.198055           23.0           32        27.312500   \n",
       "\n",
       "          od_sum  other_discount_x      price_sum  qu_sum  quantity_x  \\\n",
       "0 -177447.090167        -44.367382  436274.446738  4661.0    1.169768   \n",
       "1    -586.140000        -10.207037    5323.510000    86.0    1.050926   \n",
       "2  -12475.083333        -76.767366   48980.998333   202.0    1.353802   \n",
       "3    -260.750000         -4.451964    3697.783333    47.0    1.110390   \n",
       "4  -46796.046667        -30.665116  289181.848333  1610.0    1.071044   \n",
       "\n",
       "   selling_price_x  t_counts  total_discount_mean  total_discount_sum  \\\n",
       "0       117.276864    3713.0           -45.609077      -182797.020167   \n",
       "1        70.885046      75.0           -10.207037         -586.140000   \n",
       "2       342.826195     142.0           -79.754687       -13080.623333   \n",
       "3        88.694903      39.0            -8.904464         -278.560000   \n",
       "4       200.991719    1420.0           -30.863170       -47365.966667   \n",
       "\n",
       "   campaign_type  campaign_duration  age_range  marital_status  rented  \\\n",
       "0              0                 47        3.0             1.0     0.0   \n",
       "1              0                 47        2.0             0.0     0.0   \n",
       "2              1                 32        3.0             0.0     0.0   \n",
       "3              0                 47        3.0             0.0     0.0   \n",
       "4              0                 48        3.0             0.0     0.0   \n",
       "\n",
       "   family_size  no_of_children  income_bracket  coupon_discount_y  \\\n",
       "0          1.0             0.0             5.0          -0.287258   \n",
       "1          2.0             0.0             3.0          -3.215039   \n",
       "2          2.0             0.0             7.0          -2.212082   \n",
       "3          2.0             0.0             5.0          -0.751477   \n",
       "4          2.0             0.0             3.0          -0.471548   \n",
       "\n",
       "   coupon_used_y  day  dow  no_of_items  month  other_discount_y  quantity_y  \\\n",
       "0              1   11    2          208      5        -25.583099  340.487097   \n",
       "1             12    4    5          244      6        -20.013685   31.540260   \n",
       "2             85   27    2          533      3        -12.873370    1.392784   \n",
       "3              2    9    4          216      8        -12.880868    1.291139   \n",
       "4             10    2    4          327      5        -12.264174  247.443060   \n",
       "\n",
       "   selling_price_y  cdd_sum  customer_id_count       odd_sum  qa_sum  \\\n",
       "0       163.966826   -89.05                310  -7930.760842  105551   \n",
       "1       188.638474 -1237.79                385  -7705.268702   12143   \n",
       "2       112.067666 -2145.72                970 -12487.169143    1351   \n",
       "3       100.896997  -178.10                237  -3052.765833     306   \n",
       "4        85.016352  -265.01                562  -6892.466021  139063   \n",
       "\n",
       "      pprice_sum  \n",
       "0   50829.715972  \n",
       "1   72625.812434  \n",
       "2  108705.636349  \n",
       "3   23912.588333  \n",
       "4   47779.189609  "
      ]
     },
     "execution_count": 76,
     "metadata": {},
     "output_type": "execute_result"
    }
   ],
   "source": [
    "train.head()"
   ]
  },
  {
   "cell_type": "code",
   "execution_count": 77,
   "metadata": {},
   "outputs": [
    {
     "data": {
      "text/plain": [
       "Index(['coupon_id', 'customer_id', 'brand', 'brand_type', 'category', 'cd_sum',\n",
       "       'coupon_discount_x', 'coupon_used_x', 'item_counts', 'no_of_customers',\n",
       "       'od_sum', 'other_discount_x', 'price_sum', 'qu_sum', 'quantity_x',\n",
       "       'selling_price_x', 't_counts', 'total_discount_mean',\n",
       "       'total_discount_sum', 'campaign_type', 'campaign_duration', 'age_range',\n",
       "       'marital_status', 'rented', 'family_size', 'no_of_children',\n",
       "       'income_bracket', 'coupon_discount_y', 'coupon_used_y', 'day', 'dow',\n",
       "       'no_of_items', 'month', 'other_discount_y', 'quantity_y',\n",
       "       'selling_price_y', 'cdd_sum', 'customer_id_count', 'odd_sum', 'qa_sum',\n",
       "       'pprice_sum'],\n",
       "      dtype='object')"
      ]
     },
     "execution_count": 77,
     "metadata": {},
     "output_type": "execute_result"
    }
   ],
   "source": [
    "train.columns"
   ]
  },
  {
   "cell_type": "code",
   "execution_count": 78,
   "metadata": {},
   "outputs": [
    {
     "data": {
      "text/plain": [
       "(78369, 41)"
      ]
     },
     "execution_count": 78,
     "metadata": {},
     "output_type": "execute_result"
    }
   ],
   "source": [
    "train.shape"
   ]
  },
  {
   "cell_type": "code",
   "execution_count": 79,
   "metadata": {},
   "outputs": [
    {
     "data": {
      "text/plain": [
       "0        0\n",
       "1        0\n",
       "2        0\n",
       "3        0\n",
       "4        0\n",
       "        ..\n",
       "78364    0\n",
       "78365    0\n",
       "78366    0\n",
       "78367    0\n",
       "78368    0\n",
       "Name: redemption_status, Length: 78369, dtype: int64"
      ]
     },
     "execution_count": 79,
     "metadata": {},
     "output_type": "execute_result"
    }
   ],
   "source": [
    "target"
   ]
  },
  {
   "cell_type": "markdown",
   "metadata": {},
   "source": [
    "# Note ... If Possible do the EDA here ... Univariate and Bivariate Analysis"
   ]
  },
  {
   "cell_type": "markdown",
   "metadata": {},
   "source": [
    "# Model Building - To be Covered Are:\n",
    "1. Logistic Regression\n",
    "2. kNN\n",
    "3. Naive Bayes\n",
    "4. Decision Tree\n",
    "5. Random Forest\n",
    "6. Logistic Regression -- Bagged\n",
    "7. kNN -- Bagged\n",
    "8. Naive Bayes - Bagged\n",
    "9. Decision Tree -- Bagged\n",
    "10. Logistic Regression -- Boosted\n",
    "11. Naive Bayes -- Boosted\n",
    "12. Decision Tree -- Boosted\n",
    "13. Random Forest --Boosted\n",
    "14. Gradient Boosting Classifier\n",
    "15. Light GBM (LGBM)"
   ]
  },
  {
   "cell_type": "code",
   "execution_count": 80,
   "metadata": {},
   "outputs": [],
   "source": [
    "x = pd.DataFrame(train)\n",
    "y = target\n",
    "col_names = ['cd_sum','coupon_discount_x', 'coupon_used_x', 'item_counts', 'no_of_customers',\n",
    "       'od_sum', 'other_discount_x', 'price_sum', 'qu_sum', 'quantity_x',\n",
    "       'selling_price_x', 't_counts', 'total_discount_mean',\n",
    "       'total_discount_sum', 'campaign_type', 'campaign_duration',\n",
    "        'family_size', 'no_of_children',\n",
    "       'income_bracket', 'coupon_discount_y', 'coupon_used_y',\n",
    "       'no_of_items', 'other_discount_y', 'quantity_y',\n",
    "       'selling_price_y', 'cdd_sum', 'customer_id_count', 'odd_sum', 'qa_sum',\n",
    "       'pprice_sum']\n",
    "features = x[col_names]\n",
    "scaler = StandardScaler().fit(features.values)\n",
    "features = scaler.transform(features.values)\n",
    "x[col_names] = features\n",
    "x = np.array(x)"
   ]
  },
  {
   "cell_type": "code",
   "execution_count": 81,
   "metadata": {},
   "outputs": [
    {
     "data": {
      "text/plain": [
       "array([[ 2.70000000e+01,  1.05300000e+03,  1.10500000e+03, ...,\n",
       "         6.38586958e-01, -1.47977262e-01, -7.90890632e-01],\n",
       "       [ 1.16000000e+02,  4.80000000e+01,  5.60000000e+01, ...,\n",
       "         6.62184374e-01, -5.34847193e-01, -4.71808694e-01],\n",
       "       [ 6.35000000e+02,  2.05000000e+02,  5.60000000e+02, ...,\n",
       "         1.61765625e-01, -5.79544652e-01,  5.63785504e-02],\n",
       "       ...,\n",
       "       [ 7.54000000e+02,  1.00400000e+03,  8.64000000e+02, ...,\n",
       "        -7.89315048e-01,  1.13435780e-01,  1.11114774e+00],\n",
       "       [ 1.34000000e+02,  7.10000000e+01,  1.10000000e+01, ...,\n",
       "        -2.53295326e-01, -5.10816924e-01, -3.61970883e-01],\n",
       "       [ 6.81000000e+02,  6.23000000e+02,  6.86000000e+02, ...,\n",
       "         4.89657361e-01,  8.86918856e-01, -4.29600563e-01]])"
      ]
     },
     "execution_count": 81,
     "metadata": {},
     "output_type": "execute_result"
    }
   ],
   "source": [
    "x"
   ]
  },
  {
   "cell_type": "code",
   "execution_count": 82,
   "metadata": {},
   "outputs": [],
   "source": [
    "x_train,x_test,y_train,y_test = train_test_split(x,y,test_size=0.3,random_state=2439)"
   ]
  },
  {
   "cell_type": "code",
   "execution_count": 83,
   "metadata": {},
   "outputs": [
    {
     "data": {
      "text/plain": [
       "((54858, 41), (54858,), (23511, 41), (23511,))"
      ]
     },
     "execution_count": 83,
     "metadata": {},
     "output_type": "execute_result"
    }
   ],
   "source": [
    "x_train.shape,y_train.shape,x_test.shape,y_test.shape"
   ]
  },
  {
   "cell_type": "markdown",
   "metadata": {},
   "source": [
    "# Logistic Regression"
   ]
  },
  {
   "cell_type": "code",
   "execution_count": 84,
   "metadata": {},
   "outputs": [
    {
     "name": "stdout",
     "output_type": "stream",
     "text": [
      "              precision    recall  f1-score   support\n",
      "\n",
      "           0       0.99      1.00      1.00     23304\n",
      "           1       0.50      0.00      0.01       207\n",
      "\n",
      "    accuracy                           0.99     23511\n",
      "   macro avg       0.75      0.50      0.50     23511\n",
      "weighted avg       0.99      0.99      0.99     23511\n",
      "\n"
     ]
    }
   ],
   "source": [
    "LR = LogisticRegression()\n",
    "LR.fit(x_train,y_train)\n",
    "y_pred_LR = LR.predict(x_test)\n",
    "print(classification_report(y_test,y_pred_LR))"
   ]
  },
  {
   "cell_type": "code",
   "execution_count": 85,
   "metadata": {},
   "outputs": [],
   "source": [
    "roc_auc_score(y_test,y_pred_LR)\n",
    "Model = ['Logistic Regression']\n",
    "ROC_AUC_Accuracy = [roc_auc_score(y_test,y_pred_LR)]"
   ]
  },
  {
   "cell_type": "code",
   "execution_count": 86,
   "metadata": {},
   "outputs": [
    {
     "name": "stdout",
     "output_type": "stream",
     "text": [
      "Confusion Matrix :\n",
      "[[23303     1]\n",
      " [  206     1]]\n",
      "Accuracy Score : 0.9911956105652673\n",
      "Report : \n",
      "              precision    recall  f1-score   support\n",
      "\n",
      "           0       0.99      1.00      1.00     23304\n",
      "           1       0.50      0.00      0.01       207\n",
      "\n",
      "    accuracy                           0.99     23511\n",
      "   macro avg       0.75      0.50      0.50     23511\n",
      "weighted avg       0.99      0.99      0.99     23511\n",
      "\n"
     ]
    }
   ],
   "source": [
    "from sklearn.metrics import confusion_matrix \n",
    "from sklearn.metrics import accuracy_score \n",
    "from sklearn.metrics import classification_report \n",
    "results=confusion_matrix(y_test,y_pred_LR)\n",
    "print ('Confusion Matrix :')\n",
    "print(results) \n",
    "print ('Accuracy Score :',accuracy_score(y_test,y_pred_LR) )\n",
    "print ('Report : ')\n",
    "print (classification_report(y_test,y_pred_LR) )"
   ]
  },
  {
   "cell_type": "code",
   "execution_count": 87,
   "metadata": {},
   "outputs": [],
   "source": [
    "#Function to visulise confusion matrix\n",
    "def draw_cm( y_test,y_pred_LR ):\n",
    "    cm = metrics.confusion_matrix( y_test,y_pred_LR )\n",
    "    sns.heatmap(cm, annot=True,  fmt='.2f', xticklabels = [\"0\", \"1\"] , yticklabels = [\"0\", \"1\"] , cmap=\"Greens\")\n",
    "    plt.ylabel('True label')\n",
    "    plt.xlabel('Predicted label')\n",
    "    plt.show()"
   ]
  },
  {
   "cell_type": "code",
   "execution_count": 88,
   "metadata": {},
   "outputs": [
    {
     "name": "stdout",
     "output_type": "stream",
     "text": [
      "confusion matrix = \n",
      " [[23303     1]\n",
      " [  206     1]]\n"
     ]
    }
   ],
   "source": [
    "#Confusion matrix\n",
    "from sklearn.metrics import classification_report,confusion_matrix\n",
    "mat_pruned = confusion_matrix(y_test,y_pred_LR )\n",
    "\n",
    "print(\"confusion matrix = \\n\",mat_pruned)"
   ]
  },
  {
   "cell_type": "code",
   "execution_count": 89,
   "metadata": {},
   "outputs": [],
   "source": [
    "def create_conf_mat(y_test,y_pred_LR):\n",
    "    if (len(y_test.shape) != len(y_pred_LR.shape) == 1):\n",
    "        return print('Arrays entered are not 1-D.\\nPlease enter the correctly sized sets.')\n",
    "    elif (y_test.shape != y_pred_LR.shape):\n",
    "        return print('Number of values inside the Arrays are not equal to each other.\\nPlease make sure the array has the same number of instances.')\n",
    "    else:\n",
    "        # Set Metrics\n",
    "        test_crosstb_comp = pd.crosstab(index = y_test,\n",
    "                                       columns = y_pred_LR)\n",
    "        # Changed for Future deprecation of as_matrix\n",
    "        test_crosstb = test_crosstb_comp.values\n",
    "        return test_crosstb"
   ]
  },
  {
   "cell_type": "code",
   "execution_count": 90,
   "metadata": {},
   "outputs": [
    {
     "data": {
      "image/png": "[encoded data removed]",
      "text/plain": [
       "<Figure size 432x288 with 1 Axes>"
      ]
     },
     "metadata": {
      "needs_background": "light"
     },
     "output_type": "display_data"
    }
   ],
   "source": [
    "    conf_mat = create_conf_mat(y_test,y_pred_LR)\n",
    "    sns.heatmap(conf_mat, annot=True, fmt='d', cbar=False)\n",
    "    plt.xlabel('Predicted Values')\n",
    "    plt.ylabel('Actual Values')\n",
    "    plt.title('Actual vs. Predicted Confusion Matrix')\n",
    "    plt.show()"
   ]
  },
  {
   "cell_type": "code",
   "execution_count": 91,
   "metadata": {},
   "outputs": [],
   "source": [
    "#Get predicted probabilites\n",
    "target_probailities_log = LR.predict_proba(x_test)[:,1]"
   ]
  },
  {
   "cell_type": "code",
   "execution_count": 92,
   "metadata": {},
   "outputs": [],
   "source": [
    "#Create true and false positive rates\n",
    "log_false_positive_rate,log_true_positive_rate,log_threshold = roc_curve(y_test,target_probailities_log)"
   ]
  },
  {
   "cell_type": "code",
   "execution_count": 93,
   "metadata": {},
   "outputs": [
    {
     "data": {
      "image/png": "[encoded data removed]",
      "text/plain": [
       "<Figure size 720x432 with 1 Axes>"
      ]
     },
     "metadata": {},
     "output_type": "display_data"
    }
   ],
   "source": [
    "#Plot ROC Curve\n",
    "sns.set_style('whitegrid')\n",
    "plt.figure(figsize=(10,6))\n",
    "plt.title('Reciver Operating Characterstic Curve')\n",
    "plt.plot(log_false_positive_rate,log_true_positive_rate)\n",
    "plt.plot([0,1],ls='--')\n",
    "plt.plot([0,0],[1,0],c='.5')\n",
    "plt.plot([1,1],c='.5')\n",
    "plt.ylabel('True positive rate')\n",
    "plt.xlabel('False positive rate')\n",
    "plt.show()"
   ]
  },
  {
   "cell_type": "markdown",
   "metadata": {},
   "source": [
    "# kNN"
   ]
  },
  {
   "cell_type": "markdown",
   "metadata": {},
   "source": [
    "## Caution --- Algorithm - 'brute' was crashing the system, hence removed it."
   ]
  },
  {
   "cell_type": "code",
   "execution_count": 94,
   "metadata": {},
   "outputs": [
    {
     "data": {
      "text/plain": [
       "RandomizedSearchCV(cv=3, error_score='raise-deprecating',\n",
       "                   estimator=KNeighborsClassifier(algorithm='auto',\n",
       "                                                  leaf_size=30,\n",
       "                                                  metric='minkowski',\n",
       "                                                  metric_params=None,\n",
       "                                                  n_jobs=None, n_neighbors=5,\n",
       "                                                  p=2, weights='uniform'),\n",
       "                   iid='warn', n_iter=10, n_jobs=-1,\n",
       "                   param_distributions={'algorithm': ['ball_tree', 'kd_tree',\n",
       "                                                      'auto'],\n",
       "                                        'n_neighbors': range(1, 5),\n",
       "                                        'p': [1, 2, 3],\n",
       "                                        'weights': ['uniform', 'distance']},\n",
       "                   pre_dispatch='2*n_jobs', random_state=None, refit=True,\n",
       "                   return_train_score=False, scoring='recall', verbose=0)"
      ]
     },
     "execution_count": 94,
     "metadata": {},
     "output_type": "execute_result"
    }
   ],
   "source": [
    "params = {\n",
    "    \n",
    "    'n_neighbors': range(1,5),\n",
    "    'weights': ['uniform','distance'],\n",
    "    'algorithm': ['ball_tree','kd_tree','auto'],\n",
    "    'p': [1,2,3]\n",
    "}\n",
    "\n",
    "knn = KNeighborsClassifier()\n",
    "\n",
    "rs = RandomizedSearchCV(estimator=knn,n_jobs=-1,cv=3,param_distributions=params,scoring='recall')\n",
    "rs.fit(x,y)"
   ]
  },
  {
   "cell_type": "code",
   "execution_count": 95,
   "metadata": {},
   "outputs": [
    {
     "name": "stdout",
     "output_type": "stream",
     "text": [
      "0.5416240665283562\n"
     ]
    }
   ],
   "source": [
    "knn = KNeighborsClassifier(**rs.best_params_)\n",
    "knn.fit(x_train,y_train)\n",
    "y_pred_knn = knn.predict(x_test)\n",
    "print(roc_auc_score(y_test,y_pred_knn))\n",
    "Model.append('k-Nearest-Neighbours')\n",
    "ROC_AUC_Accuracy.append(roc_auc_score(y_test,y_pred_knn))"
   ]
  },
  {
   "cell_type": "code",
   "execution_count": 96,
   "metadata": {},
   "outputs": [
    {
     "name": "stdout",
     "output_type": "stream",
     "text": [
      "              precision    recall  f1-score   support\n",
      "\n",
      "           0       0.99      0.99      0.99     23304\n",
      "           1       0.09      0.09      0.09       207\n",
      "\n",
      "    accuracy                           0.98     23511\n",
      "   macro avg       0.54      0.54      0.54     23511\n",
      "weighted avg       0.98      0.98      0.98     23511\n",
      "\n"
     ]
    }
   ],
   "source": [
    "print(classification_report(y_test,y_pred_knn))"
   ]
  },
  {
   "cell_type": "code",
   "execution_count": 97,
   "metadata": {},
   "outputs": [
    {
     "data": {
      "text/plain": [
       "(['Logistic Regression', 'k-Nearest-Neighbours'],\n",
       " [0.5023940033930855, 0.5416240665283562])"
      ]
     },
     "execution_count": 97,
     "metadata": {},
     "output_type": "execute_result"
    }
   ],
   "source": [
    "Model,ROC_AUC_Accuracy"
   ]
  },
  {
   "cell_type": "code",
   "execution_count": 98,
   "metadata": {},
   "outputs": [
    {
     "name": "stdout",
     "output_type": "stream",
     "text": [
      "Confusion Matrix :\n",
      "[[23105   199]\n",
      " [  188    19]]\n",
      "Accuracy Score : 0.9835396197524563\n",
      "Report : \n",
      "              precision    recall  f1-score   support\n",
      "\n",
      "           0       0.99      0.99      0.99     23304\n",
      "           1       0.09      0.09      0.09       207\n",
      "\n",
      "    accuracy                           0.98     23511\n",
      "   macro avg       0.54      0.54      0.54     23511\n",
      "weighted avg       0.98      0.98      0.98     23511\n",
      "\n"
     ]
    }
   ],
   "source": [
    "results=confusion_matrix(y_test,y_pred_knn)\n",
    "print ('Confusion Matrix :')\n",
    "print(results) \n",
    "print ('Accuracy Score :',accuracy_score(y_test,y_pred_knn) )\n",
    "print ('Report : ')\n",
    "print (classification_report(y_test,y_pred_knn) )\n"
   ]
  },
  {
   "cell_type": "code",
   "execution_count": 99,
   "metadata": {},
   "outputs": [],
   "source": [
    "#Function to visulise confusion matrix\n",
    "def draw_cm( y_test,y_pred_knn ):\n",
    "    cm = metrics.confusion_matrix( y_test,y_pred_knn )\n",
    "    sns.heatmap(cm, annot=True,  fmt='.2f', xticklabels = [\"0\", \"1\"] , yticklabels = [\"0\", \"1\"] , cmap=\"Greens\")\n",
    "    plt.ylabel('True label')\n",
    "    plt.xlabel('Predicted label')\n",
    "    plt.show()\n"
   ]
  },
  {
   "cell_type": "code",
   "execution_count": 100,
   "metadata": {},
   "outputs": [
    {
     "name": "stdout",
     "output_type": "stream",
     "text": [
      "confusion matrix = \n",
      " [[23105   199]\n",
      " [  188    19]]\n"
     ]
    }
   ],
   "source": [
    "#Confusion matrix\n",
    "from sklearn.metrics import classification_report,confusion_matrix\n",
    "mat_pruned = confusion_matrix(y_test,y_pred_knn )\n",
    "\n",
    "print(\"confusion matrix = \\n\",mat_pruned)\n"
   ]
  },
  {
   "cell_type": "code",
   "execution_count": 101,
   "metadata": {},
   "outputs": [],
   "source": [
    "def create_conf_mat(y_test,y_pred_knn):\n",
    "    if (len(y_test.shape) != len(y_pred_knn.shape) == 1):\n",
    "        return print('Arrays entered are not 1-D.\\nPlease enter the correctly sized sets.')\n",
    "    elif (y_test.shape != y_pred_knn.shape):\n",
    "        return print('Number of values inside the Arrays are not equal to each other.\\nPlease make sure the array has the same number of instances.')\n",
    "    else:\n",
    "        # Set Metrics\n",
    "        test_crosstb_comp = pd.crosstab(index = y_test,\n",
    "                                       columns = y_pred_knn)\n",
    "        # Changed for Future deprecation of as_matrix\n",
    "        test_crosstb = test_crosstb_comp.values\n",
    "        return test_crosstb\n"
   ]
  },
  {
   "cell_type": "code",
   "execution_count": 102,
   "metadata": {},
   "outputs": [
    {
     "data": {
      "image/png": "[encoded data removed]",
      "text/plain": [
       "<Figure size 432x288 with 1 Axes>"
      ]
     },
     "metadata": {},
     "output_type": "display_data"
    }
   ],
   "source": [
    "conf_mat = create_conf_mat(y_test,y_pred_knn)\n",
    "sns.heatmap(conf_mat, annot=True, fmt='d', cbar=False)\n",
    "plt.xlabel('Predicted Values')\n",
    "plt.ylabel('Actual Values')\n",
    "plt.title('Actual vs. Predicted Confusion Matrix')\n",
    "plt.show()"
   ]
  },
  {
   "cell_type": "code",
   "execution_count": 103,
   "metadata": {},
   "outputs": [],
   "source": [
    "#Get predicted probabilites\n",
    "target_probailities_log = knn.predict_proba(x_test)[:,1]"
   ]
  },
  {
   "cell_type": "code",
   "execution_count": 104,
   "metadata": {},
   "outputs": [],
   "source": [
    "#Create true and false positive rates\n",
    "log_false_positive_rate,log_true_positive_rate,log_threshold = roc_curve(y_test,target_probailities_log)"
   ]
  },
  {
   "cell_type": "code",
   "execution_count": 105,
   "metadata": {},
   "outputs": [
    {
     "data": {
      "image/png": "[encoded data removed]",
      "text/plain": [
       "<Figure size 720x432 with 1 Axes>"
      ]
     },
     "metadata": {},
     "output_type": "display_data"
    }
   ],
   "source": [
    "#Plot ROC Curve\n",
    "sns.set_style('whitegrid')\n",
    "plt.figure(figsize=(10,6))\n",
    "plt.title('Reciver Operating Characterstic Curve')\n",
    "plt.plot(log_false_positive_rate,log_true_positive_rate)\n",
    "plt.plot([0,1],ls='--')\n",
    "plt.plot([0,0],[1,0],c='.5')\n",
    "plt.plot([1,1],c='.5')\n",
    "plt.ylabel('True positive rate')\n",
    "plt.xlabel('False positive rate')\n",
    "plt.show()\n"
   ]
  },
  {
   "cell_type": "markdown",
   "metadata": {},
   "source": [
    "# Naive Bayes"
   ]
  },
  {
   "cell_type": "code",
   "execution_count": 106,
   "metadata": {},
   "outputs": [
    {
     "name": "stdout",
     "output_type": "stream",
     "text": [
      "0.6388319850545033\n"
     ]
    }
   ],
   "source": [
    "nb = GaussianNB()\n",
    "nb.fit(x_train,y_train)\n",
    "y_pred_nb = nb.predict(x_test)\n",
    "print(roc_auc_score(y_test,y_pred_nb))\n",
    "Model.append('Naive Bayes')\n",
    "ROC_AUC_Accuracy.append(roc_auc_score(y_test,y_pred_nb))"
   ]
  },
  {
   "cell_type": "code",
   "execution_count": 107,
   "metadata": {},
   "outputs": [
    {
     "name": "stdout",
     "output_type": "stream",
     "text": [
      "              precision    recall  f1-score   support\n",
      "\n",
      "           0       0.99      0.96      0.98     23304\n",
      "           1       0.07      0.31      0.12       207\n",
      "\n",
      "    accuracy                           0.96     23511\n",
      "   macro avg       0.53      0.64      0.55     23511\n",
      "weighted avg       0.99      0.96      0.97     23511\n",
      "\n"
     ]
    }
   ],
   "source": [
    "print(classification_report(y_test,y_pred_nb))"
   ]
  },
  {
   "cell_type": "code",
   "execution_count": 108,
   "metadata": {},
   "outputs": [
    {
     "data": {
      "text/plain": [
       "(['Logistic Regression', 'k-Nearest-Neighbours', 'Naive Bayes'],\n",
       " [0.5023940033930855, 0.5416240665283562, 0.6388319850545033])"
      ]
     },
     "execution_count": 108,
     "metadata": {},
     "output_type": "execute_result"
    }
   ],
   "source": [
    "Model,ROC_AUC_Accuracy"
   ]
  },
  {
   "cell_type": "code",
   "execution_count": 109,
   "metadata": {},
   "outputs": [
    {
     "name": "stdout",
     "output_type": "stream",
     "text": [
      "Confusion Matrix :\n",
      "[[22457   847]\n",
      " [  142    65]]\n",
      "Accuracy Score : 0.9579345838118327\n",
      "Report : \n",
      "              precision    recall  f1-score   support\n",
      "\n",
      "           0       0.99      0.96      0.98     23304\n",
      "           1       0.07      0.31      0.12       207\n",
      "\n",
      "    accuracy                           0.96     23511\n",
      "   macro avg       0.53      0.64      0.55     23511\n",
      "weighted avg       0.99      0.96      0.97     23511\n",
      "\n"
     ]
    }
   ],
   "source": [
    "results=confusion_matrix(y_test,y_pred_nb)\n",
    "print ('Confusion Matrix :')\n",
    "print(results) \n",
    "print ('Accuracy Score :',accuracy_score(y_test,y_pred_nb) )\n",
    "print ('Report : ')\n",
    "print (classification_report(y_test,y_pred_nb) )"
   ]
  },
  {
   "cell_type": "code",
   "execution_count": 110,
   "metadata": {},
   "outputs": [],
   "source": [
    "#Function to visulise confusion matrix\n",
    "def draw_cm( y_test,y_pred_nb ):\n",
    "    cm = metrics.confusion_matrix( y_test,y_pred_nb )\n",
    "    sns.heatmap(cm, annot=True,  fmt='.2f', xticklabels = [\"0\", \"1\"] , yticklabels = [\"0\", \"1\"] , cmap=\"Greens\")\n",
    "    plt.ylabel('True label')\n",
    "    plt.xlabel('Predicted label')\n",
    "    plt.show()\n"
   ]
  },
  {
   "cell_type": "code",
   "execution_count": 111,
   "metadata": {},
   "outputs": [
    {
     "name": "stdout",
     "output_type": "stream",
     "text": [
      "confusion matrix = \n",
      " [[22457   847]\n",
      " [  142    65]]\n"
     ]
    }
   ],
   "source": [
    "#Confusion matrix\n",
    "from sklearn.metrics import classification_report,confusion_matrix\n",
    "mat_pruned = confusion_matrix(y_test,y_pred_nb )\n",
    "\n",
    "print(\"confusion matrix = \\n\",mat_pruned)\n"
   ]
  },
  {
   "cell_type": "code",
   "execution_count": 112,
   "metadata": {},
   "outputs": [],
   "source": [
    "def create_conf_mat(y_test,y_pred_nb):\n",
    "    if (len(y_test.shape) != len(y_pred_nb.shape) == 1):\n",
    "        return print('Arrays entered are not 1-D.\\nPlease enter the correctly sized sets.')\n",
    "    elif (y_test.shape != y_pred_nb.shape):\n",
    "        return print('Number of values inside the Arrays are not equal to each other.\\nPlease make sure the array has the same number of instances.')\n",
    "    else:\n",
    "        # Set Metrics\n",
    "        test_crosstb_comp = pd.crosstab(index = y_test,\n",
    "                                       columns = y_pred_nb)\n",
    "        # Changed for Future deprecation of as_matrix\n",
    "        test_crosstb = test_crosstb_comp.values\n",
    "        return test_crosstb\n"
   ]
  },
  {
   "cell_type": "code",
   "execution_count": 113,
   "metadata": {},
   "outputs": [
    {
     "data": {
      "image/png": "[encoded data removed]",
      "text/plain": [
       "<Figure size 432x288 with 1 Axes>"
      ]
     },
     "metadata": {},
     "output_type": "display_data"
    }
   ],
   "source": [
    "conf_mat = create_conf_mat(y_test,y_pred_nb)\n",
    "sns.heatmap(conf_mat, annot=True, fmt='d', cbar=False)\n",
    "plt.xlabel('Predicted Values')\n",
    "plt.ylabel('Actual Values')\n",
    "plt.title('Actual vs. Predicted Confusion Matrix')\n",
    "plt.show()\n"
   ]
  },
  {
   "cell_type": "code",
   "execution_count": 114,
   "metadata": {},
   "outputs": [],
   "source": [
    "#Get predicted probabilites\n",
    "target_probailities_log = nb.predict_proba(x_test)[:,1]"
   ]
  },
  {
   "cell_type": "code",
   "execution_count": 115,
   "metadata": {},
   "outputs": [],
   "source": [
    "#Create true and false positive rates\n",
    "log_false_positive_rate,log_true_positive_rate,log_threshold = roc_curve(y_test,target_probailities_log)"
   ]
  },
  {
   "cell_type": "code",
   "execution_count": 116,
   "metadata": {},
   "outputs": [
    {
     "data": {
      "image/png": "[encoded data removed]",
      "text/plain": [
       "<Figure size 720x432 with 1 Axes>"
      ]
     },
     "metadata": {},
     "output_type": "display_data"
    }
   ],
   "source": [
    "#Plot ROC Curve\n",
    "sns.set_style('whitegrid')\n",
    "plt.figure(figsize=(10,6))\n",
    "plt.title('Reciver Operating Characterstic Curve')\n",
    "plt.plot(log_false_positive_rate,log_true_positive_rate)\n",
    "plt.plot([0,1],ls='--')\n",
    "plt.plot([0,0],[1,0],c='.5')\n",
    "plt.plot([1,1],c='.5')\n",
    "plt.ylabel('True positive rate')\n",
    "plt.xlabel('False positive rate')\n",
    "plt.show()\n"
   ]
  },
  {
   "cell_type": "code",
   "execution_count": 117,
   "metadata": {},
   "outputs": [
    {
     "data": {
      "text/plain": [
       "(['Logistic Regression', 'k-Nearest-Neighbours', 'Naive Bayes'],\n",
       " [0.5023940033930855, 0.5416240665283562, 0.6388319850545033])"
      ]
     },
     "execution_count": 117,
     "metadata": {},
     "output_type": "execute_result"
    }
   ],
   "source": [
    "Model,ROC_AUC_Accuracy"
   ]
  },
  {
   "cell_type": "markdown",
   "metadata": {},
   "source": [
    "# Decision Tree"
   ]
  },
  {
   "cell_type": "code",
   "execution_count": 118,
   "metadata": {},
   "outputs": [
    {
     "data": {
      "text/plain": [
       "RandomizedSearchCV(cv=3, error_score='raise-deprecating',\n",
       "                   estimator=DecisionTreeClassifier(class_weight=None,\n",
       "                                                    criterion='gini',\n",
       "                                                    max_depth=None,\n",
       "                                                    max_features=None,\n",
       "                                                    max_leaf_nodes=None,\n",
       "                                                    min_impurity_decrease=0.0,\n",
       "                                                    min_impurity_split=None,\n",
       "                                                    min_samples_leaf=1,\n",
       "                                                    min_samples_split=2,\n",
       "                                                    min_weight_fraction_leaf=0.0,\n",
       "                                                    presort=False,\n",
       "                                                    random_state=None,\n",
       "                                                    splitter='best'),\n",
       "                   iid='warn', n_iter=10, n_jobs=-1,\n",
       "                   param_distributions={'criterion': ['gini', 'entropy'],\n",
       "                                        'max_depth': range(1, 10),\n",
       "                                        'max_features': ['auto', 'log2'],\n",
       "                                        'max_leaf_nodes': range(2, 10),\n",
       "                                        'splitter': ['best', 'random']},\n",
       "                   pre_dispatch='2*n_jobs', random_state=None, refit=True,\n",
       "                   return_train_score=False, scoring='recall', verbose=0)"
      ]
     },
     "execution_count": 118,
     "metadata": {},
     "output_type": "execute_result"
    }
   ],
   "source": [
    "params = {\n",
    "    \n",
    "    'criterion':['gini','entropy'],\n",
    "    'splitter':['best','random'],\n",
    "    'max_depth':range(1,10),\n",
    "    'max_leaf_nodes':range(2,10,1),\n",
    "    'max_features':['auto','log2']\n",
    "    \n",
    "}\n",
    "\n",
    "dt = DecisionTreeClassifier()\n",
    "\n",
    "rs = RandomizedSearchCV(estimator=dt,n_jobs=-1,cv=3,param_distributions=params,scoring='recall')\n",
    "rs.fit(x,y)"
   ]
  },
  {
   "cell_type": "code",
   "execution_count": 119,
   "metadata": {},
   "outputs": [
    {
     "name": "stdout",
     "output_type": "stream",
     "text": [
      "0.5\n"
     ]
    }
   ],
   "source": [
    "dt = DecisionTreeClassifier(**rs.best_params_)\n",
    "dt.fit(x_train,y_train)\n",
    "y_pred_dt = dt.predict(x_test)\n",
    "print(roc_auc_score(y_test,y_pred_dt))\n",
    "Model.append('Decision Tree')\n",
    "ROC_AUC_Accuracy.append(roc_auc_score(y_test,y_pred_dt))"
   ]
  },
  {
   "cell_type": "code",
   "execution_count": 120,
   "metadata": {},
   "outputs": [
    {
     "name": "stdout",
     "output_type": "stream",
     "text": [
      "              precision    recall  f1-score   support\n",
      "\n",
      "           0       0.99      1.00      1.00     23304\n",
      "           1       0.00      0.00      0.00       207\n",
      "\n",
      "    accuracy                           0.99     23511\n",
      "   macro avg       0.50      0.50      0.50     23511\n",
      "weighted avg       0.98      0.99      0.99     23511\n",
      "\n"
     ]
    }
   ],
   "source": [
    "print(classification_report(y_test,y_pred_dt))"
   ]
  },
  {
   "cell_type": "code",
   "execution_count": 121,
   "metadata": {},
   "outputs": [
    {
     "data": {
      "text/plain": [
       "(['Logistic Regression',\n",
       "  'k-Nearest-Neighbours',\n",
       "  'Naive Bayes',\n",
       "  'Decision Tree'],\n",
       " [0.5023940033930855, 0.5416240665283562, 0.6388319850545033, 0.5])"
      ]
     },
     "execution_count": 121,
     "metadata": {},
     "output_type": "execute_result"
    }
   ],
   "source": [
    "Model,ROC_AUC_Accuracy"
   ]
  },
  {
   "cell_type": "code",
   "execution_count": 122,
   "metadata": {},
   "outputs": [
    {
     "name": "stdout",
     "output_type": "stream",
     "text": [
      "Confusion Matrix :\n",
      "[[23304     0]\n",
      " [  207     0]]\n",
      "Accuracy Score : 0.9911956105652673\n",
      "Report : \n",
      "              precision    recall  f1-score   support\n",
      "\n",
      "           0       0.99      1.00      1.00     23304\n",
      "           1       0.00      0.00      0.00       207\n",
      "\n",
      "    accuracy                           0.99     23511\n",
      "   macro avg       0.50      0.50      0.50     23511\n",
      "weighted avg       0.98      0.99      0.99     23511\n",
      "\n"
     ]
    }
   ],
   "source": [
    "results=confusion_matrix(y_test,y_pred_dt)\n",
    "print ('Confusion Matrix :')\n",
    "print(results) \n",
    "print ('Accuracy Score :',accuracy_score(y_test,y_pred_dt) )\n",
    "print ('Report : ')\n",
    "print (classification_report(y_test,y_pred_dt) )"
   ]
  },
  {
   "cell_type": "code",
   "execution_count": 123,
   "metadata": {},
   "outputs": [],
   "source": [
    "#Function to visulise confusion matrix\n",
    "def draw_cm( y_test,y_pred_dt):\n",
    "    cm = metrics.confusion_matrix( y_test,y_pred_dt )\n",
    "    sns.heatmap(cm, annot=True,  fmt='.2f', xticklabels = [\"0\", \"1\"] , yticklabels = [\"0\", \"1\"] , cmap=\"Greens\")\n",
    "    plt.ylabel('True label')\n",
    "    plt.xlabel('Predicted label')\n",
    "    plt.show()\n"
   ]
  },
  {
   "cell_type": "code",
   "execution_count": 124,
   "metadata": {},
   "outputs": [
    {
     "name": "stdout",
     "output_type": "stream",
     "text": [
      "confusion matrix = \n",
      " [[23304     0]\n",
      " [  207     0]]\n"
     ]
    }
   ],
   "source": [
    "#Confusion matrix\n",
    "from sklearn.metrics import classification_report,confusion_matrix\n",
    "mat_pruned = confusion_matrix(y_test,y_pred_dt )\n",
    "\n",
    "print(\"confusion matrix = \\n\",mat_pruned)\n"
   ]
  },
  {
   "cell_type": "code",
   "execution_count": 125,
   "metadata": {},
   "outputs": [],
   "source": [
    "def create_conf_mat(y_test,y_pred_dt):\n",
    "    if (len(y_test.shape) != len(y_pred_dt.shape) == 1):\n",
    "        return print('Arrays entered are not 1-D.\\nPlease enter the correctly sized sets.')\n",
    "    elif (y_test.shape != y_pred_dt.shape):\n",
    "        return print('Number of values inside the Arrays are not equal to each other.\\nPlease make sure the array has the same number of instances.')\n",
    "    else:\n",
    "        # Set Metrics\n",
    "        test_crosstb_comp = pd.crosstab(index = y_test,\n",
    "                                       columns = y_pred_dt)\n",
    "        # Changed for Future deprecation of as_matrix\n",
    "        test_crosstb = test_crosstb_comp.values\n",
    "        return test_crosstb"
   ]
  },
  {
   "cell_type": "code",
   "execution_count": 126,
   "metadata": {},
   "outputs": [
    {
     "data": {
      "image/png": "[encoded data removed]",
      "text/plain": [
       "<Figure size 432x288 with 1 Axes>"
      ]
     },
     "metadata": {},
     "output_type": "display_data"
    }
   ],
   "source": [
    "conf_mat = create_conf_mat(y_test,y_pred_dt)\n",
    "sns.heatmap(conf_mat, annot=True, fmt='d', cbar=False)\n",
    "plt.xlabel('Predicted Values')\n",
    "plt.ylabel('Actual Values')\n",
    "plt.title('Actual vs. Predicted Confusion Matrix')\n",
    "plt.show()"
   ]
  },
  {
   "cell_type": "code",
   "execution_count": 127,
   "metadata": {},
   "outputs": [],
   "source": [
    "#Get predicted probabilites\n",
    "target_probailities_log = dt.predict_proba(x_test)[:,1]"
   ]
  },
  {
   "cell_type": "code",
   "execution_count": 128,
   "metadata": {},
   "outputs": [],
   "source": [
    "#Create true and false positive rates\n",
    "log_false_positive_rate,log_true_positive_rate,log_threshold = roc_curve(y_test,target_probailities_log)"
   ]
  },
  {
   "cell_type": "code",
   "execution_count": 129,
   "metadata": {},
   "outputs": [
    {
     "data": {
      "image/png": "[encoded data removed]",
      "text/plain": [
       "<Figure size 720x432 with 1 Axes>"
      ]
     },
     "metadata": {},
     "output_type": "display_data"
    }
   ],
   "source": [
    "#Plot ROC Curve\n",
    "sns.set_style('whitegrid')\n",
    "plt.figure(figsize=(10,6))\n",
    "plt.title('Reciver Operating Characterstic Curve')\n",
    "plt.plot(log_false_positive_rate,log_true_positive_rate)\n",
    "plt.plot([0,1],ls='--')\n",
    "plt.plot([0,0],[1,0],c='.5')\n",
    "plt.plot([1,1],c='.5')\n",
    "plt.ylabel('True positive rate')\n",
    "plt.xlabel('False positive rate')\n",
    "plt.show()"
   ]
  },
  {
   "cell_type": "code",
   "execution_count": 130,
   "metadata": {},
   "outputs": [
    {
     "data": {
      "text/plain": [
       "(['Logistic Regression',\n",
       "  'k-Nearest-Neighbours',\n",
       "  'Naive Bayes',\n",
       "  'Decision Tree'],\n",
       " [0.5023940033930855, 0.5416240665283562, 0.6388319850545033, 0.5])"
      ]
     },
     "execution_count": 130,
     "metadata": {},
     "output_type": "execute_result"
    }
   ],
   "source": [
    "Model,ROC_AUC_Accuracy"
   ]
  },
  {
   "cell_type": "markdown",
   "metadata": {},
   "source": [
    "# Random Forest"
   ]
  },
  {
   "cell_type": "code",
   "execution_count": 131,
   "metadata": {},
   "outputs": [
    {
     "data": {
      "text/plain": [
       "RandomizedSearchCV(cv=5, error_score='raise-deprecating',\n",
       "                   estimator=RandomForestClassifier(bootstrap=True,\n",
       "                                                    class_weight=None,\n",
       "                                                    criterion='gini',\n",
       "                                                    max_depth=None,\n",
       "                                                    max_features='auto',\n",
       "                                                    max_leaf_nodes=None,\n",
       "                                                    min_impurity_decrease=0.0,\n",
       "                                                    min_impurity_split=None,\n",
       "                                                    min_samples_leaf=1,\n",
       "                                                    min_samples_split=2,\n",
       "                                                    min_weight_fraction_leaf=0.0,\n",
       "                                                    n_estimators='warn',\n",
       "                                                    n_jobs=None,\n",
       "                                                    oob_sc...\n",
       "                                                    random_state=None,\n",
       "                                                    verbose=0,\n",
       "                                                    warm_start=False),\n",
       "                   iid='warn', n_iter=10, n_jobs=-1,\n",
       "                   param_distributions={'criterion': ['gini', 'entropy'],\n",
       "                                        'max_depth': range(2, 10),\n",
       "                                        'max_features': ['auto', 'log2'],\n",
       "                                        'max_leaf_nodes': range(2, 10),\n",
       "                                        'n_estimators': range(10, 100, 10)},\n",
       "                   pre_dispatch='2*n_jobs', random_state=None, refit=True,\n",
       "                   return_train_score=False, scoring='recall', verbose=0)"
      ]
     },
     "execution_count": 131,
     "metadata": {},
     "output_type": "execute_result"
    }
   ],
   "source": [
    "params = {\n",
    "    \n",
    "    'n_estimators':range(10,100,10),\n",
    "    'criterion':['gini','entropy'],\n",
    "    'max_depth':range(2,10,1),\n",
    "    'max_leaf_nodes':range(2,10,1),\n",
    "    'max_features':['auto','log2']\n",
    "    \n",
    "}\n",
    "\n",
    "rf = RandomForestClassifier()\n",
    "\n",
    "rs = RandomizedSearchCV(estimator=rf,param_distributions=params,cv=5,scoring='recall',n_jobs=-1)\n",
    "rs.fit(x,y)"
   ]
  },
  {
   "cell_type": "code",
   "execution_count": 132,
   "metadata": {},
   "outputs": [
    {
     "name": "stdout",
     "output_type": "stream",
     "text": [
      "0.5\n"
     ]
    }
   ],
   "source": [
    "rf = RandomForestClassifier(**rs.best_params_)\n",
    "rf.fit(x_train,y_train)\n",
    "y_pred_rf = rf.predict(x_test)\n",
    "print(roc_auc_score(y_test,y_pred_rf))\n",
    "Model.append('Random Forest')\n",
    "ROC_AUC_Accuracy.append(roc_auc_score(y_test,y_pred_rf))"
   ]
  },
  {
   "cell_type": "code",
   "execution_count": 133,
   "metadata": {},
   "outputs": [
    {
     "name": "stdout",
     "output_type": "stream",
     "text": [
      "              precision    recall  f1-score   support\n",
      "\n",
      "           0       0.99      1.00      1.00     23304\n",
      "           1       0.00      0.00      0.00       207\n",
      "\n",
      "    accuracy                           0.99     23511\n",
      "   macro avg       0.50      0.50      0.50     23511\n",
      "weighted avg       0.98      0.99      0.99     23511\n",
      "\n"
     ]
    }
   ],
   "source": [
    "print(classification_report(y_test,y_pred_rf))"
   ]
  },
  {
   "cell_type": "code",
   "execution_count": 134,
   "metadata": {},
   "outputs": [
    {
     "name": "stdout",
     "output_type": "stream",
     "text": [
      "Confusion Matrix :\n",
      "[[23304     0]\n",
      " [  207     0]]\n",
      "Accuracy Score : 0.9911956105652673\n",
      "Report : \n",
      "              precision    recall  f1-score   support\n",
      "\n",
      "           0       0.99      1.00      1.00     23304\n",
      "           1       0.00      0.00      0.00       207\n",
      "\n",
      "    accuracy                           0.99     23511\n",
      "   macro avg       0.50      0.50      0.50     23511\n",
      "weighted avg       0.98      0.99      0.99     23511\n",
      "\n"
     ]
    }
   ],
   "source": [
    "results=confusion_matrix(y_test,y_pred_rf)\n",
    "print ('Confusion Matrix :')\n",
    "print(results) \n",
    "print ('Accuracy Score :',accuracy_score(y_test,y_pred_rf) )\n",
    "print ('Report : ')\n",
    "print (classification_report(y_test,y_pred_rf) )\n"
   ]
  },
  {
   "cell_type": "code",
   "execution_count": 135,
   "metadata": {},
   "outputs": [],
   "source": [
    "#Function to visulise confusion matrix\n",
    "def draw_cm( y_test,y_pred_rf ):\n",
    "    cm = metrics.confusion_matrix( y_test,y_pred_rf )\n",
    "    sns.heatmap(cm, annot=True,  fmt='.2f', xticklabels = [\"0\", \"1\"] , yticklabels = [\"0\", \"1\"] , cmap=\"Greens\")\n",
    "    plt.ylabel('True label')\n",
    "    plt.xlabel('Predicted label')\n",
    "    plt.show()\n"
   ]
  },
  {
   "cell_type": "code",
   "execution_count": 136,
   "metadata": {},
   "outputs": [
    {
     "name": "stdout",
     "output_type": "stream",
     "text": [
      "confusion matrix = \n",
      " [[23304     0]\n",
      " [  207     0]]\n"
     ]
    }
   ],
   "source": [
    "#Confusion matrix\n",
    "from sklearn.metrics import classification_report,confusion_matrix\n",
    "mat_pruned = confusion_matrix(y_test,y_pred_rf )\n",
    "print(\"confusion matrix = \\n\",mat_pruned)\n"
   ]
  },
  {
   "cell_type": "code",
   "execution_count": 137,
   "metadata": {},
   "outputs": [],
   "source": [
    "def create_conf_mat(y_test,y_pred_rf):\n",
    "    if (len(y_test.shape) != len(y_pred_rf.shape) == 1):\n",
    "        return print('Arrays entered are not 1-D.\\nPlease enter the correctly sized sets.')\n",
    "    elif (y_test.shape != y_pred_rf.shape):\n",
    "        return print('Number of values inside the Arrays are not equal to each other.\\nPlease make sure the array has the same number of instances.')\n",
    "    else:\n",
    "        # Set Metrics\n",
    "        test_crosstb_comp = pd.crosstab(index = y_test,\n",
    "                                       columns = y_pred_rf)\n",
    "        # Changed for Future deprecation of as_matrix\n",
    "        test_crosstb = test_crosstb_comp.values\n",
    "        return test_crosstb\n"
   ]
  },
  {
   "cell_type": "code",
   "execution_count": 138,
   "metadata": {},
   "outputs": [
    {
     "data": {
      "image/png": "[encoded data removed]",
      "text/plain": [
       "<Figure size 432x288 with 1 Axes>"
      ]
     },
     "metadata": {},
     "output_type": "display_data"
    }
   ],
   "source": [
    "conf_mat = create_conf_mat(y_test,y_pred_rf)\n",
    "sns.heatmap(conf_mat, annot=True, fmt='d', cbar=False)\n",
    "plt.xlabel('Predicted Values')\n",
    "plt.ylabel('Actual Values')\n",
    "plt.title('Actual vs. Predicted Confusion Matrix')\n",
    "plt.show()\n"
   ]
  },
  {
   "cell_type": "code",
   "execution_count": 139,
   "metadata": {},
   "outputs": [],
   "source": [
    "#Get predicted probabilites\n",
    "target_probailities_log = rf.predict_proba(x_test)[:,1]"
   ]
  },
  {
   "cell_type": "code",
   "execution_count": 140,
   "metadata": {},
   "outputs": [],
   "source": [
    "#Create true and false positive rates\n",
    "log_false_positive_rate,log_true_positive_rate,log_threshold = roc_curve(y_test,target_probailities_log)\n"
   ]
  },
  {
   "cell_type": "code",
   "execution_count": 141,
   "metadata": {},
   "outputs": [
    {
     "data": {
      "image/png": "[encoded data removed]",
      "text/plain": [
       "<Figure size 720x432 with 1 Axes>"
      ]
     },
     "metadata": {},
     "output_type": "display_data"
    }
   ],
   "source": [
    "#Plot ROC Curve\n",
    "sns.set_style('whitegrid')\n",
    "plt.figure(figsize=(10,6))\n",
    "plt.title('Reciver Operating Characterstic Curve')\n",
    "plt.plot(log_false_positive_rate,log_true_positive_rate)\n",
    "plt.plot([0,1],ls='--')\n",
    "plt.plot([0,0],[1,0],c='.5')\n",
    "plt.plot([1,1],c='.5')\n",
    "plt.ylabel('True positive rate')\n",
    "plt.xlabel('False positive rate')\n",
    "plt.show()"
   ]
  },
  {
   "cell_type": "code",
   "execution_count": 142,
   "metadata": {},
   "outputs": [
    {
     "data": {
      "text/plain": [
       "(['Logistic Regression',\n",
       "  'k-Nearest-Neighbours',\n",
       "  'Naive Bayes',\n",
       "  'Decision Tree',\n",
       "  'Random Forest'],\n",
       " [0.5023940033930855, 0.5416240665283562, 0.6388319850545033, 0.5, 0.5])"
      ]
     },
     "execution_count": 142,
     "metadata": {},
     "output_type": "execute_result"
    }
   ],
   "source": [
    "Model,ROC_AUC_Accuracy"
   ]
  },
  {
   "cell_type": "markdown",
   "metadata": {},
   "source": [
    "# Now using the Bagging Classifiers"
   ]
  },
  {
   "cell_type": "code",
   "execution_count": 143,
   "metadata": {},
   "outputs": [],
   "source": [
    "LR_Bag = BaggingClassifier(base_estimator=LR,n_estimators=100,n_jobs=-1,random_state=1)\n",
    "knn_Bag = BaggingClassifier(base_estimator=knn,n_estimators=100,n_jobs=-1,random_state=1)\n",
    "nb_Bag = BaggingClassifier(base_estimator=nb,n_estimators=100,n_jobs=-1,random_state=1)\n",
    "dt_Bag = BaggingClassifier(base_estimator=dt,n_estimators=100,n_jobs=-1,random_state=1)"
   ]
  },
  {
   "cell_type": "code",
   "execution_count": 144,
   "metadata": {},
   "outputs": [
    {
     "name": "stdout",
     "output_type": "stream",
     "text": [
      "The AUC Score for\n",
      "Bagged-LR is 0.51 with variacne of (+/-) 0.00001\n"
     ]
    }
   ],
   "source": [
    "kf = KFold(n_splits=3,shuffle=True,random_state=1)\n",
    "model = LR_Bag\n",
    "name = 'Bagged-LR'\n",
    "#for model,name in zip([LR_Bag,knn_Bag,nb_Bag,dt_Bag],['Bagged-LR','Bagged-kNN','Bagged-NB','Bagged-DT']):\n",
    "roc_acc = []\n",
    "for train,test in kf.split(x,y):\n",
    "    x_train = x[train,:]\n",
    "    x_test = x[test,:]\n",
    "    y_train = y[train]\n",
    "    y_test = y[test]\n",
    "    model.fit(x_train,y_train)\n",
    "    y_pred = model.predict(x_test)\n",
    "    score = roc_auc_score(y_test,y_pred)\n",
    "    fpr,tpr,_ = roc_curve(y_test,y_pred)\n",
    "    roc_acc.append(auc(fpr,tpr))\n",
    "Model.append(name)\n",
    "ROC_AUC_Accuracy.append(np.mean(roc_acc))\n",
    "print('The AUC Score for')\n",
    "print('%s is %0.02f with variacne of (+/-) %0.5f'%(name,np.mean(roc_acc),np.var(roc_acc,ddof=1)))"
   ]
  },
  {
   "cell_type": "code",
   "execution_count": 145,
   "metadata": {},
   "outputs": [
    {
     "name": "stdout",
     "output_type": "stream",
     "text": [
      "The AUC Score for\n",
      "Bagged-NB is 0.62 with variacne of (+/-) 0.00039\n"
     ]
    }
   ],
   "source": [
    "kf = KFold(n_splits=5,shuffle=True,random_state=1)\n",
    "model = nb_Bag\n",
    "name = 'Bagged-NB'\n",
    "#for model,name in zip([LR_Bag,knn_Bag,nb_Bag,dt_Bag],['Bagged-LR','Bagged-kNN','Bagged-NB','Bagged-DT']):\n",
    "roc_acc = []\n",
    "for train,test in kf.split(x,y):\n",
    "    x_train = x[train,:]\n",
    "    x_test = x[test,:]\n",
    "    y_train = y[train]\n",
    "    y_test = y[test]\n",
    "    model.fit(x_train,y_train)\n",
    "    y_pred = model.predict(x_test)\n",
    "    score = roc_auc_score(y_test,y_pred)\n",
    "    fpr,tpr,_ = roc_curve(y_test,y_pred)\n",
    "    roc_acc.append(auc(fpr,tpr))\n",
    "Model.append(name)\n",
    "ROC_AUC_Accuracy.append(np.mean(roc_acc))\n",
    "print('The AUC Score for')\n",
    "print('%s is %0.02f with variacne of (+/-) %0.5f'%(name,np.mean(roc_acc),np.var(roc_acc,ddof=1)))"
   ]
  },
  {
   "cell_type": "code",
   "execution_count": 146,
   "metadata": {},
   "outputs": [
    {
     "name": "stdout",
     "output_type": "stream",
     "text": [
      "The AUC Score for\n",
      "Bagged-DT is 0.50 with variacne of (+/-) 0.00000\n"
     ]
    }
   ],
   "source": [
    "kf = KFold(n_splits=3,shuffle=True,random_state=1)\n",
    "model = dt_Bag\n",
    "name = 'Bagged-DT'\n",
    "#for model,name in zip([LR_Bag,knn_Bag,nb_Bag,dt_Bag],['Bagged-LR','Bagged-kNN','Bagged-NB','Bagged-DT']):\n",
    "roc_acc = []\n",
    "for train,test in kf.split(x,y):\n",
    "    x_train = x[train,:]\n",
    "    x_test = x[test,:]\n",
    "    y_train = y[train]\n",
    "    y_test = y[test]\n",
    "    model.fit(x_train,y_train)\n",
    "    y_pred = model.predict(x_test)\n",
    "    score = roc_auc_score(y_test,y_pred)\n",
    "    fpr,tpr,_ = roc_curve(y_test,y_pred)\n",
    "    roc_acc.append(auc(fpr,tpr))\n",
    "Model.append(name)\n",
    "ROC_AUC_Accuracy.append(np.mean(roc_acc))\n",
    "print('The AUC Score for')\n",
    "print('%s is %0.02f with variacne of (+/-) %0.5f'%(name,np.mean(roc_acc),np.var(roc_acc,ddof=1)))"
   ]
  },
  {
   "cell_type": "markdown",
   "metadata": {},
   "source": [
    "## Now Moving Towards Boosting"
   ]
  },
  {
   "cell_type": "code",
   "execution_count": 147,
   "metadata": {},
   "outputs": [],
   "source": [
    "from sklearn.ensemble import AdaBoostClassifier\n",
    "from sklearn.ensemble import GradientBoostingClassifier\n",
    "from lightgbm import LGBMModel,LGBMClassifier"
   ]
  },
  {
   "cell_type": "code",
   "execution_count": 148,
   "metadata": {},
   "outputs": [],
   "source": [
    "LR_Boost = AdaBoostClassifier(base_estimator=LR,n_estimators=100,learning_rate=0.01,random_state=1)\n",
    "knn_Boost = AdaBoostClassifier(base_estimator=knn,n_estimators=100,learning_rate=0.01,random_state=1)\n",
    "nb_Boost = AdaBoostClassifier(base_estimator=nb,n_estimators=100,learning_rate=0.01,random_state=1)\n",
    "dt_Boost = AdaBoostClassifier(base_estimator=dt,n_estimators=100,learning_rate=0.01,random_state=1)\n",
    "rf_Boost = AdaBoostClassifier(base_estimator=rf,n_estimators=100,learning_rate=0.01,random_state=1)\n",
    "gb_Boost = GradientBoostingClassifier(n_estimators=100,learning_rate=0.01)\n",
    "lgbm = LGBMClassifier(objective='binary',n_estimators=100,reg_alpha=2,reg_lambda=5,random_state=1,learning_rate=0.01,is_unbalance=True)"
   ]
  },
  {
   "cell_type": "code",
   "execution_count": 149,
   "metadata": {},
   "outputs": [
    {
     "name": "stdout",
     "output_type": "stream",
     "text": [
      "The AUC Score for\n",
      "Boosted-LR is 0.50 with variacne of (+/-) 0.00000\n"
     ]
    }
   ],
   "source": [
    "kf = KFold(n_splits=5,shuffle=True,random_state=1)\n",
    "model = LR_Boost\n",
    "name = 'Boosted-LR'\n",
    "#for model,name in zip([LR_Boost,nb_Boost,dt_Boost,rf_Boost,lgbm],['Boosted-LR','Boosted-NB','Boosted-DT','Boosted - Random Forest','LGBM']):\n",
    "roc_acc = []\n",
    "for train,test in kf.split(x,y):\n",
    "    x_train = x[train,:]\n",
    "    x_test = x[test,:]\n",
    "    y_train = y[train]\n",
    "    y_test = y[test]\n",
    "    model.fit(x_train,y_train)\n",
    "    y_pred = model.predict(x_test)\n",
    "    score = roc_auc_score(y_test,y_pred)\n",
    "    fpr,tpr,_ = roc_curve(y_test,y_pred)\n",
    "    roc_acc.append(auc(fpr,tpr))\n",
    "Model.append(name)\n",
    "ROC_AUC_Accuracy.append(np.mean(roc_acc))\n",
    "print('The AUC Score for')\n",
    "print('%s is %0.02f with variacne of (+/-) %0.5f'%(name,np.mean(roc_acc),np.var(roc_acc,ddof=1)))"
   ]
  },
  {
   "cell_type": "code",
   "execution_count": 150,
   "metadata": {},
   "outputs": [
    {
     "name": "stdout",
     "output_type": "stream",
     "text": [
      "The AUC Score for\n",
      "Boosted-NB is 0.57 with variacne of (+/-) 0.00013\n"
     ]
    }
   ],
   "source": [
    "kf = KFold(n_splits=5,shuffle=True,random_state=1)\n",
    "model = nb_Boost\n",
    "name = 'Boosted-NB'\n",
    "#for model,name in zip([LR_Boost,nb_Boost,dt_Boost,rf_Boost,lgbm],['Boosted-LR','Boosted-NB','Boosted-DT','Boosted - Random Forest','LGBM']):\n",
    "roc_acc = []\n",
    "for train,test in kf.split(x,y):\n",
    "    x_train = x[train,:]\n",
    "    x_test = x[test,:]\n",
    "    y_train = y[train]\n",
    "    y_test = y[test]\n",
    "    model.fit(x_train,y_train)\n",
    "    y_pred = model.predict(x_test)\n",
    "    score = roc_auc_score(y_test,y_pred)\n",
    "    fpr,tpr,_ = roc_curve(y_test,y_pred)\n",
    "    roc_acc.append(auc(fpr,tpr))\n",
    "Model.append(name)\n",
    "ROC_AUC_Accuracy.append(np.mean(roc_acc))\n",
    "print('The AUC Score for')\n",
    "print('%s is %0.02f with variacne of (+/-) %0.5f'%(name,np.mean(roc_acc),np.var(roc_acc,ddof=1)))"
   ]
  },
  {
   "cell_type": "code",
   "execution_count": 151,
   "metadata": {},
   "outputs": [
    {
     "name": "stdout",
     "output_type": "stream",
     "text": [
      "The AUC Score for\n",
      "Boosted-DT is 0.50 with variacne of (+/-) 0.00000\n"
     ]
    }
   ],
   "source": [
    "kf = KFold(n_splits=5,shuffle=True,random_state=1)\n",
    "model = dt_Boost\n",
    "name = 'Boosted-DT'\n",
    "#for model,name in zip([LR_Boost,nb_Boost,dt_Boost,rf_Boost,lgbm],['Boosted-LR','Boosted-NB','Boosted-DT','Boosted - Random Forest','LGBM']):\n",
    "roc_acc = []\n",
    "for train,test in kf.split(x,y):\n",
    "    x_train = x[train,:]\n",
    "    x_test = x[test,:]\n",
    "    y_train = y[train]\n",
    "    y_test = y[test]\n",
    "    model.fit(x_train,y_train)\n",
    "    y_pred = model.predict(x_test)\n",
    "    score = roc_auc_score(y_test,y_pred)\n",
    "    fpr,tpr,_ = roc_curve(y_test,y_pred)\n",
    "    roc_acc.append(auc(fpr,tpr))\n",
    "Model.append(name)\n",
    "ROC_AUC_Accuracy.append(np.mean(roc_acc))\n",
    "print('The AUC Score for')\n",
    "print('%s is %0.02f with variacne of (+/-) %0.5f'%(name,np.mean(roc_acc),np.var(roc_acc,ddof=1)))"
   ]
  },
  {
   "cell_type": "code",
   "execution_count": 152,
   "metadata": {},
   "outputs": [
    {
     "name": "stdout",
     "output_type": "stream",
     "text": [
      "The AUC Score for\n",
      "LGBM is 0.79 with variacne of (+/-) 0.00048\n"
     ]
    }
   ],
   "source": [
    "kf = KFold(n_splits=5,shuffle=True,random_state=1)\n",
    "model = lgbm\n",
    "name = 'LGBM'\n",
    "#for model,name in zip([LR_Boost,nb_Boost,dt_Boost,rf_Boost,lgbm],['Boosted-LR','Boosted-NB','Boosted-DT','Boosted - Random Forest','LGBM']):\n",
    "roc_acc = []\n",
    "for train,test in kf.split(x,y):\n",
    "    x_train = x[train,:]\n",
    "    x_test = x[test,:]\n",
    "    y_train = y[train]\n",
    "    y_test = y[test]\n",
    "    model.fit(x_train,y_train)\n",
    "    y_pred = model.predict(x_test)\n",
    "    score = roc_auc_score(y_test,y_pred)\n",
    "    fpr,tpr,_ = roc_curve(y_test,y_pred)\n",
    "    roc_acc.append(auc(fpr,tpr))\n",
    "Model.append(name)\n",
    "ROC_AUC_Accuracy.append(np.mean(roc_acc))\n",
    "print('The AUC Score for')\n",
    "print('%s is %0.02f with variacne of (+/-) %0.5f'%(name,np.mean(roc_acc),np.var(roc_acc,ddof=1)))"
   ]
  },
  {
   "cell_type": "code",
   "execution_count": 153,
   "metadata": {},
   "outputs": [
    {
     "data": {
      "text/plain": [
       "(['Logistic Regression',\n",
       "  'k-Nearest-Neighbours',\n",
       "  'Naive Bayes',\n",
       "  'Decision Tree',\n",
       "  'Random Forest',\n",
       "  'Bagged-LR',\n",
       "  'Bagged-NB',\n",
       "  'Bagged-DT',\n",
       "  'Boosted-LR',\n",
       "  'Boosted-NB',\n",
       "  'Boosted-DT',\n",
       "  'LGBM'],\n",
       " [0.5023940033930855,\n",
       "  0.5416240665283562,\n",
       "  0.6388319850545033,\n",
       "  0.5,\n",
       "  0.5,\n",
       "  0.5117292736427547,\n",
       "  0.6230308812767824,\n",
       "  0.5,\n",
       "  0.49999356664951106,\n",
       "  0.56672680424923,\n",
       "  0.5,\n",
       "  0.7918219073058774])"
      ]
     },
     "execution_count": 153,
     "metadata": {},
     "output_type": "execute_result"
    }
   ],
   "source": [
    "Model,ROC_AUC_Accuracy"
   ]
  },
  {
   "cell_type": "code",
   "execution_count": 154,
   "metadata": {},
   "outputs": [
    {
     "data": {
      "text/html": [
       "<div>\n",
       "<style scoped>\n",
       "    .dataframe tbody tr th:only-of-type {\n",
       "        vertical-align: middle;\n",
       "    }\n",
       "\n",
       "    .dataframe tbody tr th {\n",
       "        vertical-align: top;\n",
       "    }\n",
       "\n",
       "    .dataframe thead th {\n",
       "        text-align: right;\n",
       "    }\n",
       "</style>\n",
       "<table border=\"1\" class=\"dataframe\">\n",
       "  <thead>\n",
       "    <tr style=\"text-align: right;\">\n",
       "      <th></th>\n",
       "      <th>Model</th>\n",
       "      <th>Accuracy</th>\n",
       "    </tr>\n",
       "  </thead>\n",
       "  <tbody>\n",
       "    <tr>\n",
       "      <th>0</th>\n",
       "      <td>Logistic Regression</td>\n",
       "      <td>0.502394</td>\n",
       "    </tr>\n",
       "    <tr>\n",
       "      <th>1</th>\n",
       "      <td>k-Nearest-Neighbours</td>\n",
       "      <td>0.541624</td>\n",
       "    </tr>\n",
       "    <tr>\n",
       "      <th>2</th>\n",
       "      <td>Naive Bayes</td>\n",
       "      <td>0.638832</td>\n",
       "    </tr>\n",
       "    <tr>\n",
       "      <th>3</th>\n",
       "      <td>Decision Tree</td>\n",
       "      <td>0.500000</td>\n",
       "    </tr>\n",
       "    <tr>\n",
       "      <th>4</th>\n",
       "      <td>Random Forest</td>\n",
       "      <td>0.500000</td>\n",
       "    </tr>\n",
       "    <tr>\n",
       "      <th>5</th>\n",
       "      <td>Bagged-LR</td>\n",
       "      <td>0.511729</td>\n",
       "    </tr>\n",
       "    <tr>\n",
       "      <th>6</th>\n",
       "      <td>Bagged-NB</td>\n",
       "      <td>0.623031</td>\n",
       "    </tr>\n",
       "    <tr>\n",
       "      <th>7</th>\n",
       "      <td>Bagged-DT</td>\n",
       "      <td>0.500000</td>\n",
       "    </tr>\n",
       "    <tr>\n",
       "      <th>8</th>\n",
       "      <td>Boosted-LR</td>\n",
       "      <td>0.499994</td>\n",
       "    </tr>\n",
       "    <tr>\n",
       "      <th>9</th>\n",
       "      <td>Boosted-NB</td>\n",
       "      <td>0.566727</td>\n",
       "    </tr>\n",
       "    <tr>\n",
       "      <th>10</th>\n",
       "      <td>Boosted-DT</td>\n",
       "      <td>0.500000</td>\n",
       "    </tr>\n",
       "    <tr>\n",
       "      <th>11</th>\n",
       "      <td>LGBM</td>\n",
       "      <td>0.791822</td>\n",
       "    </tr>\n",
       "  </tbody>\n",
       "</table>\n",
       "</div>"
      ],
      "text/plain": [
       "                   Model  Accuracy\n",
       "0    Logistic Regression  0.502394\n",
       "1   k-Nearest-Neighbours  0.541624\n",
       "2            Naive Bayes  0.638832\n",
       "3          Decision Tree  0.500000\n",
       "4          Random Forest  0.500000\n",
       "5              Bagged-LR  0.511729\n",
       "6              Bagged-NB  0.623031\n",
       "7              Bagged-DT  0.500000\n",
       "8             Boosted-LR  0.499994\n",
       "9             Boosted-NB  0.566727\n",
       "10            Boosted-DT  0.500000\n",
       "11                  LGBM  0.791822"
      ]
     },
     "execution_count": 154,
     "metadata": {},
     "output_type": "execute_result"
    }
   ],
   "source": [
    "final_result = pd.DataFrame({'Model':Model,'Accuracy':ROC_AUC_Accuracy})\n",
    "final_result"
   ]
  }
 ],
 "metadata": {
  "kernelspec": {
   "display_name": "Python 3",
   "language": "python",
   "name": "python3"
  },
  "language_info": {
   "codemirror_mode": {
    "name": "ipython",
    "version": 3
   },
   "file_extension": ".py",
   "mimetype": "text/x-python",
   "name": "python",
   "nbconvert_exporter": "python",
   "pygments_lexer": "ipython3",
   "version": "3.6.6"
  }
 },
 "nbformat": 4,
 "nbformat_minor": 1
}
